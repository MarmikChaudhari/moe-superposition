{
 "cells": [
  {
   "cell_type": "code",
   "execution_count": 3,
   "id": "1adcad71",
   "metadata": {},
   "outputs": [
    {
     "name": "stdout",
     "output_type": "stream",
     "text": [
      "Enabling notebook extension jupyter-js-widgets/extension...\n",
      "      - Validating: \u001b[32mOK\u001b[0m\n",
      "Step 0: loss=0.215649, lr=0.001000\n",
      "Step 5: loss=0.035717, lr=0.001000\n",
      "Step 10: loss=0.037101, lr=0.001000\n",
      "Step 15: loss=0.144399, lr=0.001000\n",
      "Step 20: loss=0.061596, lr=0.001000\n",
      "Step 25: loss=0.095778, lr=0.001000\n",
      "Step 30: loss=0.164479, lr=0.001000\n",
      "Step 35: loss=0.133955, lr=0.001000\n",
      "Step 40: loss=0.078942, lr=0.001000\n",
      "Step 45: loss=0.061266, lr=0.001000\n",
      "Step 49: loss=0.060899, lr=0.001000\n",
      "Step 0: avg_loss=0.055903, lr=0.001000\n",
      "Step 99: avg_loss=0.041839, lr=0.001000\n"
     ]
    }
   ],
   "source": [
    "import sys\n",
    "import os\n",
    "import torch\n",
    "import numpy as np\n",
    "import matplotlib.pyplot as plt\n",
    "import matplotlib.colors as colors\n",
    "import matplotlib.patches as mpatches\n",
    "\n",
    "sys.path.append('.')\n",
    "\n",
    "%run toy-models.ipynb"
   ]
  },
  {
   "cell_type": "code",
   "execution_count": 2,
   "id": "aaa97177",
   "metadata": {},
   "outputs": [
    {
     "name": "stdout",
     "output_type": "stream",
     "text": [
      "Training model...\n",
      "Step 0: loss=0.014573, lr=0.001000\n",
      "Step 500: loss=0.010049, lr=0.001000\n",
      "Step 1000: loss=0.009955, lr=0.001000\n",
      "Step 1500: loss=0.010122, lr=0.001000\n",
      "Step 2000: loss=0.009823, lr=0.001000\n",
      "Step 2500: loss=0.009723, lr=0.001000\n",
      "Step 3000: loss=0.009903, lr=0.001000\n",
      "Step 3500: loss=0.009855, lr=0.001000\n",
      "Step 4000: loss=0.009730, lr=0.001000\n",
      "Step 4500: loss=0.010272, lr=0.001000\n",
      "Step 4999: loss=0.009867, lr=0.001000\n",
      "Gate matrix:\n",
      "Parameter containing:\n",
      "tensor([[-3.0517, -3.0444, -3.0881],\n",
      "        [ 3.0517,  3.0444,  3.0881]], requires_grad=True)\n",
      "Expert weights:\n",
      "Parameter containing:\n",
      "tensor([[[-0.2866, -0.3300],\n",
      "         [ 0.8519, -0.3795],\n",
      "         [-0.1868,  0.9296]],\n",
      "\n",
      "        [[-0.7908,  0.6067],\n",
      "         [-0.4932, -0.8696],\n",
      "         [ 0.9503, -0.3035]]], requires_grad=True)\n",
      "\n",
      "Final model parameters:\n",
      "Feature probability: 0.009999999776482582\n",
      "Importance weights: tensor([1, 1, 1])\n"
     ]
    }
   ],
   "source": [
    "\n",
    "\n",
    "# Set device\n",
    "if torch.cuda.is_available():\n",
    "  DEVICE = 'cuda'\n",
    "else:\n",
    "  DEVICE = 'cpu'\n",
    "\n",
    "config = Config(\n",
    "    n_features = 3,\n",
    "    n_hidden = 2,\n",
    "    n_experts = 2,\n",
    "    n_active_experts = 1,\n",
    "    load_balancing_loss = True,\n",
    ")\n",
    "\n",
    "# Configure importance and feature probability (sparsity)\n",
    "model = MoEModel(\n",
    "    config=config,\n",
    "    device=DEVICE,\n",
    "    importance = torch.tensor([1, 1, 1]),\n",
    "    feature_probability = torch.tensor(0.01)\n",
    ")\n",
    "\n",
    "# Train the model\n",
    "print(\"Training model...\")\n",
    "optimize(model, n_batch=512, steps=5000, print_freq=500, lr=1e-3)\n",
    "\n",
    "print(\"Gate matrix:\")\n",
    "print(model.gate)\n",
    "print(\"Expert weights:\")\n",
    "print(model.W_experts)\n",
    "\n",
    "# Print final model parameters\n",
    "print(\"\\nFinal model parameters:\")\n",
    "print(f\"Feature probability: {model.feature_probability.item()}\")\n",
    "print(f\"Importance weights: {model.importance}\")"
   ]
  }
 ],
 "metadata": {
  "kernelspec": {
   "display_name": "py311_env",
   "language": "python",
   "name": "python3"
  },
  "language_info": {
   "codemirror_mode": {
    "name": "ipython",
    "version": 3
   },
   "file_extension": ".py",
   "mimetype": "text/x-python",
   "name": "python",
   "nbconvert_exporter": "python",
   "pygments_lexer": "ipython3",
   "version": "3.11.13"
  }
 },
 "nbformat": 4,
 "nbformat_minor": 5
}
