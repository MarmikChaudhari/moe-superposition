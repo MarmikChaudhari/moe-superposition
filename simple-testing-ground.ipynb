{
 "cells": [
  {
   "cell_type": "code",
   "execution_count": null,
   "id": "1adcad71",
   "metadata": {},
   "outputs": [],
   "source": [
    "import sys\n",
    "import torch\n",
    "from model.model import Config, MoEModel\n"
   ]
  },
  {
   "cell_type": "code",
   "execution_count": 2,
   "id": "aaa97177",
   "metadata": {},
   "outputs": [
    {
     "ename": "NameError",
     "evalue": "name 'MoEModel' is not defined",
     "output_type": "error",
     "traceback": [
      "\u001b[31m---------------------------------------------------------------------------\u001b[39m",
      "\u001b[31mNameError\u001b[39m                                 Traceback (most recent call last)",
      "\u001b[36mCell\u001b[39m\u001b[36m \u001b[39m\u001b[32mIn[2]\u001b[39m\u001b[32m, line 16\u001b[39m\n\u001b[32m      7\u001b[39m config = Config(\n\u001b[32m      8\u001b[39m     n_features = \u001b[32m3\u001b[39m,\n\u001b[32m      9\u001b[39m     n_hidden = \u001b[32m2\u001b[39m,\n\u001b[32m   (...)\u001b[39m\u001b[32m     12\u001b[39m     load_balancing_loss = \u001b[38;5;28;01mTrue\u001b[39;00m,\n\u001b[32m     13\u001b[39m )\n\u001b[32m     15\u001b[39m \u001b[38;5;66;03m# Configure importance and feature probability (sparsity)\u001b[39;00m\n\u001b[32m---> \u001b[39m\u001b[32m16\u001b[39m model = \u001b[43mMoEModel\u001b[49m(\n\u001b[32m     17\u001b[39m     config=config,\n\u001b[32m     18\u001b[39m     device=DEVICE,\n\u001b[32m     19\u001b[39m     importance = torch.tensor([\u001b[32m1\u001b[39m, \u001b[32m1\u001b[39m, \u001b[32m1\u001b[39m]),\n\u001b[32m     20\u001b[39m     feature_probability = torch.tensor(\u001b[32m0.01\u001b[39m)\n\u001b[32m     21\u001b[39m )\n\u001b[32m     23\u001b[39m \u001b[38;5;66;03m# Train the model\u001b[39;00m\n\u001b[32m     24\u001b[39m \u001b[38;5;28mprint\u001b[39m(\u001b[33m\"\u001b[39m\u001b[33mTraining model...\u001b[39m\u001b[33m\"\u001b[39m)\n",
      "\u001b[31mNameError\u001b[39m: name 'MoEModel' is not defined"
     ]
    }
   ],
   "source": [
    "\n",
    "\n",
    "# Set device\n",
    "if torch.cuda.is_available():\n",
    "  DEVICE = 'cuda'\n",
    "else:\n",
    "  DEVICE = 'cpu'\n",
    "\n",
    "config = Config(\n",
    "    n_features = 3,\n",
    "    n_hidden = 2,\n",
    "    n_experts = 2,\n",
    "    n_active_experts = 1,\n",
    "    load_balancing_loss = True,\n",
    ")\n",
    "\n",
    "# Configure importance and feature probability (sparsity)\n",
    "model = MoEModel(\n",
    "    config=config,\n",
    "    device=DEVICE,\n",
    "    importance = torch.tensor([1, 1, 1]),\n",
    "    feature_probability = torch.tensor(0.01)\n",
    ")\n",
    "\n",
    "# Train the model\n",
    "print(\"Training model...\")\n",
    "optimize(model, n_batch=512, steps=5000, print_freq=500, lr=1e-3)\n",
    "\n",
    "print(\"Gate matrix:\")\n",
    "print(model.gate)\n",
    "print(\"Expert weights:\")\n",
    "print(model.W_experts)\n",
    "\n",
    "# Print final model parameters\n",
    "print(\"\\nFinal model parameters:\")\n",
    "print(f\"Feature probability: {model.feature_probability.item()}\")\n",
    "print(f\"Importance weights: {model.importance}\")"
   ]
  }
 ],
 "metadata": {
  "kernelspec": {
   "display_name": "py311_env",
   "language": "python",
   "name": "python3"
  },
  "language_info": {
   "codemirror_mode": {
    "name": "ipython",
    "version": 3
   },
   "file_extension": ".py",
   "mimetype": "text/x-python",
   "name": "python",
   "nbconvert_exporter": "python",
   "pygments_lexer": "ipython3",
   "version": "3.11.13"
  }
 },
 "nbformat": 4,
 "nbformat_minor": 5
}
