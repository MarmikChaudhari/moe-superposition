{
 "cells": [
  {
   "cell_type": "code",
   "execution_count": 5,
   "id": "1adcad71",
   "metadata": {},
   "outputs": [],
   "source": [
    "import sys\n",
    "import torch\n",
    "from model.model import Config, MoEModel, optimize\n"
   ]
  },
  {
   "cell_type": "code",
   "execution_count": 6,
   "id": "aaa97177",
   "metadata": {},
   "outputs": [
    {
     "name": "stdout",
     "output_type": "stream",
     "text": [
      "Training model...\n",
      "Step 0: loss=0.020687, lr=0.001000\n",
      "Step 500: loss=0.010072, lr=0.001000\n",
      "Step 1000: loss=0.009897, lr=0.001000\n",
      "Step 1500: loss=0.009899, lr=0.001000\n",
      "Step 2000: loss=0.009887, lr=0.001000\n",
      "Step 2500: loss=0.009858, lr=0.001000\n",
      "Step 3000: loss=0.009750, lr=0.001000\n",
      "Step 3500: loss=0.009842, lr=0.001000\n",
      "Step 4000: loss=0.009763, lr=0.001000\n",
      "Step 4500: loss=0.009741, lr=0.001000\n",
      "Step 4999: loss=0.009819, lr=0.001000\n",
      "Gate matrix:\n",
      "Parameter containing:\n",
      "tensor([[-3.0735, -3.0686, -3.0480],\n",
      "        [ 3.0735,  3.0686,  3.0480]], requires_grad=True)\n",
      "Expert weights:\n",
      "Parameter containing:\n",
      "tensor([[[-0.3367,  0.5204],\n",
      "         [ 0.1288,  0.1393],\n",
      "         [-0.8435,  0.3104]],\n",
      "\n",
      "        [[-0.7333, -0.6771],\n",
      "         [ 0.7157, -0.6990],\n",
      "         [ 0.6587,  0.7481]]], requires_grad=True)\n",
      "\n",
      "Final model parameters:\n",
      "Feature probability: 0.009999999776482582\n",
      "Importance weights: tensor([1, 1, 1])\n"
     ]
    }
   ],
   "source": [
    "\n",
    "\n",
    "# Set device\n",
    "if torch.cuda.is_available():\n",
    "  DEVICE = 'cuda'\n",
    "else:\n",
    "  DEVICE = 'cpu'\n",
    "\n",
    "config = Config(\n",
    "    n_features = 3,\n",
    "    n_hidden = 2,\n",
    "    n_experts = 2,\n",
    "    n_active_experts = 1,\n",
    "    load_balancing_loss = True,\n",
    ")\n",
    "\n",
    "# Configure importance and feature probability (sparsity)\n",
    "model = MoEModel(\n",
    "    config=config,\n",
    "    device=DEVICE,\n",
    "    importance = torch.tensor([1, 1, 1]),\n",
    "    feature_probability = torch.tensor(0.01)\n",
    ")\n",
    "\n",
    "# Train the model\n",
    "print(\"Training model...\")\n",
    "optimize(model, n_batch=512, steps=5000, print_freq=500, lr=1e-3)\n",
    "\n",
    "print(\"Gate matrix:\")\n",
    "print(model.gate)\n",
    "print(\"Expert weights:\")\n",
    "print(model.W_experts)\n",
    "\n",
    "# Print final model parameters\n",
    "print(\"\\nFinal model parameters:\")\n",
    "print(f\"Feature probability: {model.feature_probability.item()}\")\n",
    "print(f\"Importance weights: {model.importance}\")"
   ]
  }
 ],
 "metadata": {
  "kernelspec": {
   "display_name": "py311_env",
   "language": "python",
   "name": "python3"
  },
  "language_info": {
   "codemirror_mode": {
    "name": "ipython",
    "version": 3
   },
   "file_extension": ".py",
   "mimetype": "text/x-python",
   "name": "python",
   "nbconvert_exporter": "python",
   "pygments_lexer": "ipython3",
   "version": "3.11.13"
  }
 },
 "nbformat": 4,
 "nbformat_minor": 5
}
