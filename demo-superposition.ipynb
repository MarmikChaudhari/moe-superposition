{
 "cells": [
  {
   "cell_type": "code",
   "execution_count": 1,
   "id": "d97a7288",
   "metadata": {},
   "outputs": [],
   "source": [
    "from model.model import *\n",
    "from plotly.subplots import make_subplots\n",
    "import plotly.express as px\n",
    "import plotly.graph_objects as go\n",
    "import matplotlib.pyplot as plt"
   ]
  },
  {
   "cell_type": "code",
   "execution_count": 98,
   "id": "98fc3d9d",
   "metadata": {},
   "outputs": [],
   "source": [
    "config = Config(\n",
    "    n_features = 20,\n",
    "    n_hidden = 5,\n",
    "    n_experts = 4,\n",
    "    n_active_experts = 1,\n",
    "    load_balancing_loss = True,\n",
    ")\n",
    "\n",
    "\n",
    "model = MoEModel(\n",
    "    config=config,\n",
    "    device=DEVICE,\n",
    "    importance = torch.exp(torch.randn(config.n_features, generator=torch.Generator().manual_seed(42)) * 3), #0.7**torch.arange(config.n_features), #torch.linspace(0.8, 0.1, config.n_features), #torch.tensor(1),\n",
    "    feature_probability = torch.tensor(0.1)\n",
    ")"
   ]
  },
  {
   "cell_type": "code",
   "execution_count": 99,
   "id": "aa81f160",
   "metadata": {},
   "outputs": [
    {
     "name": "stdout",
     "output_type": "stream",
     "text": [
      "Step 0: loss=16.839659, lr=0.001000\n",
      "Step 1000: loss=1.680822, lr=0.001000\n",
      "Step 2000: loss=0.740856, lr=0.001000\n",
      "Step 3000: loss=0.773929, lr=0.001000\n",
      "Step 4000: loss=0.848712, lr=0.001000\n",
      "Step 5000: loss=0.581775, lr=0.001000\n",
      "Step 6000: loss=0.812468, lr=0.001000\n",
      "Step 7000: loss=1.026672, lr=0.001000\n",
      "Step 8000: loss=0.579521, lr=0.001000\n",
      "Step 9000: loss=0.354577, lr=0.001000\n",
      "Step 9999: loss=0.566039, lr=0.001000\n"
     ]
    }
   ],
   "source": [
    "optimize(model, n_batch=1024, steps=10000, print_freq=1000)"
   ]
  },
  {
   "cell_type": "code",
   "execution_count": 100,
   "id": "1db8c8f7",
   "metadata": {},
   "outputs": [],
   "source": [
    "# configs = [\n",
    "#     Config(n_features=5, n_hidden=3, n_experts=5, n_active_experts=2, load_balancing_loss=True),\n",
    "#     Config(n_features=5, n_hidden=3, n_experts=5, n_active_experts=2, load_balancing_loss=False),\n",
    "# ]\n",
    "\n",
    "# feature_probs = [torch.tensor(0.1), torch.tensor(0.2),]\n",
    "# importances = [0.9**torch.arange(5), 0.8**torch.arange(5),]\n",
    "\n",
    "# optimize_vectorized(configs, feature_probs, importances, n_batch=10, steps=100, device=DEVICE)"
   ]
  },
  {
   "cell_type": "code",
   "execution_count": 101,
   "id": "296c18b9",
   "metadata": {},
   "outputs": [],
   "source": [
    "def render_features(model):\n",
    "  cfg = model.config\n",
    "  # expert weights\n",
    "  W_exp = model.W_experts.detach()\n",
    "  W_norm = W_exp / (1e-5 + torch.linalg.norm(W_exp, 2, dim=2, keepdim=True))\n",
    "\n",
    "  interference = torch.einsum('ifh,igh->ifg', W_norm, W_exp) # (n_experts, n_features, n_features)\n",
    "  interference[:, torch.arange(cfg.n_features), torch.arange(cfg.n_features)] = 0 # set diagonal to 0\n",
    "\n",
    "  polysemanticity = torch.linalg.norm(interference, dim=-1).cpu()\n",
    "\n",
    "  if model.feature_probability.dim() == 0:\n",
    "    feature_prob_expanded = model.feature_probability.expand(cfg.n_features)\n",
    "  else:\n",
    "    feature_prob_expanded = model.feature_probability\n",
    "  net_interference = (interference**2 * feature_prob_expanded[None, None, :]).sum(-1).cpu()\n",
    "  norms = torch.linalg.norm(W_exp, 2, dim=-1).cpu()\n",
    "\n",
    "  WWT = torch.einsum('eij,ekj->eik', W_exp, W_exp).cpu() # (n_experts, n_features, n_features)\n",
    "\n",
    "  # width = weights[0].cpu()\n",
    "  # x = torch.cumsum(width+0.1, 0) - width[0]\n",
    "  x = torch.arange(cfg.n_features)\n",
    "  width = 0.9\n",
    "\n",
    "  fig = make_subplots(\n",
    "      rows=cfg.n_experts,  # Row per expert\n",
    "      cols=2,  # Column 1: bar graphs, Column 2: heatmaps\n",
    "      shared_xaxes=False,\n",
    "      vertical_spacing=0.05, # 0.05\n",
    "      horizontal_spacing=0.1,\n",
    "      subplot_titles=[f\"expert {i}\" if j == 0 else \"\" \n",
    "               for i in range(cfg.n_experts) for j in range(2)],\n",
    "    #   subplot_titles=[f\"expert {i}\" if j == 0 else f\"expert {i}\" \n",
    "                    #  for i in range(cfg.n_experts) for j in range(2)],\n",
    "  )\n",
    "  for expert_idx in range(cfg.n_experts):\n",
    "        fig.add_trace(\n",
    "          go.Bar(\n",
    "              x=x, \n",
    "              y=norms[expert_idx],\n",
    "              marker=dict(\n",
    "                  color=polysemanticity[expert_idx],\n",
    "                  cmin=0,\n",
    "                  cmax=1\n",
    "              ),\n",
    "          ),\n",
    "          row=expert_idx+1, col=1  # Left column for bar graphs\n",
    "      )\n",
    "      # Column 2: WWT heatmap for this expert\n",
    "        fig.add_trace(\n",
    "          go.Image(\n",
    "              z=plt.cm.coolwarm((1 + WWT[expert_idx].numpy())/2, bytes=True),\n",
    "              colormodel='rgba256',\n",
    "              customdata = WWT[expert_idx].numpy(),\n",
    "              hovertemplate=f'expert {expert_idx}<br>In: %{{x}}<br>Out: %{{y}}<br> weight: %{{customdata:0.2f}}'\n",
    "          ),\n",
    "          row=expert_idx+1, col=2  # Right column for heatmaps\n",
    "      )\n",
    "\n",
    "  for expert_idx in range(cfg.n_experts):\n",
    "      fig.add_vline(\n",
    "          x=(x[cfg.n_hidden-1]+x[cfg.n_hidden])/2, \n",
    "          line=dict(width=0.5),\n",
    "          row=expert_idx+1,\n",
    "          col=1,\n",
    "      )\n",
    "    \n",
    "  fig.update_layout(\n",
    "      showlegend=False, \n",
    "      width=800,  # Fixed width for 2 columns\n",
    "      height=300 * cfg.n_experts,  # Scale height with number of experts\n",
    "      margin=dict(t=50, b=20)  # Space for subplot titles\n",
    "  )\n",
    "  \n",
    "  # Show x-axes for bar graphs (column 1) and hide for heatmaps (column 2)\n",
    "  fig.update_xaxes(visible=True, col=1)\n",
    "  fig.update_xaxes(visible=False, col=2)\n",
    "  \n",
    "  fig.update_yaxes(visible=True, col=1)\n",
    "  fig.update_yaxes(visible=True, title=\"norm\", row=1, col=1)  # Only on first row\n",
    "  fig.write_html(\"demo-superposition.html\")\n",
    "\n",
    "  return fig"
   ]
  },
  {
   "cell_type": "code",
   "execution_count": 102,
   "id": "8581e2a5",
   "metadata": {},
   "outputs": [
    {
     "data": {
      "application/vnd.plotly.v1+json": {
       "config": {
        "plotlyServerURL": "https://plot.ly"
       },
       "data": [
        {
         "marker": {
          "cmax": 1,
          "cmin": 0,
          "color": {
           "bdata": "V704PAI2BT+LpIA/3TKYPxu3tD+kLoA/8COCPyV89T6iELc/DBK1P+3llj8cdbI/lbmzP2Qulz9Ef68/oy2AP3l8sj8GypM/PG6CP5HwrD8=",
           "dtype": "f4"
          }
         },
         "type": "bar",
         "x": {
          "bdata": "AAECAwQFBgcICQoLDA0ODxAREhM=",
          "dtype": "i1"
         },
         "xaxis": "x",
         "y": {
          "bdata": "eESAP8tygT96KYA/9XkePL+sUTybxjY/rSiCP/85gT8Hm14992PqO6IEXTxc7g48IAiRPCjptjuLupY8a6CAP5hiJzymavg7/uiBPxvKzjs=",
          "dtype": "f4"
         },
         "yaxis": "y"
        },
        {
         "colormodel": "rgba256",
         "customdata": {
          "bdata": "FImAP4LdXjqEOqC5WZeuuHALqDjyeh48dN06uG7Z/blQ35w7KgN4uSq9l7o9SZk5gNgmuayiH7q394O6l3zRuFGmgToYkAS6wYTVumld77qC3V46yemCP0mRQLtmTQE69H21OSCDBr8ySYI7gZ6kvOr90Drdixa7C0MoPATicTnX2vK6XNrqOuFcF7xwm/e7lrWkOli7tDnSkEs8UGcKu4Q6oLlJkUC7AVOAP4PihLv+hz07a28YPEhVzDmq0kM7TjM5vMQuv7otvTO7OZM/OxMBk7tXnZc4NG+4Og3IgL/b+h08pEOUOpQSy7r4Cxy7WZeuuGZNATqD4oS7iTXEOI1sgreJNIA7yCUSO3a3DLzFxvs4563nNwo3NDj5Mre3KnriONzzN7jZfq43W8aFO2sfgre19n84pR8Uu85KGjdwC6g49H21Of6HPTuNbIK3hbsrOYxH2LqTB0c8PvRsOy1BIToo+ZE4wMfXuHVf5zhIah05ja6rN3BlSTmAiju7rAQ/OAvexDbsRUa8iBlsOPJ6Hjwggwa/a28YPIk0gDuMR9i6/34CP9BdmTwbdfe+cZ4Ou9EM6jp/M0e7T7HBui/JkjunFmW71oSeO+PgW7sY/g066lhbO/qB9LwQVA46dN06uDJJgjtIVcw5yCUSO5MHRzzQXZk8rVqEPysOAzuhfls9zbzZO8iF4LvLy/w7JpCCPOZ/vzhn8IM87bFvO0eJCzuPFhs7CBWEv+wLpjtu2f25gZ6kvKrSQzt2twy8PvRsOxt1974rDgM7/3aCPwswozv3fXi6uyCqu4KFUTspjtm7qb6sO3mDNzo7CXu7pdcOu3HM6rtVN1c7VSqqOlDfnDvq/dA6TjM5vMXG+zgtQSE6cZ4Ou6F+Wz0LMKM7PZFBO+9yuDkXWLK5KEfJOX9zXDqMJfQ3OctSOqT0PDyHbzi2TnOZOI/SWr2X75Q5KgN4ud2LFrvELr+6563nNyj5kTjRDOo6zbzZO/d9eLrvcrg55ppWOAB4dLhasC44Epv7OFZ+EbcbUAA5F4/GOjLRtbUGaqc3yZ/au0QtKDgqvZe6C0MoPC29M7sKNzQ4wMfXuH8zR7vIheC7uyCquxdYsrkAeHS4/9A+Ofi9mLjKiae4HVoFt686V7nhDCw7Gd2Xtw9IqTdrvOQ7WHhcuD1JmTkE4nE5OZM/O/kyt7d1X+c4T7HBusvL/DuChVE7KEfJOVqwLjj4vZi4l5qfOC04sTiq5JM3go0BOSSkPrsSIR44mQvHtXe4+7u6xQ04gNgmudfa8roTAZO7KnriOEhqHTkvyZI7JpCCPCmO2bt/c1w6Epv7OMqJp7gtOLE4a1SkOepzG7hVeIY5NHOWO07/vjU8dqM4+82CvPD7sTisoh+6XNrqOledlzjc8ze4ja6rN6cWZbvmf784qb6sO4wl9DdWfhG3HVoFt6rkkzfqcxu4WbACOABoQ7e8+si4aNsUt7iPF7jmage4X7KLNrf3g7rhXBe8NG+4Otl+rjdwZUk51oSeO2fwgzx5gzc6OctSOhtQADmvOle5go0BOVV4hjkAaEO3Rn6xORBOpLq1eAo43jMIOLfdhLxPWcw4l3zRuHCb97sNyIC/W8aFO4CKO7vj4Fu77bFvOzsJe7uk9Dw8F4/GOuEMLDskpD67NHOWO7z6yLgQTqS6oEGBP1uXHrxIC5O6d0Quu9BOHztRpoE6lrWkOtv6HTxrH4K3rAQ/OBj+DTpHiQs7pdcOu4dvOLYy0bW1Gd2XtxIhHjhO/741aNsUt7V4Cjhblx68kOPaOE08AjiYiQu7vsaktxiQBLpYu7Q5pEOUOrX2fzgL3sQ26lhbO48WGztxzOq7TnOZOAZqpzcPSKk3mQvHtTx2ozi4jxe43jMIOEgLk7pNPAI4zw5xOO0GHbuCqKU0wYTVutKQSzyUEsu6pR8Uu+xFRrz6gfS8CBWEv1U3VzuP0lq9yZ/au2u85Dt3uPu7+82CvOZqB7i33YS8d0Quu5iJC7vtBh27SdmDP1RpprtpXe+6UGcKu/gLHLvOSho3iBlsOBBUDjrsC6Y7VSqqOpfvlDlELSg4WHhcuLrFDTjw+7E4X7KLNk9ZzDjQTh87vsakt4KopTRUaaa74gknOA==",
          "dtype": "f4",
          "shape": "20, 20"
         },
         "hovertemplate": "expert 0<br>In: %{x}<br>Out: %{y}<br> weight: %{customdata:0.2f}",
         "type": "image",
         "xaxis": "x2",
         "yaxis": "y2",
         "z": {
          "bdata": "swMm/93c2//c3N3/3Nzd/93c2//e29r/3Nzd/9zc3f/d3Nv/3Nzd/9zc3f/d3Nv/3Nzd/9zc3f/c3N3/3Nzd/93c2//c3N3/3Nzd/9zc3f/d3Nv/swMm/9zc3f/d3Nv/3dzb/4eq/P/d3Nv/2tzf/93c2//c3N3/3tva/93c2//c3N3/3dzb/9vc3v/c3N3/3dzb/93c2//e29r/3Nzd/9zc3f/c3N3/swMm/9zc3f/d3Nv/3tva/93c2//d3Nv/29ze/9zc3f/c3N3/3dzb/9zc3f/d3Nv/3dzb/zpMwP/e29r/3dzb/9zc3f/c3N3/3Nzd/93c2//c3N3/3dzb/9zc3f/d3Nv/3dzb/9vc3v/d3Nv/3dzb/93c2//c3N3/3dzb/9zc3f/d3Nv/3dzb/9zc3f/d3Nv/3Nzd/93c2//d3Nv/3dzb/93c2//c3N3/3dzb/9zc3f/e29r/3dzb/93c2//d3Nv/3Nzd/93c2//d3Nv/3dzb/93c2//c3N3/3dzb/93c2//b3N7/3dzb/97b2v+Hqvz/3tva/93c2//c3N3/85Z4/9/b2f+Qsv7/3Nzd/93c2//c3N3/3Nzd/93c2//c3N3/3dzb/9zc3f/d3Nv/3dzb/9nc4P/d3Nv/3Nzd/93c2//d3Nv/3dzb/97b2v/f29n/swMm/93c2//j2dP/3dzb/9zc3f/d3Nv/39vZ/93c2//f29n/3dzb/93c2//d3Nv/OkzA/93c2//c3N3/2tzf/93c2//b3N7/3dzb/5Cy/v/d3Nv/swMm/93c2//c3N3/3Nzd/93c2//c3N3/3dzb/93c2//c3N3/3Nzd/9zc3f/d3Nv/3dzb/93c2//d3Nv/29ze/93c2//d3Nv/3Nzd/+PZ0//d3Nv/3dzb/93c2//c3N3/3dzb/93c2//d3Nv/3dzb/97b2v/c3N3/3dzb/9bb5P/d3Nv/3Nzd/9zc3f/c3N3/3dzb/93c2//d3Nv/3dzb/9zc3f/d3Nv/3dzb/9zc3f/d3Nv/3dzb/9zc3f/d3Nv/3dzb/9zc3f/d3Nv/3Nzd/93c2//c3N3/3tva/9zc3f/d3Nv/3Nzd/9zc3f/c3N3/3Nzd/9zc3f/c3N3/3dzb/9zc3f/c3N3/3Nzd/9zc3f/d3Nv/3Nzd/93c2//d3Nv/3Nzd/93c2//d3Nv/3dzb/9zc3f/d3Nv/3Nzd/93c2//d3Nv/3dzb/93c2//c3N3/3dzb/93c2//d3Nv/3dzb/9zc3f/d3Nv/3Nzd/9zc3f/d3Nv/3Nzd/9zc3f/c3N3/3dzb/93c2//d3Nv/39vZ/9zc3f/d3Nv/3dzb/9zc3f/d3Nv/3dzb/9zc3f/d3Nv/3dzb/93c2//d3Nv/2tzf/93c2//c3N3/3dzb/93c2//c3N3/3dzb/9zc3f/d3Nv/3dzb/93c2//c3N3/3Nzd/93c2//c3N3/3dzb/9zc3f/c3N3/3Nzd/9zc3f/c3N3/3dzb/9zc3f/b3N7/3dzb/93c2//d3Nv/3dzb/9/b2f/d3Nv/3dzb/93c2//c3N3/3dzb/93c2//c3N3/3dzb/9zc3f/d3Nv/3dzb/9rc3//d3Nv/3Nzd/9zc3f86TMD/3dzb/9zc3f/c3N3/3dzb/9zc3f/e29r/3dzb/93c2//c3N3/3dzb/9zc3f/c3N3/swMm/9vc3v/c3N3/3Nzd/93c2//d3Nv/3dzb/97b2v/c3N3/3dzb/93c2//d3Nv/3Nzd/9zc3f/c3N3/3Nzd/93c2//d3Nv/3Nzd/93c2//b3N7/3dzb/93c2//c3N3/3Nzd/9zc3f/d3Nv/3dzb/93c2//d3Nv/3dzb/93c2//c3N3/3dzb/93c2//d3Nv/3Nzd/93c2//c3N3/3dzb/9zc3f/d3Nv/3dzb/9zc3f/d3Nv/3Nzd/97b2v/c3N3/3Nzd/9vc3v/Z3OD/OkzA/93c2//W2+T/3Nzd/93c2//c3N3/2tzf/9zc3f/a3N//3Nzd/9zc3f/c3N3/swMm/9zc3f/c3N3/3Nzd/9zc3f/d3Nv/3dzb/93c2//d3Nv/3dzb/93c2//d3Nv/3Nzd/93c2//d3Nv/3dzb/93c2//d3Nv/3Nzd/93c2//c3N3/3dzb/w==",
          "dtype": "u1",
          "shape": "20, 20, 4"
         }
        },
        {
         "marker": {
          "cmax": 1,
          "cmin": 0,
          "color": {
           "bdata": "8JAYPdaUHD+3cIE/EfmgP6ORrD8M2HU/L8iBP9D/CzwXXbE/kN2vP5c+rD9iMLM/Q3qqPwSWmz/F6qw/KtSAPw6wnj9SdbE/xa2CPwq+mD8=",
           "dtype": "f4"
          }
         },
         "type": "bar",
         "x": {
          "bdata": "AAECAwQFBgcICQoLDA0ODxAREhM=",
          "dtype": "i1"
         },
         "xaxis": "x3",
         "y": {
          "bdata": "pnKAP9KqgT96oHU/tXmMPG3AbTw1V4E/gLgcPx5NgD8JJYA9ZSvoOyTVpjx+cL48eRKRO+50ojvNsEI8vHGCP0bvizwekc87PpeAP9xYHzw=",
          "dtype": "f4"
         },
         "yaxis": "y3"
        },
        {
         "colormodel": "rgba256",
         "customdata": {
          "bdata": "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",
          "dtype": "f4",
          "shape": "20, 20"
         },
         "hovertemplate": "expert 1<br>In: %{x}<br>Out: %{y}<br> weight: %{customdata:0.2f}",
         "type": "image",
         "xaxis": "x4",
         "yaxis": "y4",
         "z": {
          "bdata": "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",
          "dtype": "u1",
          "shape": "20, 20, 4"
         }
        },
        {
         "marker": {
          "cmax": 1,
          "cmin": 0,
          "color": {
           "bdata": "cnWAP8ArQDwodYA/HFS0Pzpftj/q14A/+PmAPylZgT/cMoE/ORS2P6m6sz/XoKk/DaC1P3QgtT9sTK8/5eKEP+aLtD8Lf7Y/dYN7P2AttD8=",
           "dtype": "f4"
          }
         },
         "type": "bar",
         "x": {
          "bdata": "AAECAwQFBgcICQoLDA0ODxAREhM=",
          "dtype": "i1"
         },
         "xaxis": "x5",
         "y": {
          "bdata": "H1mBP99FgD9M9YA/fKaSOwOYOjvH34Q/WG+APzhzgD+HfXs/2YCAO6WLWTsgoJQ8Exb5O4IKfzyckp47StWAP9xD9Ts5xq07uS+BP1U8Mzs=",
          "dtype": "f4"
         },
         "yaxis": "y5"
        },
        {
         "colormodel": "rgba256",
         "customdata": {
          "bdata": "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",
          "dtype": "f4",
          "shape": "20, 20"
         },
         "hovertemplate": "expert 2<br>In: %{x}<br>Out: %{y}<br> weight: %{customdata:0.2f}",
         "type": "image",
         "xaxis": "x6",
         "yaxis": "y6",
         "z": {
          "bdata": "swMm/93c2//d3Nv/3Nzd/9zc3f/d3Nv/3Nzd/zpMwP/b3N7/3dzb/9zc3f/c3N3/3Nzd/9zc3f/d3Nv/3dzb/9zc3f/d3Nv/3tva/93c2//d3Nv/swMm/9zc3f/d3Nv/3dzb/9zc3f/d3Nv/3Nzd/9zc3f/c3N3/3Nzd/9vc3v/d3Nv/3Nzd/9zc3f/c3N3/3dzb/9zc3f/c3N3/3Nzd/93c2//c3N3/swMm/93c2//c3N3/3dzb/zpMwP/c3N3/3dzb/93c2//c3N3/29ze/93c2//b3N7/3Nzd/9zc3f/c3N3/3dzb/9zc3f/c3N3/3Nzd/93c2//d3Nv/3dzb/9zc3f/c3N3/3Nzd/93c2//d3Nv/3Nzd/9zc3f/c3N3/3dzb/9zc3f/c3N3/3dzb/9zc3f/d3Nv/3Nzd/9zc3f/c3N3/3dzb/9zc3f/c3N3/3dzb/93c2//d3Nv/3dzb/93c2//d3Nv/3dzb/93c2//d3Nv/3dzb/9zc3f/c3N3/3dzb/9zc3f/c3N3/3Nzd/93c2//c3N3/3dzb/9zc3f/d3Nv/swMm/93c2//c3N3/3Nzd/93c2//c3N3/3tva/9zc3f/e29r/3Nzd/zpMwP/d3Nv/3Nzd/9zc3f/d3Nv/3Nzd/93c2/86TMD/3Nzd/93c2//d3Nv/swMm/93c2//c3N3/3Nzd/93c2//e29r/3Nzd/97b2v/d3Nv/3dzb/93c2//c3N3/3dzb/93c2/86TMD/3Nzd/9zc3f/d3Nv/3dzb/9zc3f/d3Nv/swMm/9zc3f/c3N3/3dzb/93c2//d3Nv/3dzb/9zc3f/c3N3/3dzb/9zc3f/d3Nv/3Nzd/9vc3v/c3N3/3dzb/93c2//d3Nv/3Nzd/9zc3f/c3N3/uRYq/93c2//d3Nv/3Nzd/93c2//d3Nv/3Nzd/93c2//d3Nv/3dzb/ztNwf/c3N3/3dzb/9zc3f/d3Nv/3Nzd/93c2//d3Nv/3Nzd/9zc3f/d3Nv/3dzb/9zc3f/d3Nv/3Nzd/93c2//c3N3/3Nzd/9zc3f/d3Nv/3Nzd/93c2//c3N3/3Nzd/9zc3f/c3N3/3dzb/9zc3f/d3Nv/3dzb/93c2//c3N3/3dzb/9zc3f/d3Nv/3dzb/93c2//d3Nv/3dzb/93c2//c3N3/3Nzd/9zc3f/b3N7/29ze/9zc3f/d3Nv/3tva/97b2v/d3Nv/3Nzd/93c2//c3N3/3dzb/9zc3f/d3Nv/3dzb/9vc3v/d3Nv/3Nzd/93c2//d3Nv/3Nzd/93c2//d3Nv/3dzb/93c2//c3N3/3Nzd/93c2//d3Nv/3Nzd/93c2//c3N3/3dzb/93c2//c3N3/3dzb/93c2//c3N3/3Nzd/9zc3f/c3N3/3Nzd/9vc3v/c3N3/3dzb/97b2v/e29r/3dzb/93c2//d3Nv/3dzb/93c2//d3Nv/3dzb/93c2//b3N7/3dzb/9zc3f/c3N3/3dzb/93c2//c3N3/3Nzd/9zc3f/c3N3/3Nzd/93c2//c3N3/3Nzd/9zc3f/d3Nv/3dzb/9zc3f/d3Nv/3dzb/93c2//c3N3/3Nzd/93c2//d3Nv/3dzb/9zc3f/c3N3/3dzb/9zc3f86TMD/3dzb/9zc3f/d3Nv/3Nzd/93c2//b3N7/3dzb/9vc3v/d3Nv/swMm/9zc3f/d3Nv/3dzb/9zc3f/c3N3/3dzb/9zc3f/c3N3/3dzb/93c2//d3Nv/3dzb/93c2//c3N3/3dzb/93c2//d3Nv/3dzb/9zc3f/c3N3/3dzb/9zc3f/c3N3/3Nzd/93c2//c3N3/3dzb/93c2//c3N3/3Nzd/9zc3f/c3N3/3dzb/93c2//d3Nv/3Nzd/9zc3f/c3N3/3Nzd/93c2//c3N3/3dzb/9zc3f/d3Nv/3tva/9zc3f/c3N3/3Nzd/9zc3f/c3N3/3dzb/93c2/87TcH/3Nzd/9zc3f/d3Nv/3Nzd/9zc3f/d3Nv/3dzb/9zc3f/c3N3/swMm/93c2//d3Nv/3Nzd/9zc3f/c3N3/3Nzd/93c2//d3Nv/3Nzd/9zc3f/d3Nv/3Nzd/93c2//c3N3/3dzb/93c2//c3N3/3Nzd/93c2//d3Nv/3dzb/w==",
          "dtype": "u1",
          "shape": "20, 20, 4"
         }
        },
        {
         "marker": {
          "cmax": 1,
          "cmin": 0,
          "color": {
           "bdata": "qVrWOxWLez86qH4/bT6tP6Vmqj9ywH0/MXeBP9g6rDsC1qc/MNK0P6Lbsz8qmpU/vPyxP8cSsj+xUrQ/fLqAP+5/pz9n4LE/WSiBPzYhsD8=",
           "dtype": "f4"
          }
         },
         "type": "bar",
         "x": {
          "bdata": "AAECAwQFBgcICQoLDA0ODxAREhM=",
          "dtype": "i1"
         },
         "xaxis": "x7",
         "y": {
          "bdata": "PQmAP1AlgT9uvIA/B3peO4VHCDs1doE/rr59P34WgD8OEZM7KWiROxGXejvc1II7RUV2O5o2dztWx5I7SKV+Px/XYju9qdM77oR7P6k/djs=",
          "dtype": "f4"
         },
         "yaxis": "y7"
        },
        {
         "colormodel": "rgba256",
         "customdata": {
          "bdata": "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",
          "dtype": "f4",
          "shape": "20, 20"
         },
         "hovertemplate": "expert 3<br>In: %{x}<br>Out: %{y}<br> weight: %{customdata:0.2f}",
         "type": "image",
         "xaxis": "x8",
         "yaxis": "y8",
         "z": {
          "bdata": "swMm/93c2//d3Nv/3Nzd/9zc3f/d3Nv/3dzb/9zc3f/d3Nv/3dzb/93c2//d3Nv/3Nzd/9zc3f/c3N3/3dzb/9zc3f/c3N3/3Nzd/9zc3f/d3Nv/swMm/97b2v/d3Nv/3Nzd/9zc3f/c3N3/3Nzd/9zc3f/d3Nv/3Nzd/9zc3f/c3N3/3dzb/93c2//d3Nv/3Nzd/9zc3f87TcH/3Nzd/93c2//e29r/swMm/93c2//d3Nv/3Nzd/9zc3f/c3N3/3Nzd/9zc3f/c3N3/3dzb/9zc3f/d3Nv/3Nzd/zpMwP/d3Nv/3dzb/9vc3v/c3N3/3Nzd/93c2//d3Nv/3dzb/9zc3f/c3N3/3dzb/93c2//c3N3/3dzb/93c2//c3N3/3dzb/93c2//c3N3/3Nzd/9zc3f/d3Nv/3Nzd/93c2//c3N3/3Nzd/93c2//c3N3/3dzb/93c2//c3N3/3Nzd/9zc3f/c3N3/3Nzd/93c2//c3N3/3Nzd/93c2//c3N3/3dzb/9zc3f/d3Nv/3Nzd/93c2//c3N3/3Nzd/9zc3f/d3Nv/swMm/zpMwP/c3N3/3Nzd/9zc3f/c3N3/3dzb/9zc3f/c3N3/3dzb/93c2//d3Nv/3Nzd/9zc3f/c3N3/3dzb/9zc3f/c3N3/3dzb/9zc3f86TMD/tg0o/9zc3f/d3Nv/3dzb/93c2//c3N3/3dzb/93c2//c3N3/3dzb/9zc3f/d3Nv/3dzb/93c2//c3N3/3Nzd/9zc3f/d3Nv/3Nzd/9zc3f/c3N3/swMm/93c2//d3Nv/3dzb/93c2//c3N3/3Nzd/9zc3f/c3N3/3Nzd/93c2//d3Nv/3Nzd/93c2//c3N3/3Nzd/9zc3f/c3N3/3Nzd/93c2//d3Nv/3dzb/93c2//d3Nv/3dzb/93c2//c3N3/3Nzd/93c2//c3N3/3dzb/93c2//d3Nv/3dzb/93c2//c3N3/3dzb/9zc3f/c3N3/3dzb/93c2//d3Nv/3dzb/93c2//c3N3/3dzb/93c2//c3N3/3dzb/9zc3f/d3Nv/3Nzd/93c2//d3Nv/3Nzd/9zc3f/d3Nv/3Nzd/9zc3f/d3Nv/3dzb/93c2//d3Nv/3dzb/9zc3f/d3Nv/3Nzd/9zc3f/d3Nv/3dzb/93c2//d3Nv/3dzb/93c2//c3N3/3dzb/9zc3f/d3Nv/3dzb/9zc3f/d3Nv/3dzb/9zc3f/c3N3/3dzb/9zc3f/c3N3/3dzb/9zc3f/d3Nv/3Nzd/93c2//c3N3/3Nzd/9zc3f/c3N3/3dzb/9zc3f/c3N3/3dzb/9zc3f/d3Nv/3dzb/93c2//c3N3/3dzb/9zc3f/c3N3/3dzb/93c2//d3Nv/3dzb/93c2//c3N3/3dzb/93c2//d3Nv/3Nzd/9zc3f/d3Nv/3Nzd/9zc3f/d3Nv/3Nzd/9zc3f/c3N3/3dzb/9zc3f/c3N3/3dzb/93c2//c3N3/3dzb/9zc3f/d3Nv/3Nzd/9zc3f/d3Nv/3dzb/9zc3f/c3N3/3Nzd/9zc3f/c3N3/3dzb/9zc3f/c3N3/3dzb/93c2//d3Nv/3Nzd/9zc3f/c3N3/3dzb/93c2/86TMD/3Nzd/9zc3f/d3Nv/3dzb/9zc3f/d3Nv/3dzb/93c2//c3N3/3dzb/9zc3f/d3Nv/tQgn/9zc3f/c3N3/3Nzd/93c2//c3N3/3Nzd/93c2//c3N3/3dzb/93c2//c3N3/3Nzd/9zc3f/c3N3/3dzb/93c2//d3Nv/3dzb/93c2//c3N3/3dzb/93c2//d3Nv/3Nzd/9zc3f/c3N3/3dzb/93c2//c3N3/3Nzd/93c2//d3Nv/3dzb/93c2//d3Nv/3Nzd/93c2//d3Nv/3Nzd/9zc3f/d3Nv/3dzb/93c2//d3Nv/3Nzd/ztNwf/b3N7/3Nzd/93c2//c3N3/3dzb/93c2//d3Nv/3Nzd/93c2//d3Nv/3dzb/9zc3f/c3N3/3Nzd/93c2//d3Nv/uRYq/93c2//c3N3/3Nzd/9zc3f/d3Nv/3Nzd/9zc3f/d3Nv/3Nzd/93c2//d3Nv/3dzb/9zc3f/d3Nv/3dzb/9zc3f/d3Nv/3Nzd/93c2//d3Nv/3dzb/w==",
          "dtype": "u1",
          "shape": "20, 20, 4"
         }
        }
       ],
       "layout": {
        "annotations": [
         {
          "font": {
           "size": 16
          },
          "showarrow": false,
          "text": "expert 0",
          "x": 0.225,
          "xanchor": "center",
          "xref": "paper",
          "y": 1,
          "yanchor": "bottom",
          "yref": "paper"
         },
         {
          "font": {
           "size": 16
          },
          "showarrow": false,
          "text": "expert 1",
          "x": 0.225,
          "xanchor": "center",
          "xref": "paper",
          "y": 0.7375,
          "yanchor": "bottom",
          "yref": "paper"
         },
         {
          "font": {
           "size": 16
          },
          "showarrow": false,
          "text": "expert 2",
          "x": 0.225,
          "xanchor": "center",
          "xref": "paper",
          "y": 0.475,
          "yanchor": "bottom",
          "yref": "paper"
         },
         {
          "font": {
           "size": 16
          },
          "showarrow": false,
          "text": "expert 3",
          "x": 0.225,
          "xanchor": "center",
          "xref": "paper",
          "y": 0.2125,
          "yanchor": "bottom",
          "yref": "paper"
         }
        ],
        "height": 1200,
        "margin": {
         "b": 20,
         "t": 50
        },
        "shapes": [
         {
          "line": {
           "width": 0.5
          },
          "type": "line",
          "x0": 4.5,
          "x1": 4.5,
          "xref": "x",
          "y0": 0,
          "y1": 1,
          "yref": "y domain"
         },
         {
          "line": {
           "width": 0.5
          },
          "type": "line",
          "x0": 4.5,
          "x1": 4.5,
          "xref": "x3",
          "y0": 0,
          "y1": 1,
          "yref": "y3 domain"
         },
         {
          "line": {
           "width": 0.5
          },
          "type": "line",
          "x0": 4.5,
          "x1": 4.5,
          "xref": "x5",
          "y0": 0,
          "y1": 1,
          "yref": "y5 domain"
         },
         {
          "line": {
           "width": 0.5
          },
          "type": "line",
          "x0": 4.5,
          "x1": 4.5,
          "xref": "x7",
          "y0": 0,
          "y1": 1,
          "yref": "y7 domain"
         }
        ],
        "showlegend": false,
        "template": {
         "data": {
          "bar": [
           {
            "error_x": {
             "color": "#2a3f5f"
            },
            "error_y": {
             "color": "#2a3f5f"
            },
            "marker": {
             "line": {
              "color": "#E5ECF6",
              "width": 0.5
             },
             "pattern": {
              "fillmode": "overlay",
              "size": 10,
              "solidity": 0.2
             }
            },
            "type": "bar"
           }
          ],
          "barpolar": [
           {
            "marker": {
             "line": {
              "color": "#E5ECF6",
              "width": 0.5
             },
             "pattern": {
              "fillmode": "overlay",
              "size": 10,
              "solidity": 0.2
             }
            },
            "type": "barpolar"
           }
          ],
          "carpet": [
           {
            "aaxis": {
             "endlinecolor": "#2a3f5f",
             "gridcolor": "white",
             "linecolor": "white",
             "minorgridcolor": "white",
             "startlinecolor": "#2a3f5f"
            },
            "baxis": {
             "endlinecolor": "#2a3f5f",
             "gridcolor": "white",
             "linecolor": "white",
             "minorgridcolor": "white",
             "startlinecolor": "#2a3f5f"
            },
            "type": "carpet"
           }
          ],
          "choropleth": [
           {
            "colorbar": {
             "outlinewidth": 0,
             "ticks": ""
            },
            "type": "choropleth"
           }
          ],
          "contour": [
           {
            "colorbar": {
             "outlinewidth": 0,
             "ticks": ""
            },
            "colorscale": [
             [
              0,
              "#0d0887"
             ],
             [
              0.1111111111111111,
              "#46039f"
             ],
             [
              0.2222222222222222,
              "#7201a8"
             ],
             [
              0.3333333333333333,
              "#9c179e"
             ],
             [
              0.4444444444444444,
              "#bd3786"
             ],
             [
              0.5555555555555556,
              "#d8576b"
             ],
             [
              0.6666666666666666,
              "#ed7953"
             ],
             [
              0.7777777777777778,
              "#fb9f3a"
             ],
             [
              0.8888888888888888,
              "#fdca26"
             ],
             [
              1,
              "#f0f921"
             ]
            ],
            "type": "contour"
           }
          ],
          "contourcarpet": [
           {
            "colorbar": {
             "outlinewidth": 0,
             "ticks": ""
            },
            "type": "contourcarpet"
           }
          ],
          "heatmap": [
           {
            "colorbar": {
             "outlinewidth": 0,
             "ticks": ""
            },
            "colorscale": [
             [
              0,
              "#0d0887"
             ],
             [
              0.1111111111111111,
              "#46039f"
             ],
             [
              0.2222222222222222,
              "#7201a8"
             ],
             [
              0.3333333333333333,
              "#9c179e"
             ],
             [
              0.4444444444444444,
              "#bd3786"
             ],
             [
              0.5555555555555556,
              "#d8576b"
             ],
             [
              0.6666666666666666,
              "#ed7953"
             ],
             [
              0.7777777777777778,
              "#fb9f3a"
             ],
             [
              0.8888888888888888,
              "#fdca26"
             ],
             [
              1,
              "#f0f921"
             ]
            ],
            "type": "heatmap"
           }
          ],
          "histogram": [
           {
            "marker": {
             "pattern": {
              "fillmode": "overlay",
              "size": 10,
              "solidity": 0.2
             }
            },
            "type": "histogram"
           }
          ],
          "histogram2d": [
           {
            "colorbar": {
             "outlinewidth": 0,
             "ticks": ""
            },
            "colorscale": [
             [
              0,
              "#0d0887"
             ],
             [
              0.1111111111111111,
              "#46039f"
             ],
             [
              0.2222222222222222,
              "#7201a8"
             ],
             [
              0.3333333333333333,
              "#9c179e"
             ],
             [
              0.4444444444444444,
              "#bd3786"
             ],
             [
              0.5555555555555556,
              "#d8576b"
             ],
             [
              0.6666666666666666,
              "#ed7953"
             ],
             [
              0.7777777777777778,
              "#fb9f3a"
             ],
             [
              0.8888888888888888,
              "#fdca26"
             ],
             [
              1,
              "#f0f921"
             ]
            ],
            "type": "histogram2d"
           }
          ],
          "histogram2dcontour": [
           {
            "colorbar": {
             "outlinewidth": 0,
             "ticks": ""
            },
            "colorscale": [
             [
              0,
              "#0d0887"
             ],
             [
              0.1111111111111111,
              "#46039f"
             ],
             [
              0.2222222222222222,
              "#7201a8"
             ],
             [
              0.3333333333333333,
              "#9c179e"
             ],
             [
              0.4444444444444444,
              "#bd3786"
             ],
             [
              0.5555555555555556,
              "#d8576b"
             ],
             [
              0.6666666666666666,
              "#ed7953"
             ],
             [
              0.7777777777777778,
              "#fb9f3a"
             ],
             [
              0.8888888888888888,
              "#fdca26"
             ],
             [
              1,
              "#f0f921"
             ]
            ],
            "type": "histogram2dcontour"
           }
          ],
          "mesh3d": [
           {
            "colorbar": {
             "outlinewidth": 0,
             "ticks": ""
            },
            "type": "mesh3d"
           }
          ],
          "parcoords": [
           {
            "line": {
             "colorbar": {
              "outlinewidth": 0,
              "ticks": ""
             }
            },
            "type": "parcoords"
           }
          ],
          "pie": [
           {
            "automargin": true,
            "type": "pie"
           }
          ],
          "scatter": [
           {
            "fillpattern": {
             "fillmode": "overlay",
             "size": 10,
             "solidity": 0.2
            },
            "type": "scatter"
           }
          ],
          "scatter3d": [
           {
            "line": {
             "colorbar": {
              "outlinewidth": 0,
              "ticks": ""
             }
            },
            "marker": {
             "colorbar": {
              "outlinewidth": 0,
              "ticks": ""
             }
            },
            "type": "scatter3d"
           }
          ],
          "scattercarpet": [
           {
            "marker": {
             "colorbar": {
              "outlinewidth": 0,
              "ticks": ""
             }
            },
            "type": "scattercarpet"
           }
          ],
          "scattergeo": [
           {
            "marker": {
             "colorbar": {
              "outlinewidth": 0,
              "ticks": ""
             }
            },
            "type": "scattergeo"
           }
          ],
          "scattergl": [
           {
            "marker": {
             "colorbar": {
              "outlinewidth": 0,
              "ticks": ""
             }
            },
            "type": "scattergl"
           }
          ],
          "scattermap": [
           {
            "marker": {
             "colorbar": {
              "outlinewidth": 0,
              "ticks": ""
             }
            },
            "type": "scattermap"
           }
          ],
          "scattermapbox": [
           {
            "marker": {
             "colorbar": {
              "outlinewidth": 0,
              "ticks": ""
             }
            },
            "type": "scattermapbox"
           }
          ],
          "scatterpolar": [
           {
            "marker": {
             "colorbar": {
              "outlinewidth": 0,
              "ticks": ""
             }
            },
            "type": "scatterpolar"
           }
          ],
          "scatterpolargl": [
           {
            "marker": {
             "colorbar": {
              "outlinewidth": 0,
              "ticks": ""
             }
            },
            "type": "scatterpolargl"
           }
          ],
          "scatterternary": [
           {
            "marker": {
             "colorbar": {
              "outlinewidth": 0,
              "ticks": ""
             }
            },
            "type": "scatterternary"
           }
          ],
          "surface": [
           {
            "colorbar": {
             "outlinewidth": 0,
             "ticks": ""
            },
            "colorscale": [
             [
              0,
              "#0d0887"
             ],
             [
              0.1111111111111111,
              "#46039f"
             ],
             [
              0.2222222222222222,
              "#7201a8"
             ],
             [
              0.3333333333333333,
              "#9c179e"
             ],
             [
              0.4444444444444444,
              "#bd3786"
             ],
             [
              0.5555555555555556,
              "#d8576b"
             ],
             [
              0.6666666666666666,
              "#ed7953"
             ],
             [
              0.7777777777777778,
              "#fb9f3a"
             ],
             [
              0.8888888888888888,
              "#fdca26"
             ],
             [
              1,
              "#f0f921"
             ]
            ],
            "type": "surface"
           }
          ],
          "table": [
           {
            "cells": {
             "fill": {
              "color": "#EBF0F8"
             },
             "line": {
              "color": "white"
             }
            },
            "header": {
             "fill": {
              "color": "#C8D4E3"
             },
             "line": {
              "color": "white"
             }
            },
            "type": "table"
           }
          ]
         },
         "layout": {
          "annotationdefaults": {
           "arrowcolor": "#2a3f5f",
           "arrowhead": 0,
           "arrowwidth": 1
          },
          "autotypenumbers": "strict",
          "coloraxis": {
           "colorbar": {
            "outlinewidth": 0,
            "ticks": ""
           }
          },
          "colorscale": {
           "diverging": [
            [
             0,
             "#8e0152"
            ],
            [
             0.1,
             "#c51b7d"
            ],
            [
             0.2,
             "#de77ae"
            ],
            [
             0.3,
             "#f1b6da"
            ],
            [
             0.4,
             "#fde0ef"
            ],
            [
             0.5,
             "#f7f7f7"
            ],
            [
             0.6,
             "#e6f5d0"
            ],
            [
             0.7,
             "#b8e186"
            ],
            [
             0.8,
             "#7fbc41"
            ],
            [
             0.9,
             "#4d9221"
            ],
            [
             1,
             "#276419"
            ]
           ],
           "sequential": [
            [
             0,
             "#0d0887"
            ],
            [
             0.1111111111111111,
             "#46039f"
            ],
            [
             0.2222222222222222,
             "#7201a8"
            ],
            [
             0.3333333333333333,
             "#9c179e"
            ],
            [
             0.4444444444444444,
             "#bd3786"
            ],
            [
             0.5555555555555556,
             "#d8576b"
            ],
            [
             0.6666666666666666,
             "#ed7953"
            ],
            [
             0.7777777777777778,
             "#fb9f3a"
            ],
            [
             0.8888888888888888,
             "#fdca26"
            ],
            [
             1,
             "#f0f921"
            ]
           ],
           "sequentialminus": [
            [
             0,
             "#0d0887"
            ],
            [
             0.1111111111111111,
             "#46039f"
            ],
            [
             0.2222222222222222,
             "#7201a8"
            ],
            [
             0.3333333333333333,
             "#9c179e"
            ],
            [
             0.4444444444444444,
             "#bd3786"
            ],
            [
             0.5555555555555556,
             "#d8576b"
            ],
            [
             0.6666666666666666,
             "#ed7953"
            ],
            [
             0.7777777777777778,
             "#fb9f3a"
            ],
            [
             0.8888888888888888,
             "#fdca26"
            ],
            [
             1,
             "#f0f921"
            ]
           ]
          },
          "colorway": [
           "#636efa",
           "#EF553B",
           "#00cc96",
           "#ab63fa",
           "#FFA15A",
           "#19d3f3",
           "#FF6692",
           "#B6E880",
           "#FF97FF",
           "#FECB52"
          ],
          "font": {
           "color": "#2a3f5f"
          },
          "geo": {
           "bgcolor": "white",
           "lakecolor": "white",
           "landcolor": "#E5ECF6",
           "showlakes": true,
           "showland": true,
           "subunitcolor": "white"
          },
          "hoverlabel": {
           "align": "left"
          },
          "hovermode": "closest",
          "mapbox": {
           "style": "light"
          },
          "paper_bgcolor": "white",
          "plot_bgcolor": "#E5ECF6",
          "polar": {
           "angularaxis": {
            "gridcolor": "white",
            "linecolor": "white",
            "ticks": ""
           },
           "bgcolor": "#E5ECF6",
           "radialaxis": {
            "gridcolor": "white",
            "linecolor": "white",
            "ticks": ""
           }
          },
          "scene": {
           "xaxis": {
            "backgroundcolor": "#E5ECF6",
            "gridcolor": "white",
            "gridwidth": 2,
            "linecolor": "white",
            "showbackground": true,
            "ticks": "",
            "zerolinecolor": "white"
           },
           "yaxis": {
            "backgroundcolor": "#E5ECF6",
            "gridcolor": "white",
            "gridwidth": 2,
            "linecolor": "white",
            "showbackground": true,
            "ticks": "",
            "zerolinecolor": "white"
           },
           "zaxis": {
            "backgroundcolor": "#E5ECF6",
            "gridcolor": "white",
            "gridwidth": 2,
            "linecolor": "white",
            "showbackground": true,
            "ticks": "",
            "zerolinecolor": "white"
           }
          },
          "shapedefaults": {
           "line": {
            "color": "#2a3f5f"
           }
          },
          "ternary": {
           "aaxis": {
            "gridcolor": "white",
            "linecolor": "white",
            "ticks": ""
           },
           "baxis": {
            "gridcolor": "white",
            "linecolor": "white",
            "ticks": ""
           },
           "bgcolor": "#E5ECF6",
           "caxis": {
            "gridcolor": "white",
            "linecolor": "white",
            "ticks": ""
           }
          },
          "title": {
           "x": 0.05
          },
          "xaxis": {
           "automargin": true,
           "gridcolor": "white",
           "linecolor": "white",
           "ticks": "",
           "title": {
            "standoff": 15
           },
           "zerolinecolor": "white",
           "zerolinewidth": 2
          },
          "yaxis": {
           "automargin": true,
           "gridcolor": "white",
           "linecolor": "white",
           "ticks": "",
           "title": {
            "standoff": 15
           },
           "zerolinecolor": "white",
           "zerolinewidth": 2
          }
         }
        },
        "width": 800,
        "xaxis": {
         "anchor": "y",
         "domain": [
          0,
          0.45
         ],
         "visible": true
        },
        "xaxis2": {
         "anchor": "y2",
         "domain": [
          0.55,
          1
         ],
         "visible": false
        },
        "xaxis3": {
         "anchor": "y3",
         "domain": [
          0,
          0.45
         ],
         "visible": true
        },
        "xaxis4": {
         "anchor": "y4",
         "domain": [
          0.55,
          1
         ],
         "visible": false
        },
        "xaxis5": {
         "anchor": "y5",
         "domain": [
          0,
          0.45
         ],
         "visible": true
        },
        "xaxis6": {
         "anchor": "y6",
         "domain": [
          0.55,
          1
         ],
         "visible": false
        },
        "xaxis7": {
         "anchor": "y7",
         "domain": [
          0,
          0.45
         ],
         "visible": true
        },
        "xaxis8": {
         "anchor": "y8",
         "domain": [
          0.55,
          1
         ],
         "visible": false
        },
        "yaxis": {
         "anchor": "x",
         "domain": [
          0.7875,
          1
         ],
         "title": {
          "text": "norm"
         },
         "visible": true
        },
        "yaxis2": {
         "anchor": "x2",
         "domain": [
          0.7875,
          1
         ]
        },
        "yaxis3": {
         "anchor": "x3",
         "domain": [
          0.525,
          0.7375
         ],
         "visible": true
        },
        "yaxis4": {
         "anchor": "x4",
         "domain": [
          0.525,
          0.7375
         ]
        },
        "yaxis5": {
         "anchor": "x5",
         "domain": [
          0.2625,
          0.475
         ],
         "visible": true
        },
        "yaxis6": {
         "anchor": "x6",
         "domain": [
          0.2625,
          0.475
         ]
        },
        "yaxis7": {
         "anchor": "x7",
         "domain": [
          0,
          0.2125
         ],
         "visible": true
        },
        "yaxis8": {
         "anchor": "x8",
         "domain": [
          0,
          0.2125
         ]
        }
       }
      }
     },
     "metadata": {},
     "output_type": "display_data"
    }
   ],
   "source": [
    "render_features(model)"
   ]
  },
  {
   "cell_type": "code",
   "execution_count": 17,
   "id": "fc4223ef",
   "metadata": {},
   "outputs": [],
   "source": [
    "def expert_feature_sim(model):\n",
    "    \"\"\"computes feature similarity tensor between each expert\"\"\"\n",
    "    cfg = model.config\n",
    "    W_exp = model.W_experts.detach()  # (n_experts, n_features, n_hidden)\n",
    "    W_norm = W_exp / (1e-5 + torch.linalg.norm(W_exp, 2, dim=2, keepdim=True))\n",
    "\n",
    "    # compute pairwise feature similarity\n",
    "    feature_sim = torch.einsum('ifh,jfh->ijf', W_norm, W_norm) # (n_experts, n_experts, n_features)\n",
    "    return feature_sim.cpu()"
   ]
  },
  {
   "cell_type": "code",
   "execution_count": 18,
   "id": "4d354916",
   "metadata": {},
   "outputs": [
    {
     "data": {
      "text/plain": [
       "torch.Size([8, 8, 20])"
      ]
     },
     "execution_count": 18,
     "metadata": {},
     "output_type": "execute_result"
    }
   ],
   "source": [
    "f_sim = expert_feature_sim(model)\n",
    "f_sim.shape"
   ]
  },
  {
   "cell_type": "code",
   "execution_count": 40,
   "id": "de852c91",
   "metadata": {},
   "outputs": [],
   "source": [
    "def plot_expert_pair_similarity(sim_tensor, expert1_idx, expert2_idx):\n",
    "    similarities = sim_tensor[expert1_idx, expert2_idx, :]\n",
    "    \n",
    "    fig = go.Figure()\n",
    "    \n",
    "    fig.add_trace(go.Scatter(\n",
    "        x=list(range(len(similarities))),\n",
    "        y=similarities,\n",
    "        mode='lines+markers',\n",
    "        # name='Feature Similarity',\n",
    "        line=dict(width=2),\n",
    "        marker=dict(size=6)\n",
    "    ))\n",
    "    \n",
    "    # add horizontal reference lines\n",
    "    fig.add_hline(y=0.6, line_dash=\"dash\", line_color=\"red\", opacity=0.5)\n",
    "    \n",
    "    fig.update_layout(\n",
    "        title=dict(\n",
    "            text=f'feature similarity b/w expert {expert1_idx} and expert {expert2_idx}',\n",
    "            x=0.5\n",
    "        ),\n",
    "        xaxis_title='feature index',\n",
    "        yaxis_title='cosine similarity',\n",
    "        width=800,\n",
    "        height=500,\n",
    "        showlegend=False\n",
    "    )\n",
    "    \n",
    "    fig.update_xaxes(showgrid=True, gridwidth=1, gridcolor='lightgray')\n",
    "    fig.update_yaxes(showgrid=True, gridwidth=1, gridcolor='lightgray')\n",
    "    \n",
    "    fig.show()"
   ]
  },
  {
   "cell_type": "code",
   "execution_count": 41,
   "id": "43a685aa",
   "metadata": {},
   "outputs": [
    {
     "data": {
      "application/vnd.plotly.v1+json": {
       "config": {
        "plotlyServerURL": "https://plot.ly"
       },
       "data": [
        {
         "line": {
          "width": 2
         },
         "marker": {
          "size": 6
         },
         "mode": "lines+markers",
         "type": "scatter",
         "x": [
          0,
          1,
          2,
          3,
          4,
          5,
          6,
          7,
          8,
          9,
          10,
          11,
          12,
          13,
          14,
          15,
          16,
          17,
          18,
          19
         ],
         "y": {
          "bdata": "BlybvtNZU79re5I+wOtSPzC4AD8ujvs+1dlqPhrwHr9zO0M/Xr9ePvhcVr1E5bY+4PYQP41ijr6P+2G/XI8dPwmxBz4//RU//3mPvv8C5z4=",
          "dtype": "f4"
         }
        }
       ],
       "layout": {
        "height": 500,
        "shapes": [
         {
          "line": {
           "color": "red",
           "dash": "dash"
          },
          "opacity": 0.5,
          "type": "line",
          "x0": 0,
          "x1": 1,
          "xref": "x domain",
          "y0": 0.6,
          "y1": 0.6,
          "yref": "y"
         }
        ],
        "showlegend": false,
        "template": {
         "data": {
          "bar": [
           {
            "error_x": {
             "color": "#2a3f5f"
            },
            "error_y": {
             "color": "#2a3f5f"
            },
            "marker": {
             "line": {
              "color": "#E5ECF6",
              "width": 0.5
             },
             "pattern": {
              "fillmode": "overlay",
              "size": 10,
              "solidity": 0.2
             }
            },
            "type": "bar"
           }
          ],
          "barpolar": [
           {
            "marker": {
             "line": {
              "color": "#E5ECF6",
              "width": 0.5
             },
             "pattern": {
              "fillmode": "overlay",
              "size": 10,
              "solidity": 0.2
             }
            },
            "type": "barpolar"
           }
          ],
          "carpet": [
           {
            "aaxis": {
             "endlinecolor": "#2a3f5f",
             "gridcolor": "white",
             "linecolor": "white",
             "minorgridcolor": "white",
             "startlinecolor": "#2a3f5f"
            },
            "baxis": {
             "endlinecolor": "#2a3f5f",
             "gridcolor": "white",
             "linecolor": "white",
             "minorgridcolor": "white",
             "startlinecolor": "#2a3f5f"
            },
            "type": "carpet"
           }
          ],
          "choropleth": [
           {
            "colorbar": {
             "outlinewidth": 0,
             "ticks": ""
            },
            "type": "choropleth"
           }
          ],
          "contour": [
           {
            "colorbar": {
             "outlinewidth": 0,
             "ticks": ""
            },
            "colorscale": [
             [
              0,
              "#0d0887"
             ],
             [
              0.1111111111111111,
              "#46039f"
             ],
             [
              0.2222222222222222,
              "#7201a8"
             ],
             [
              0.3333333333333333,
              "#9c179e"
             ],
             [
              0.4444444444444444,
              "#bd3786"
             ],
             [
              0.5555555555555556,
              "#d8576b"
             ],
             [
              0.6666666666666666,
              "#ed7953"
             ],
             [
              0.7777777777777778,
              "#fb9f3a"
             ],
             [
              0.8888888888888888,
              "#fdca26"
             ],
             [
              1,
              "#f0f921"
             ]
            ],
            "type": "contour"
           }
          ],
          "contourcarpet": [
           {
            "colorbar": {
             "outlinewidth": 0,
             "ticks": ""
            },
            "type": "contourcarpet"
           }
          ],
          "heatmap": [
           {
            "colorbar": {
             "outlinewidth": 0,
             "ticks": ""
            },
            "colorscale": [
             [
              0,
              "#0d0887"
             ],
             [
              0.1111111111111111,
              "#46039f"
             ],
             [
              0.2222222222222222,
              "#7201a8"
             ],
             [
              0.3333333333333333,
              "#9c179e"
             ],
             [
              0.4444444444444444,
              "#bd3786"
             ],
             [
              0.5555555555555556,
              "#d8576b"
             ],
             [
              0.6666666666666666,
              "#ed7953"
             ],
             [
              0.7777777777777778,
              "#fb9f3a"
             ],
             [
              0.8888888888888888,
              "#fdca26"
             ],
             [
              1,
              "#f0f921"
             ]
            ],
            "type": "heatmap"
           }
          ],
          "histogram": [
           {
            "marker": {
             "pattern": {
              "fillmode": "overlay",
              "size": 10,
              "solidity": 0.2
             }
            },
            "type": "histogram"
           }
          ],
          "histogram2d": [
           {
            "colorbar": {
             "outlinewidth": 0,
             "ticks": ""
            },
            "colorscale": [
             [
              0,
              "#0d0887"
             ],
             [
              0.1111111111111111,
              "#46039f"
             ],
             [
              0.2222222222222222,
              "#7201a8"
             ],
             [
              0.3333333333333333,
              "#9c179e"
             ],
             [
              0.4444444444444444,
              "#bd3786"
             ],
             [
              0.5555555555555556,
              "#d8576b"
             ],
             [
              0.6666666666666666,
              "#ed7953"
             ],
             [
              0.7777777777777778,
              "#fb9f3a"
             ],
             [
              0.8888888888888888,
              "#fdca26"
             ],
             [
              1,
              "#f0f921"
             ]
            ],
            "type": "histogram2d"
           }
          ],
          "histogram2dcontour": [
           {
            "colorbar": {
             "outlinewidth": 0,
             "ticks": ""
            },
            "colorscale": [
             [
              0,
              "#0d0887"
             ],
             [
              0.1111111111111111,
              "#46039f"
             ],
             [
              0.2222222222222222,
              "#7201a8"
             ],
             [
              0.3333333333333333,
              "#9c179e"
             ],
             [
              0.4444444444444444,
              "#bd3786"
             ],
             [
              0.5555555555555556,
              "#d8576b"
             ],
             [
              0.6666666666666666,
              "#ed7953"
             ],
             [
              0.7777777777777778,
              "#fb9f3a"
             ],
             [
              0.8888888888888888,
              "#fdca26"
             ],
             [
              1,
              "#f0f921"
             ]
            ],
            "type": "histogram2dcontour"
           }
          ],
          "mesh3d": [
           {
            "colorbar": {
             "outlinewidth": 0,
             "ticks": ""
            },
            "type": "mesh3d"
           }
          ],
          "parcoords": [
           {
            "line": {
             "colorbar": {
              "outlinewidth": 0,
              "ticks": ""
             }
            },
            "type": "parcoords"
           }
          ],
          "pie": [
           {
            "automargin": true,
            "type": "pie"
           }
          ],
          "scatter": [
           {
            "fillpattern": {
             "fillmode": "overlay",
             "size": 10,
             "solidity": 0.2
            },
            "type": "scatter"
           }
          ],
          "scatter3d": [
           {
            "line": {
             "colorbar": {
              "outlinewidth": 0,
              "ticks": ""
             }
            },
            "marker": {
             "colorbar": {
              "outlinewidth": 0,
              "ticks": ""
             }
            },
            "type": "scatter3d"
           }
          ],
          "scattercarpet": [
           {
            "marker": {
             "colorbar": {
              "outlinewidth": 0,
              "ticks": ""
             }
            },
            "type": "scattercarpet"
           }
          ],
          "scattergeo": [
           {
            "marker": {
             "colorbar": {
              "outlinewidth": 0,
              "ticks": ""
             }
            },
            "type": "scattergeo"
           }
          ],
          "scattergl": [
           {
            "marker": {
             "colorbar": {
              "outlinewidth": 0,
              "ticks": ""
             }
            },
            "type": "scattergl"
           }
          ],
          "scattermap": [
           {
            "marker": {
             "colorbar": {
              "outlinewidth": 0,
              "ticks": ""
             }
            },
            "type": "scattermap"
           }
          ],
          "scattermapbox": [
           {
            "marker": {
             "colorbar": {
              "outlinewidth": 0,
              "ticks": ""
             }
            },
            "type": "scattermapbox"
           }
          ],
          "scatterpolar": [
           {
            "marker": {
             "colorbar": {
              "outlinewidth": 0,
              "ticks": ""
             }
            },
            "type": "scatterpolar"
           }
          ],
          "scatterpolargl": [
           {
            "marker": {
             "colorbar": {
              "outlinewidth": 0,
              "ticks": ""
             }
            },
            "type": "scatterpolargl"
           }
          ],
          "scatterternary": [
           {
            "marker": {
             "colorbar": {
              "outlinewidth": 0,
              "ticks": ""
             }
            },
            "type": "scatterternary"
           }
          ],
          "surface": [
           {
            "colorbar": {
             "outlinewidth": 0,
             "ticks": ""
            },
            "colorscale": [
             [
              0,
              "#0d0887"
             ],
             [
              0.1111111111111111,
              "#46039f"
             ],
             [
              0.2222222222222222,
              "#7201a8"
             ],
             [
              0.3333333333333333,
              "#9c179e"
             ],
             [
              0.4444444444444444,
              "#bd3786"
             ],
             [
              0.5555555555555556,
              "#d8576b"
             ],
             [
              0.6666666666666666,
              "#ed7953"
             ],
             [
              0.7777777777777778,
              "#fb9f3a"
             ],
             [
              0.8888888888888888,
              "#fdca26"
             ],
             [
              1,
              "#f0f921"
             ]
            ],
            "type": "surface"
           }
          ],
          "table": [
           {
            "cells": {
             "fill": {
              "color": "#EBF0F8"
             },
             "line": {
              "color": "white"
             }
            },
            "header": {
             "fill": {
              "color": "#C8D4E3"
             },
             "line": {
              "color": "white"
             }
            },
            "type": "table"
           }
          ]
         },
         "layout": {
          "annotationdefaults": {
           "arrowcolor": "#2a3f5f",
           "arrowhead": 0,
           "arrowwidth": 1
          },
          "autotypenumbers": "strict",
          "coloraxis": {
           "colorbar": {
            "outlinewidth": 0,
            "ticks": ""
           }
          },
          "colorscale": {
           "diverging": [
            [
             0,
             "#8e0152"
            ],
            [
             0.1,
             "#c51b7d"
            ],
            [
             0.2,
             "#de77ae"
            ],
            [
             0.3,
             "#f1b6da"
            ],
            [
             0.4,
             "#fde0ef"
            ],
            [
             0.5,
             "#f7f7f7"
            ],
            [
             0.6,
             "#e6f5d0"
            ],
            [
             0.7,
             "#b8e186"
            ],
            [
             0.8,
             "#7fbc41"
            ],
            [
             0.9,
             "#4d9221"
            ],
            [
             1,
             "#276419"
            ]
           ],
           "sequential": [
            [
             0,
             "#0d0887"
            ],
            [
             0.1111111111111111,
             "#46039f"
            ],
            [
             0.2222222222222222,
             "#7201a8"
            ],
            [
             0.3333333333333333,
             "#9c179e"
            ],
            [
             0.4444444444444444,
             "#bd3786"
            ],
            [
             0.5555555555555556,
             "#d8576b"
            ],
            [
             0.6666666666666666,
             "#ed7953"
            ],
            [
             0.7777777777777778,
             "#fb9f3a"
            ],
            [
             0.8888888888888888,
             "#fdca26"
            ],
            [
             1,
             "#f0f921"
            ]
           ],
           "sequentialminus": [
            [
             0,
             "#0d0887"
            ],
            [
             0.1111111111111111,
             "#46039f"
            ],
            [
             0.2222222222222222,
             "#7201a8"
            ],
            [
             0.3333333333333333,
             "#9c179e"
            ],
            [
             0.4444444444444444,
             "#bd3786"
            ],
            [
             0.5555555555555556,
             "#d8576b"
            ],
            [
             0.6666666666666666,
             "#ed7953"
            ],
            [
             0.7777777777777778,
             "#fb9f3a"
            ],
            [
             0.8888888888888888,
             "#fdca26"
            ],
            [
             1,
             "#f0f921"
            ]
           ]
          },
          "colorway": [
           "#636efa",
           "#EF553B",
           "#00cc96",
           "#ab63fa",
           "#FFA15A",
           "#19d3f3",
           "#FF6692",
           "#B6E880",
           "#FF97FF",
           "#FECB52"
          ],
          "font": {
           "color": "#2a3f5f"
          },
          "geo": {
           "bgcolor": "white",
           "lakecolor": "white",
           "landcolor": "#E5ECF6",
           "showlakes": true,
           "showland": true,
           "subunitcolor": "white"
          },
          "hoverlabel": {
           "align": "left"
          },
          "hovermode": "closest",
          "mapbox": {
           "style": "light"
          },
          "paper_bgcolor": "white",
          "plot_bgcolor": "#E5ECF6",
          "polar": {
           "angularaxis": {
            "gridcolor": "white",
            "linecolor": "white",
            "ticks": ""
           },
           "bgcolor": "#E5ECF6",
           "radialaxis": {
            "gridcolor": "white",
            "linecolor": "white",
            "ticks": ""
           }
          },
          "scene": {
           "xaxis": {
            "backgroundcolor": "#E5ECF6",
            "gridcolor": "white",
            "gridwidth": 2,
            "linecolor": "white",
            "showbackground": true,
            "ticks": "",
            "zerolinecolor": "white"
           },
           "yaxis": {
            "backgroundcolor": "#E5ECF6",
            "gridcolor": "white",
            "gridwidth": 2,
            "linecolor": "white",
            "showbackground": true,
            "ticks": "",
            "zerolinecolor": "white"
           },
           "zaxis": {
            "backgroundcolor": "#E5ECF6",
            "gridcolor": "white",
            "gridwidth": 2,
            "linecolor": "white",
            "showbackground": true,
            "ticks": "",
            "zerolinecolor": "white"
           }
          },
          "shapedefaults": {
           "line": {
            "color": "#2a3f5f"
           }
          },
          "ternary": {
           "aaxis": {
            "gridcolor": "white",
            "linecolor": "white",
            "ticks": ""
           },
           "baxis": {
            "gridcolor": "white",
            "linecolor": "white",
            "ticks": ""
           },
           "bgcolor": "#E5ECF6",
           "caxis": {
            "gridcolor": "white",
            "linecolor": "white",
            "ticks": ""
           }
          },
          "title": {
           "x": 0.05
          },
          "xaxis": {
           "automargin": true,
           "gridcolor": "white",
           "linecolor": "white",
           "ticks": "",
           "title": {
            "standoff": 15
           },
           "zerolinecolor": "white",
           "zerolinewidth": 2
          },
          "yaxis": {
           "automargin": true,
           "gridcolor": "white",
           "linecolor": "white",
           "ticks": "",
           "title": {
            "standoff": 15
           },
           "zerolinecolor": "white",
           "zerolinewidth": 2
          }
         }
        },
        "title": {
         "text": "feature similarity b/w expert 0 and expert 1",
         "x": 0.5
        },
        "width": 800,
        "xaxis": {
         "gridcolor": "lightgray",
         "gridwidth": 1,
         "showgrid": true,
         "title": {
          "text": "feature index"
         }
        },
        "yaxis": {
         "gridcolor": "lightgray",
         "gridwidth": 1,
         "showgrid": true,
         "title": {
          "text": "cosine similarity"
         }
        }
       }
      }
     },
     "metadata": {},
     "output_type": "display_data"
    }
   ],
   "source": [
    "plot_expert_pair_similarity(f_sim, 0, 1)"
   ]
  },
  {
   "cell_type": "code",
   "execution_count": null,
   "id": "541b4731",
   "metadata": {},
   "outputs": [],
   "source": [
    "def feature_redundancy(sim_tensor):\n",
    "    n_experts, _, n_features = sim_tensor.shape\n",
    "    \n",
    "    # initialize redundancy scores\n",
    "    redundancy_scores = torch.zeros(n_features)\n",
    "    \n",
    "    # for each feature, compute redundancy across all expert pairs\n",
    "    for feature_idx in range(n_features):\n",
    "        total_similarity = 0.0\n",
    "        num_pairs = 0\n",
    "        \n",
    "        # sum absolute similarities across all expert pairs (excluding diagonal)\n",
    "        for e1 in range(n_experts):\n",
    "            for e2 in range(n_experts):\n",
    "                if e1 != e2:  # exclude self-similarity\n",
    "                    total_similarity += abs(sim_tensor[e1, e2, feature_idx])\n",
    "                    num_pairs += 1\n",
    "        \n",
    "        # compute redundancy score: average absolute similarity across pairs\n",
    "        # normalized by (E-1) where E is number of experts\n",
    "        redundancy_scores[feature_idx] = total_similarity / (n_experts * (n_experts - 1))\n",
    "    \n",
    "    return redundancy_scores"
   ]
  },
  {
   "cell_type": "code",
   "execution_count": 32,
   "id": "41b86ec3",
   "metadata": {},
   "outputs": [
    {
     "data": {
      "text/plain": [
       "tensor([0.3487, 0.3415, 0.3518, 0.3413, 0.3630, 0.3780, 0.3961, 0.4109, 0.3526,\n",
       "        0.4289, 0.3271, 0.5459, 0.4342, 0.3408, 0.4075, 0.4206, 0.3544, 0.3514,\n",
       "        0.3497, 0.3299])"
      ]
     },
     "execution_count": 32,
     "metadata": {},
     "output_type": "execute_result"
    }
   ],
   "source": [
    "feature_redundancy(f_sim)"
   ]
  },
  {
   "cell_type": "code",
   "execution_count": 35,
   "id": "232e09a9",
   "metadata": {},
   "outputs": [],
   "source": [
    "def expert_feat_dimensionality(model, expert_idx):\n",
    "    \"\"\"\n",
    "    compute expert-specific feature dimensionality for a given expert.\n",
    "    \n",
    "    for feature i in expert e, dimensionality is defined as:\n",
    "    D_i,e = ||W_e,i||^2 / (sum_{j=1}^{n_features} (W_e,i · W_e,j)^2)\n",
    "    \n",
    "    where:\n",
    "    - W_e,i is the weight vector for feature i in expert e\n",
    "    - W_e,i / ||W_e,i||_2 is the unit vector\n",
    "    \n",
    "    this measures how much 'space' feature i occupies within expert e,\n",
    "    accounting for interference from other features in that same expert.\n",
    "    \"\"\"\n",
    "    W_expert = model.W_experts[expert_idx]  # shape: [n_features, n_hidden]\n",
    "    \n",
    "    n_features = W_expert.shape[0]\n",
    "    dimensionalities = torch.zeros(n_features)\n",
    "    \n",
    "    for i in range(n_features):\n",
    "        W_ei = W_expert[i] \n",
    "        \n",
    "        # compute ||W_e,i||^2 (squared norm)\n",
    "        norm_squared = torch.sum(W_ei**2)\n",
    "        \n",
    "        denominator = 0.0\n",
    "        for j in range(n_features):\n",
    "            W_ej = W_expert[j]  # shape: [n_hidden]\n",
    "            dot_product = torch.sum(W_ei * W_ej)\n",
    "            denominator += dot_product**2\n",
    "        \n",
    "        # compute dimensionality\n",
    "        if denominator > 0:\n",
    "            dimensionalities[i] = norm_squared / denominator\n",
    "        else:\n",
    "            dimensionalities[i] = 0.0\n",
    "    \n",
    "    return dimensionalities"
   ]
  },
  {
   "cell_type": "code",
   "execution_count": 39,
   "id": "ffcf5ae9",
   "metadata": {},
   "outputs": [
    {
     "data": {
      "text/plain": [
       "tensor([0.7638, 0.7665, 0.7708, 0.5216, 0.7008, 1.0181, 0.4755, 0.6947, 0.5449,\n",
       "        0.6731, 0.4936, 0.6997, 0.6203, 0.8021, 0.6099, 0.6730, 0.6912, 0.5017,\n",
       "        0.6382, 0.7751], grad_fn=<CopySlices>)"
      ]
     },
     "execution_count": 39,
     "metadata": {},
     "output_type": "execute_result"
    }
   ],
   "source": [
    "expert_feat_dimensionality(model, 0)"
   ]
  },
  {
   "cell_type": "code",
   "execution_count": null,
   "id": "28031da5",
   "metadata": {},
   "outputs": [],
   "source": []
  }
 ],
 "metadata": {
  "kernelspec": {
   "display_name": ".venv",
   "language": "python",
   "name": "python3"
  },
  "language_info": {
   "codemirror_mode": {
    "name": "ipython",
    "version": 3
   },
   "file_extension": ".py",
   "mimetype": "text/x-python",
   "name": "python",
   "nbconvert_exporter": "python",
   "pygments_lexer": "ipython3",
   "version": "3.13.1"
  }
 },
 "nbformat": 4,
 "nbformat_minor": 5
}
