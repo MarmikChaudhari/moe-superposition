{
 "cells": [
  {
   "cell_type": "code",
   "execution_count": 1,
   "id": "d97a7288",
   "metadata": {},
   "outputs": [],
   "source": [
    "from model.model import *\n",
    "from plotly.subplots import make_subplots\n",
    "import plotly.express as px\n",
    "import plotly.graph_objects as go\n",
    "import matplotlib.pyplot as plt"
   ]
  },
  {
   "cell_type": "code",
   "execution_count": 31,
   "id": "98fc3d9d",
   "metadata": {},
   "outputs": [],
   "source": [
    "config = Config(\n",
    "    n_features = 20,\n",
    "    n_hidden = 5,\n",
    "    n_experts = 4,\n",
    "    n_active_experts = 1,\n",
    "    load_balancing_loss = True,\n",
    ")\n",
    "\n",
    "model = MoEModel(\n",
    "    config=config,\n",
    "    device=DEVICE,\n",
    "    importance = 0.7**torch.arange(config.n_features),\n",
    "    feature_probability = torch.tensor(0.1)\n",
    ")"
   ]
  },
  {
   "cell_type": "code",
   "execution_count": 32,
   "id": "aa81f160",
   "metadata": {},
   "outputs": [
    {
     "name": "stdout",
     "output_type": "stream",
     "text": [
      "Step 0: loss=0.103726, lr=0.001000\n",
      "Step 1000: loss=0.023843, lr=0.001000\n",
      "Step 2000: loss=0.023010, lr=0.001000\n",
      "Step 3000: loss=0.019490, lr=0.001000\n",
      "Step 4000: loss=0.018620, lr=0.001000\n",
      "Step 4999: loss=0.018397, lr=0.001000\n"
     ]
    }
   ],
   "source": [
    "optimize(model, n_batch=1024, steps=5000, print_freq=1000)"
   ]
  },
  {
   "cell_type": "code",
   "execution_count": 33,
   "id": "1db8c8f7",
   "metadata": {},
   "outputs": [],
   "source": [
    "# configs = [\n",
    "#     Config(n_features=5, n_hidden=3, n_experts=5, n_active_experts=2, load_balancing_loss=True),\n",
    "#     Config(n_features=5, n_hidden=3, n_experts=5, n_active_experts=2, load_balancing_loss=False),\n",
    "# ]\n",
    "\n",
    "# feature_probs = [torch.tensor(0.1), torch.tensor(0.2),]\n",
    "# importances = [0.9**torch.arange(5), 0.8**torch.arange(5),]\n",
    "\n",
    "# optimize_vectorized(configs, feature_probs, importances, n_batch=10, steps=100, device=DEVICE)"
   ]
  },
  {
   "cell_type": "code",
   "execution_count": 38,
   "id": "296c18b9",
   "metadata": {},
   "outputs": [],
   "source": [
    "def render_features(model):\n",
    "  cfg = model.config\n",
    "  # expert weights\n",
    "  W_exp = model.W_experts.detach()\n",
    "  W_norm = W_exp / (1e-5 + torch.linalg.norm(W_exp, 2, dim=2, keepdim=True))\n",
    "\n",
    "  interference = torch.einsum('ifh,igh->ifg', W_norm, W_exp) # (n_experts, n_features, n_features)\n",
    "  interference[:, torch.arange(cfg.n_features), torch.arange(cfg.n_features)] = 0 # set diagonal to 0\n",
    "\n",
    "  polysemanticity = torch.linalg.norm(interference, dim=-1).cpu()\n",
    "\n",
    "  if model.feature_probability.dim() == 0:\n",
    "    feature_prob_expanded = model.feature_probability.expand(cfg.n_features)\n",
    "  else:\n",
    "    feature_prob_expanded = model.feature_probability\n",
    "  net_interference = (interference**2 * feature_prob_expanded[None, None, :]).sum(-1).cpu()\n",
    "  norms = torch.linalg.norm(W_exp, 2, dim=-1).cpu()\n",
    "\n",
    "  WtW = torch.einsum('eij,eik->ejk', W_exp, W_exp).cpu() # (n_experts, n_features, n_features)\n",
    "\n",
    "  # width = weights[0].cpu()\n",
    "  # x = torch.cumsum(width+0.1, 0) - width[0]\n",
    "  x = torch.arange(cfg.n_features)\n",
    "  width = 0.9\n",
    "\n",
    "  fig = make_subplots(\n",
    "      rows=2,  # Row 1: norms, Row 2: WtW matrices\n",
    "      cols=cfg.n_experts,  # One column per expert\n",
    "      shared_xaxes=True,\n",
    "      vertical_spacing=0.02,\n",
    "      horizontal_spacing=0.1,\n",
    "      subplot_titles=[f\"expert {i}\" for i in range(cfg.n_experts)],\n",
    "    #   row_heights=[0.5, 0.5]\n",
    "  )\n",
    "  for expert_idx in range(cfg.n_experts):\n",
    "      fig.add_trace(\n",
    "          go.Bar(\n",
    "              y=x, \n",
    "              x=norms[expert_idx],\n",
    "              orientation='h',\n",
    "              marker=dict(\n",
    "                  color=polysemanticity[expert_idx],\n",
    "                  cmin=0,\n",
    "                  cmax=1\n",
    "              ),\n",
    "          ),\n",
    "          row=1, col=expert_idx+1  # +1 because plotly is 1-indexed\n",
    "      )\n",
    "      # Row 2: WtW heatmap for this expert\n",
    "      fig.add_trace(\n",
    "          go.Image(\n",
    "              z=plt.cm.coolwarm((1 + WtW[expert_idx].numpy())/2, bytes=True),\n",
    "              colormodel='rgba256',\n",
    "              customdata=WtW[expert_idx].numpy(),\n",
    "              hovertemplate=f'Expert {expert_idx}<br>In: %{{x}}<br>Out: %{{y}}<br>Weight: %{{customdata:0.2f}}'\n",
    "          ),\n",
    "          row=2, col=expert_idx+1\n",
    "      )\n",
    "\n",
    "  for expert_idx in range(cfg.n_experts):\n",
    "      fig.add_hline(\n",
    "          y=(x[cfg.n_hidden-1]+x[cfg.n_hidden])/2, \n",
    "          line=dict(width=0.5),\n",
    "          col=expert_idx+1,\n",
    "          row=1,\n",
    "      )\n",
    "    \n",
    "  fig.update_layout(\n",
    "      showlegend=False, \n",
    "      width=200 * cfg.n_experts,  # Scale width with number of experts\n",
    "      height=300,  # Increase height for 2 rows\n",
    "      margin=dict(t=30, b=0)  # Space for subplot titles\n",
    "  )\n",
    "  fig.update_xaxes(visible=False)\n",
    "  fig.update_yaxes(visible=False)\n",
    "\n",
    "  return fig"
   ]
  },
  {
   "cell_type": "code",
   "execution_count": 39,
   "id": "8581e2a5",
   "metadata": {},
   "outputs": [
    {
     "data": {
      "application/vnd.plotly.v1+json": {
       "config": {
        "plotlyServerURL": "https://plot.ly"
       },
       "data": [
        {
         "marker": {
          "cmax": 1,
          "cmin": 0,
          "color": [
           0.9537208,
           0.93179625,
           0.9999804,
           0.3993093,
           1.1461083,
           0.9886974,
           1.0033762,
           1.0041158,
           1.3471516,
           1.0388429,
           1.47342,
           1.5109049,
           1.436413,
           1.4153154,
           1.4829288,
           1.4760531,
           1.4813803,
           1.4563342,
           1.436502,
           1.4403952
          ]
         },
         "orientation": "h",
         "type": "bar",
         "x": [
          1.0265337,
          1.0744286,
          1.1449608,
          1.0092543,
          0.9983322,
          1.0383669,
          1.0040866,
          1.003229,
          0.006426664,
          0.98827326,
          0.020433482,
          0.03210729,
          0.02964191,
          0.02323748,
          0.010327862,
          0.019644296,
          0.028847368,
          0.015530653,
          0.011112317,
          0.020275777
         ],
         "xaxis": "x",
         "y": [
          0,
          1,
          2,
          3,
          4,
          5,
          6,
          7,
          8,
          9,
          10,
          11,
          12,
          13,
          14,
          15,
          16,
          17,
          18,
          19
         ],
         "yaxis": "y"
        },
        {
         "colormodel": "rgba256",
         "customdata": [
          [
           2.0355096,
           0.12261234,
           0.08347619,
           -0.0315433,
           -0.2555605
          ],
          [
           0.12261234,
           2.1094813,
           -0.12469246,
           -0.05122853,
           0.03969554
          ],
          [
           0.08347619,
           -0.12469246,
           1.8292234,
           -0.031368848,
           0.41598055
          ],
          [
           -0.0315433,
           -0.05122853,
           -0.031368848,
           2.0453393,
           0.09332563
          ],
          [
           -0.2555605,
           0.03969554,
           0.41598055,
           0.09332563,
           1.5893688
          ]
         ],
         "hovertemplate": "Expert 0<br>In: %{x}<br>Out: %{y}<br>Weight: %{customdata:0.2f}",
         "type": "image",
         "xaxis": "x5",
         "yaxis": "y5",
         "z": [
          [
           [
            179,
            3,
            38,
            255
           ],
           [
            235,
            211,
            198,
            255
           ],
           [
            231,
            214,
            205,
            255
           ],
           [
            216,
            219,
            225,
            255
           ],
           [
            183,
            207,
            249,
            255
           ]
          ],
          [
           [
            235,
            211,
            198,
            255
           ],
           [
            179,
            3,
            38,
            255
           ],
           [
            204,
            216,
            237,
            255
           ],
           [
            214,
            219,
            228,
            255
           ],
           [
            226,
            217,
            212,
            255
           ]
          ],
          [
           [
            231,
            214,
            205,
            255
           ],
           [
            204,
            216,
            237,
            255
           ],
           [
            179,
            3,
            38,
            255
           ],
           [
            216,
            219,
            225,
            255
           ],
           [
            246,
            169,
            138,
            255
           ]
          ],
          [
           [
            216,
            219,
            225,
            255
           ],
           [
            214,
            219,
            228,
            255
           ],
           [
            216,
            219,
            225,
            255
           ],
           [
            179,
            3,
            38,
            255
           ],
           [
            231,
            214,
            204,
            255
           ]
          ],
          [
           [
            183,
            207,
            249,
            255
           ],
           [
            226,
            217,
            212,
            255
           ],
           [
            246,
            169,
            138,
            255
           ],
           [
            231,
            214,
            204,
            255
           ],
           [
            179,
            3,
            38,
            255
           ]
          ]
         ]
        },
        {
         "marker": {
          "cmax": 1,
          "cmin": 0,
          "color": [
           0.04693101,
           0.99134636,
           0.92495775,
           1.0266447,
           1.0051684,
           1.0164376,
           1.0094651,
           1.0208,
           1.1061065,
           1.4071608,
           1.4488692,
           1.4480598,
           1.4318,
           1.4499179,
           1.457258,
           1.4515239,
           1.4501283,
           1.450332,
           1.4520423,
           1.4547703
          ]
         },
         "orientation": "h",
         "type": "bar",
         "x": [
          1.0022631,
          1.016423,
          1.0209256,
          1.0355431,
          1.0087926,
          0.991249,
          1.0045395,
          0.92535406,
          0.9500013,
          0.38422486,
          0.063225694,
          0.01369786,
          0.016209915,
          0.013547823,
          0.034157656,
          0.030069485,
          0.01789017,
          0.010965292,
          0.015897866,
          0.020383619
         ],
         "xaxis": "x2",
         "y": [
          0,
          1,
          2,
          3,
          4,
          5,
          6,
          7,
          8,
          9,
          10,
          11,
          12,
          13,
          14,
          15,
          16,
          17,
          18,
          19
         ],
         "yaxis": "y2"
        },
        {
         "colormodel": "rgba256",
         "customdata": [
          [
           1.8621329,
           0.20475057,
           -0.09787704,
           -0.27059087,
           0.10396804
          ],
          [
           0.20475057,
           1.6228217,
           0.22494872,
           0.37125048,
           -0.10322675
          ],
          [
           -0.09787704,
           0.22494872,
           1.9821728,
           -0.09705705,
           0.012993134
          ],
          [
           -0.27059087,
           0.37125048,
           -0.09705705,
           1.6381692,
           0.1284636
          ],
          [
           0.10396804,
           -0.10322675,
           0.012993134,
           0.1284636,
           1.9705479
          ]
         ],
         "hovertemplate": "Expert 1<br>In: %{x}<br>Out: %{y}<br>Weight: %{customdata:0.2f}",
         "type": "image",
         "xaxis": "x6",
         "yaxis": "y6",
         "z": [
          [
           [
            179,
            3,
            38,
            255
           ],
           [
            242,
            201,
            181,
            255
           ],
           [
            207,
            217,
            234,
            255
           ],
           [
            180,
            205,
            250,
            255
           ],
           [
            233,
            212,
            201,
            255
           ]
          ],
          [
           [
            242,
            201,
            181,
            255
           ],
           [
            179,
            3,
            38,
            255
           ],
           [
            242,
            199,
            178,
            255
           ],
           [
            247,
            177,
            148,
            255
           ],
           [
            206,
            217,
            235,
            255
           ]
          ],
          [
           [
            207,
            217,
            234,
            255
           ],
           [
            242,
            199,
            178,
            255
           ],
           [
            179,
            3,
            38,
            255
           ],
           [
            207,
            217,
            234,
            255
           ],
           [
            222,
            219,
            218,
            255
           ]
          ],
          [
           [
            180,
            205,
            250,
            255
           ],
           [
            247,
            177,
            148,
            255
           ],
           [
            207,
            217,
            234,
            255
           ],
           [
            179,
            3,
            38,
            255
           ],
           [
            236,
            210,
            196,
            255
           ]
          ],
          [
           [
            233,
            212,
            201,
            255
           ],
           [
            206,
            217,
            235,
            255
           ],
           [
            222,
            219,
            218,
            255
           ],
           [
            236,
            210,
            196,
            255
           ],
           [
            179,
            3,
            38,
            255
           ]
          ]
         ]
        },
        {
         "marker": {
          "cmax": 1,
          "cmin": 0,
          "color": [
           1.0036654,
           0.25842768,
           1.0065969,
           1.0053847,
           0.37010777,
           1.0019275,
           1.0168629,
           1.0125309,
           1.0734894,
           1.0005863,
           1.2085986,
           1.3592815,
           1.421022,
           1.2879374,
           1.0691627,
           1.0660621,
           1.2419966,
           1.1864557,
           1.0800054,
           1.1421722
          ]
         },
         "orientation": "h",
         "type": "bar",
         "x": [
          1.0065364,
          1.0121639,
          1.003599,
          1.0160524,
          1.0284892,
          1.0107578,
          1.0044717,
          1.0001155,
          0.033520952,
          0.45734552,
          0.02669916,
          0.014805635,
          0.018277649,
          0.0075483005,
          0.024423417,
          0.017618876,
          0.0072390977,
          0.008051588,
          0.0064039333,
          0.01125415
         ],
         "xaxis": "x3",
         "y": [
          0,
          1,
          2,
          3,
          4,
          5,
          6,
          7,
          8,
          9,
          10,
          11,
          12,
          13,
          14,
          15,
          16,
          17,
          18,
          19
         ],
         "yaxis": "y3"
        },
        {
         "colormodel": "rgba256",
         "customdata": [
          [
           1.5627794,
           -0.08696935,
           -0.26360247,
           -0.29230192,
           -0.134077
          ],
          [
           -0.08696935,
           1.3436357,
           0.25094646,
           0.07456142,
           -0.2627237
          ],
          [
           -0.26360247,
           0.25094646,
           1.7515434,
           -0.2273807,
           0.046480335
          ],
          [
           -0.29230192,
           0.07456142,
           -0.2273807,
           1.8131369,
           -0.0353181
          ],
          [
           -0.134077,
           -0.2627237,
           0.046480335,
           -0.0353181,
           1.9074888
          ]
         ],
         "hovertemplate": "Expert 2<br>In: %{x}<br>Out: %{y}<br>Weight: %{customdata:0.2f}",
         "type": "image",
         "xaxis": "x7",
         "yaxis": "y7",
         "z": [
          [
           [
            179,
            3,
            38,
            255
           ],
           [
            208,
            218,
            233,
            255
           ],
           [
            182,
            206,
            249,
            255
           ],
           [
            176,
            203,
            251,
            255
           ],
           [
            201,
            215,
            238,
            255
           ]
          ],
          [
           [
            208,
            218,
            233,
            255
           ],
           [
            179,
            3,
            38,
            255
           ],
           [
            244,
            195,
            171,
            255
           ],
           [
            230,
            215,
            207,
            255
           ],
           [
            182,
            206,
            249,
            255
           ]
          ],
          [
           [
            182,
            206,
            249,
            255
           ],
           [
            244,
            195,
            171,
            255
           ],
           [
            179,
            3,
            38,
            255
           ],
           [
            187,
            209,
            247,
            255
           ],
           [
            226,
            217,
            212,
            255
           ]
          ],
          [
           [
            176,
            203,
            251,
            255
           ],
           [
            230,
            215,
            207,
            255
           ],
           [
            187,
            209,
            247,
            255
           ],
           [
            179,
            3,
            38,
            255
           ],
           [
            216,
            219,
            225,
            255
           ]
          ],
          [
           [
            201,
            215,
            238,
            255
           ],
           [
            182,
            206,
            249,
            255
           ],
           [
            226,
            217,
            212,
            255
           ],
           [
            216,
            219,
            225,
            255
           ],
           [
            179,
            3,
            38,
            255
           ]
          ]
         ]
        },
        {
         "marker": {
          "cmax": 1,
          "cmin": 0,
          "color": [
           0.99492115,
           0.7644752,
           1.0069778,
           0.9498444,
           1.0029917,
           0.9897309,
           1.0073065,
           1.0273869,
           1.0926254,
           1.4613513,
           1.0057739,
           1.4313941,
           1.3866535,
           1.4371042,
           1.4545014,
           1.4545981,
           1.3735299,
           1.3797392,
           1.4244661,
           1.340433
          ]
         },
         "orientation": "h",
         "type": "bar",
         "x": [
          1.0069271,
          1.0053321,
          0.99481136,
          1.0271363,
          1.0071242,
          1.0896293,
          1.0028454,
          0.9498774,
          0.98618644,
          0.08036825,
          0.76440996,
          0.015666459,
          0.007296939,
          0.007565424,
          0.0078679025,
          0.008864266,
          0.0042844713,
          0.005038209,
          0.012368009,
          0.0049227127
         ],
         "xaxis": "x4",
         "y": [
          0,
          1,
          2,
          3,
          4,
          5,
          6,
          7,
          8,
          9,
          10,
          11,
          12,
          13,
          14,
          15,
          16,
          17,
          18,
          19
         ],
         "yaxis": "y4"
        },
        {
         "colormodel": "rgba256",
         "customdata": [
          [
           2.0134332,
           0.018584112,
           0.056721106,
           -0.09327942,
           -0.0452127
          ],
          [
           0.018584112,
           1.9482021,
           0.13851398,
           -0.16089854,
           -0.058915164
          ],
          [
           0.056721106,
           0.13851398,
           1.9586422,
           0.095056966,
           -0.014566661
          ],
          [
           -0.09327942,
           -0.16089854,
           0.095056966,
           1.7930748,
           -0.0374528
          ],
          [
           -0.0452127,
           -0.058915164,
           -0.014566661,
           -0.0374528,
           2.0295212
          ]
         ],
         "hovertemplate": "Expert 3<br>In: %{x}<br>Out: %{y}<br>Weight: %{customdata:0.2f}",
         "type": "image",
         "xaxis": "x8",
         "yaxis": "y8",
         "z": [
          [
           [
            179,
            3,
            38,
            255
           ],
           [
            223,
            219,
            217,
            255
           ],
           [
            228,
            216,
            209,
            255
           ],
           [
            208,
            218,
            233,
            255
           ],
           [
            215,
            219,
            226,
            255
           ]
          ],
          [
           [
            223,
            219,
            217,
            255
           ],
           [
            179,
            3,
            38,
            255
           ],
           [
            236,
            209,
            195,
            255
           ],
           [
            198,
            214,
            241,
            255
           ],
           [
            213,
            219,
            229,
            255
           ]
          ],
          [
           [
            228,
            216,
            209,
            255
           ],
           [
            236,
            209,
            195,
            255
           ],
           [
            179,
            3,
            38,
            255
           ],
           [
            232,
            213,
            202,
            255
           ],
           [
            219,
            220,
            222,
            255
           ]
          ],
          [
           [
            208,
            218,
            233,
            255
           ],
           [
            198,
            214,
            241,
            255
           ],
           [
            232,
            213,
            202,
            255
           ],
           [
            179,
            3,
            38,
            255
           ],
           [
            216,
            219,
            225,
            255
           ]
          ],
          [
           [
            215,
            219,
            226,
            255
           ],
           [
            213,
            219,
            229,
            255
           ],
           [
            219,
            220,
            222,
            255
           ],
           [
            216,
            219,
            225,
            255
           ],
           [
            179,
            3,
            38,
            255
           ]
          ]
         ]
        }
       ],
       "layout": {
        "annotations": [
         {
          "font": {
           "size": 16
          },
          "showarrow": false,
          "text": "expert 0",
          "x": 0.0875,
          "xanchor": "center",
          "xref": "paper",
          "y": 1,
          "yanchor": "bottom",
          "yref": "paper"
         },
         {
          "font": {
           "size": 16
          },
          "showarrow": false,
          "text": "expert 1",
          "x": 0.36250000000000004,
          "xanchor": "center",
          "xref": "paper",
          "y": 1,
          "yanchor": "bottom",
          "yref": "paper"
         },
         {
          "font": {
           "size": 16
          },
          "showarrow": false,
          "text": "expert 2",
          "x": 0.6375000000000001,
          "xanchor": "center",
          "xref": "paper",
          "y": 1,
          "yanchor": "bottom",
          "yref": "paper"
         },
         {
          "font": {
           "size": 16
          },
          "showarrow": false,
          "text": "expert 3",
          "x": 0.9125,
          "xanchor": "center",
          "xref": "paper",
          "y": 1,
          "yanchor": "bottom",
          "yref": "paper"
         }
        ],
        "height": 300,
        "margin": {
         "b": 0,
         "t": 30
        },
        "shapes": [
         {
          "line": {
           "width": 0.5
          },
          "type": "line",
          "x0": 0,
          "x1": 1,
          "xref": "x domain",
          "y0": 4.5,
          "y1": 4.5,
          "yref": "y"
         },
         {
          "line": {
           "width": 0.5
          },
          "type": "line",
          "x0": 0,
          "x1": 1,
          "xref": "x2 domain",
          "y0": 4.5,
          "y1": 4.5,
          "yref": "y2"
         },
         {
          "line": {
           "width": 0.5
          },
          "type": "line",
          "x0": 0,
          "x1": 1,
          "xref": "x3 domain",
          "y0": 4.5,
          "y1": 4.5,
          "yref": "y3"
         },
         {
          "line": {
           "width": 0.5
          },
          "type": "line",
          "x0": 0,
          "x1": 1,
          "xref": "x4 domain",
          "y0": 4.5,
          "y1": 4.5,
          "yref": "y4"
         }
        ],
        "showlegend": false,
        "template": {
         "data": {
          "bar": [
           {
            "error_x": {
             "color": "#2a3f5f"
            },
            "error_y": {
             "color": "#2a3f5f"
            },
            "marker": {
             "line": {
              "color": "#E5ECF6",
              "width": 0.5
             },
             "pattern": {
              "fillmode": "overlay",
              "size": 10,
              "solidity": 0.2
             }
            },
            "type": "bar"
           }
          ],
          "barpolar": [
           {
            "marker": {
             "line": {
              "color": "#E5ECF6",
              "width": 0.5
             },
             "pattern": {
              "fillmode": "overlay",
              "size": 10,
              "solidity": 0.2
             }
            },
            "type": "barpolar"
           }
          ],
          "carpet": [
           {
            "aaxis": {
             "endlinecolor": "#2a3f5f",
             "gridcolor": "white",
             "linecolor": "white",
             "minorgridcolor": "white",
             "startlinecolor": "#2a3f5f"
            },
            "baxis": {
             "endlinecolor": "#2a3f5f",
             "gridcolor": "white",
             "linecolor": "white",
             "minorgridcolor": "white",
             "startlinecolor": "#2a3f5f"
            },
            "type": "carpet"
           }
          ],
          "choropleth": [
           {
            "colorbar": {
             "outlinewidth": 0,
             "ticks": ""
            },
            "type": "choropleth"
           }
          ],
          "contour": [
           {
            "colorbar": {
             "outlinewidth": 0,
             "ticks": ""
            },
            "colorscale": [
             [
              0,
              "#0d0887"
             ],
             [
              0.1111111111111111,
              "#46039f"
             ],
             [
              0.2222222222222222,
              "#7201a8"
             ],
             [
              0.3333333333333333,
              "#9c179e"
             ],
             [
              0.4444444444444444,
              "#bd3786"
             ],
             [
              0.5555555555555556,
              "#d8576b"
             ],
             [
              0.6666666666666666,
              "#ed7953"
             ],
             [
              0.7777777777777778,
              "#fb9f3a"
             ],
             [
              0.8888888888888888,
              "#fdca26"
             ],
             [
              1,
              "#f0f921"
             ]
            ],
            "type": "contour"
           }
          ],
          "contourcarpet": [
           {
            "colorbar": {
             "outlinewidth": 0,
             "ticks": ""
            },
            "type": "contourcarpet"
           }
          ],
          "heatmap": [
           {
            "colorbar": {
             "outlinewidth": 0,
             "ticks": ""
            },
            "colorscale": [
             [
              0,
              "#0d0887"
             ],
             [
              0.1111111111111111,
              "#46039f"
             ],
             [
              0.2222222222222222,
              "#7201a8"
             ],
             [
              0.3333333333333333,
              "#9c179e"
             ],
             [
              0.4444444444444444,
              "#bd3786"
             ],
             [
              0.5555555555555556,
              "#d8576b"
             ],
             [
              0.6666666666666666,
              "#ed7953"
             ],
             [
              0.7777777777777778,
              "#fb9f3a"
             ],
             [
              0.8888888888888888,
              "#fdca26"
             ],
             [
              1,
              "#f0f921"
             ]
            ],
            "type": "heatmap"
           }
          ],
          "heatmapgl": [
           {
            "colorbar": {
             "outlinewidth": 0,
             "ticks": ""
            },
            "colorscale": [
             [
              0,
              "#0d0887"
             ],
             [
              0.1111111111111111,
              "#46039f"
             ],
             [
              0.2222222222222222,
              "#7201a8"
             ],
             [
              0.3333333333333333,
              "#9c179e"
             ],
             [
              0.4444444444444444,
              "#bd3786"
             ],
             [
              0.5555555555555556,
              "#d8576b"
             ],
             [
              0.6666666666666666,
              "#ed7953"
             ],
             [
              0.7777777777777778,
              "#fb9f3a"
             ],
             [
              0.8888888888888888,
              "#fdca26"
             ],
             [
              1,
              "#f0f921"
             ]
            ],
            "type": "heatmapgl"
           }
          ],
          "histogram": [
           {
            "marker": {
             "pattern": {
              "fillmode": "overlay",
              "size": 10,
              "solidity": 0.2
             }
            },
            "type": "histogram"
           }
          ],
          "histogram2d": [
           {
            "colorbar": {
             "outlinewidth": 0,
             "ticks": ""
            },
            "colorscale": [
             [
              0,
              "#0d0887"
             ],
             [
              0.1111111111111111,
              "#46039f"
             ],
             [
              0.2222222222222222,
              "#7201a8"
             ],
             [
              0.3333333333333333,
              "#9c179e"
             ],
             [
              0.4444444444444444,
              "#bd3786"
             ],
             [
              0.5555555555555556,
              "#d8576b"
             ],
             [
              0.6666666666666666,
              "#ed7953"
             ],
             [
              0.7777777777777778,
              "#fb9f3a"
             ],
             [
              0.8888888888888888,
              "#fdca26"
             ],
             [
              1,
              "#f0f921"
             ]
            ],
            "type": "histogram2d"
           }
          ],
          "histogram2dcontour": [
           {
            "colorbar": {
             "outlinewidth": 0,
             "ticks": ""
            },
            "colorscale": [
             [
              0,
              "#0d0887"
             ],
             [
              0.1111111111111111,
              "#46039f"
             ],
             [
              0.2222222222222222,
              "#7201a8"
             ],
             [
              0.3333333333333333,
              "#9c179e"
             ],
             [
              0.4444444444444444,
              "#bd3786"
             ],
             [
              0.5555555555555556,
              "#d8576b"
             ],
             [
              0.6666666666666666,
              "#ed7953"
             ],
             [
              0.7777777777777778,
              "#fb9f3a"
             ],
             [
              0.8888888888888888,
              "#fdca26"
             ],
             [
              1,
              "#f0f921"
             ]
            ],
            "type": "histogram2dcontour"
           }
          ],
          "mesh3d": [
           {
            "colorbar": {
             "outlinewidth": 0,
             "ticks": ""
            },
            "type": "mesh3d"
           }
          ],
          "parcoords": [
           {
            "line": {
             "colorbar": {
              "outlinewidth": 0,
              "ticks": ""
             }
            },
            "type": "parcoords"
           }
          ],
          "pie": [
           {
            "automargin": true,
            "type": "pie"
           }
          ],
          "scatter": [
           {
            "fillpattern": {
             "fillmode": "overlay",
             "size": 10,
             "solidity": 0.2
            },
            "type": "scatter"
           }
          ],
          "scatter3d": [
           {
            "line": {
             "colorbar": {
              "outlinewidth": 0,
              "ticks": ""
             }
            },
            "marker": {
             "colorbar": {
              "outlinewidth": 0,
              "ticks": ""
             }
            },
            "type": "scatter3d"
           }
          ],
          "scattercarpet": [
           {
            "marker": {
             "colorbar": {
              "outlinewidth": 0,
              "ticks": ""
             }
            },
            "type": "scattercarpet"
           }
          ],
          "scattergeo": [
           {
            "marker": {
             "colorbar": {
              "outlinewidth": 0,
              "ticks": ""
             }
            },
            "type": "scattergeo"
           }
          ],
          "scattergl": [
           {
            "marker": {
             "colorbar": {
              "outlinewidth": 0,
              "ticks": ""
             }
            },
            "type": "scattergl"
           }
          ],
          "scattermapbox": [
           {
            "marker": {
             "colorbar": {
              "outlinewidth": 0,
              "ticks": ""
             }
            },
            "type": "scattermapbox"
           }
          ],
          "scatterpolar": [
           {
            "marker": {
             "colorbar": {
              "outlinewidth": 0,
              "ticks": ""
             }
            },
            "type": "scatterpolar"
           }
          ],
          "scatterpolargl": [
           {
            "marker": {
             "colorbar": {
              "outlinewidth": 0,
              "ticks": ""
             }
            },
            "type": "scatterpolargl"
           }
          ],
          "scatterternary": [
           {
            "marker": {
             "colorbar": {
              "outlinewidth": 0,
              "ticks": ""
             }
            },
            "type": "scatterternary"
           }
          ],
          "surface": [
           {
            "colorbar": {
             "outlinewidth": 0,
             "ticks": ""
            },
            "colorscale": [
             [
              0,
              "#0d0887"
             ],
             [
              0.1111111111111111,
              "#46039f"
             ],
             [
              0.2222222222222222,
              "#7201a8"
             ],
             [
              0.3333333333333333,
              "#9c179e"
             ],
             [
              0.4444444444444444,
              "#bd3786"
             ],
             [
              0.5555555555555556,
              "#d8576b"
             ],
             [
              0.6666666666666666,
              "#ed7953"
             ],
             [
              0.7777777777777778,
              "#fb9f3a"
             ],
             [
              0.8888888888888888,
              "#fdca26"
             ],
             [
              1,
              "#f0f921"
             ]
            ],
            "type": "surface"
           }
          ],
          "table": [
           {
            "cells": {
             "fill": {
              "color": "#EBF0F8"
             },
             "line": {
              "color": "white"
             }
            },
            "header": {
             "fill": {
              "color": "#C8D4E3"
             },
             "line": {
              "color": "white"
             }
            },
            "type": "table"
           }
          ]
         },
         "layout": {
          "annotationdefaults": {
           "arrowcolor": "#2a3f5f",
           "arrowhead": 0,
           "arrowwidth": 1
          },
          "autotypenumbers": "strict",
          "coloraxis": {
           "colorbar": {
            "outlinewidth": 0,
            "ticks": ""
           }
          },
          "colorscale": {
           "diverging": [
            [
             0,
             "#8e0152"
            ],
            [
             0.1,
             "#c51b7d"
            ],
            [
             0.2,
             "#de77ae"
            ],
            [
             0.3,
             "#f1b6da"
            ],
            [
             0.4,
             "#fde0ef"
            ],
            [
             0.5,
             "#f7f7f7"
            ],
            [
             0.6,
             "#e6f5d0"
            ],
            [
             0.7,
             "#b8e186"
            ],
            [
             0.8,
             "#7fbc41"
            ],
            [
             0.9,
             "#4d9221"
            ],
            [
             1,
             "#276419"
            ]
           ],
           "sequential": [
            [
             0,
             "#0d0887"
            ],
            [
             0.1111111111111111,
             "#46039f"
            ],
            [
             0.2222222222222222,
             "#7201a8"
            ],
            [
             0.3333333333333333,
             "#9c179e"
            ],
            [
             0.4444444444444444,
             "#bd3786"
            ],
            [
             0.5555555555555556,
             "#d8576b"
            ],
            [
             0.6666666666666666,
             "#ed7953"
            ],
            [
             0.7777777777777778,
             "#fb9f3a"
            ],
            [
             0.8888888888888888,
             "#fdca26"
            ],
            [
             1,
             "#f0f921"
            ]
           ],
           "sequentialminus": [
            [
             0,
             "#0d0887"
            ],
            [
             0.1111111111111111,
             "#46039f"
            ],
            [
             0.2222222222222222,
             "#7201a8"
            ],
            [
             0.3333333333333333,
             "#9c179e"
            ],
            [
             0.4444444444444444,
             "#bd3786"
            ],
            [
             0.5555555555555556,
             "#d8576b"
            ],
            [
             0.6666666666666666,
             "#ed7953"
            ],
            [
             0.7777777777777778,
             "#fb9f3a"
            ],
            [
             0.8888888888888888,
             "#fdca26"
            ],
            [
             1,
             "#f0f921"
            ]
           ]
          },
          "colorway": [
           "#636efa",
           "#EF553B",
           "#00cc96",
           "#ab63fa",
           "#FFA15A",
           "#19d3f3",
           "#FF6692",
           "#B6E880",
           "#FF97FF",
           "#FECB52"
          ],
          "font": {
           "color": "#2a3f5f"
          },
          "geo": {
           "bgcolor": "white",
           "lakecolor": "white",
           "landcolor": "#E5ECF6",
           "showlakes": true,
           "showland": true,
           "subunitcolor": "white"
          },
          "hoverlabel": {
           "align": "left"
          },
          "hovermode": "closest",
          "mapbox": {
           "style": "light"
          },
          "paper_bgcolor": "white",
          "plot_bgcolor": "#E5ECF6",
          "polar": {
           "angularaxis": {
            "gridcolor": "white",
            "linecolor": "white",
            "ticks": ""
           },
           "bgcolor": "#E5ECF6",
           "radialaxis": {
            "gridcolor": "white",
            "linecolor": "white",
            "ticks": ""
           }
          },
          "scene": {
           "xaxis": {
            "backgroundcolor": "#E5ECF6",
            "gridcolor": "white",
            "gridwidth": 2,
            "linecolor": "white",
            "showbackground": true,
            "ticks": "",
            "zerolinecolor": "white"
           },
           "yaxis": {
            "backgroundcolor": "#E5ECF6",
            "gridcolor": "white",
            "gridwidth": 2,
            "linecolor": "white",
            "showbackground": true,
            "ticks": "",
            "zerolinecolor": "white"
           },
           "zaxis": {
            "backgroundcolor": "#E5ECF6",
            "gridcolor": "white",
            "gridwidth": 2,
            "linecolor": "white",
            "showbackground": true,
            "ticks": "",
            "zerolinecolor": "white"
           }
          },
          "shapedefaults": {
           "line": {
            "color": "#2a3f5f"
           }
          },
          "ternary": {
           "aaxis": {
            "gridcolor": "white",
            "linecolor": "white",
            "ticks": ""
           },
           "baxis": {
            "gridcolor": "white",
            "linecolor": "white",
            "ticks": ""
           },
           "bgcolor": "#E5ECF6",
           "caxis": {
            "gridcolor": "white",
            "linecolor": "white",
            "ticks": ""
           }
          },
          "title": {
           "x": 0.05
          },
          "xaxis": {
           "automargin": true,
           "gridcolor": "white",
           "linecolor": "white",
           "ticks": "",
           "title": {
            "standoff": 15
           },
           "zerolinecolor": "white",
           "zerolinewidth": 2
          },
          "yaxis": {
           "automargin": true,
           "gridcolor": "white",
           "linecolor": "white",
           "ticks": "",
           "title": {
            "standoff": 15
           },
           "zerolinecolor": "white",
           "zerolinewidth": 2
          }
         }
        },
        "width": 800,
        "xaxis": {
         "anchor": "y",
         "domain": [
          0,
          0.175
         ],
         "matches": "x5",
         "showticklabels": false,
         "visible": false
        },
        "xaxis2": {
         "anchor": "y2",
         "domain": [
          0.275,
          0.45
         ],
         "matches": "x6",
         "showticklabels": false,
         "visible": false
        },
        "xaxis3": {
         "anchor": "y3",
         "domain": [
          0.55,
          0.7250000000000001
         ],
         "matches": "x7",
         "showticklabels": false,
         "visible": false
        },
        "xaxis4": {
         "anchor": "y4",
         "domain": [
          0.825,
          1
         ],
         "matches": "x8",
         "showticklabels": false,
         "visible": false
        },
        "xaxis5": {
         "anchor": "y5",
         "domain": [
          0,
          0.175
         ],
         "visible": false
        },
        "xaxis6": {
         "anchor": "y6",
         "domain": [
          0.275,
          0.45
         ],
         "visible": false
        },
        "xaxis7": {
         "anchor": "y7",
         "domain": [
          0.55,
          0.7250000000000001
         ],
         "visible": false
        },
        "xaxis8": {
         "anchor": "y8",
         "domain": [
          0.825,
          1
         ],
         "visible": false
        },
        "yaxis": {
         "anchor": "x",
         "domain": [
          0.51,
          1
         ],
         "visible": false
        },
        "yaxis2": {
         "anchor": "x2",
         "domain": [
          0.51,
          1
         ],
         "visible": false
        },
        "yaxis3": {
         "anchor": "x3",
         "domain": [
          0.51,
          1
         ],
         "visible": false
        },
        "yaxis4": {
         "anchor": "x4",
         "domain": [
          0.51,
          1
         ],
         "visible": false
        },
        "yaxis5": {
         "anchor": "x5",
         "domain": [
          0,
          0.49
         ],
         "visible": false
        },
        "yaxis6": {
         "anchor": "x6",
         "domain": [
          0,
          0.49
         ],
         "visible": false
        },
        "yaxis7": {
         "anchor": "x7",
         "domain": [
          0,
          0.49
         ],
         "visible": false
        },
        "yaxis8": {
         "anchor": "x8",
         "domain": [
          0,
          0.49
         ],
         "visible": false
        }
       }
      }
     },
     "metadata": {},
     "output_type": "display_data"
    }
   ],
   "source": [
    "render_features(model)"
   ]
  },
  {
   "cell_type": "code",
   "execution_count": null,
   "id": "845572ac",
   "metadata": {},
   "outputs": [],
   "source": []
  }
 ],
 "metadata": {
  "kernelspec": {
   "display_name": "playground",
   "language": "python",
   "name": "python3"
  },
  "language_info": {
   "codemirror_mode": {
    "name": "ipython",
    "version": 3
   },
   "file_extension": ".py",
   "mimetype": "text/x-python",
   "name": "python",
   "nbconvert_exporter": "python",
   "pygments_lexer": "ipython3",
   "version": "3.11.8"
  }
 },
 "nbformat": 4,
 "nbformat_minor": 5
}
