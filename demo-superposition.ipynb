{
 "cells": [
  {
   "cell_type": "code",
   "execution_count": null,
   "id": "d97a7288",
   "metadata": {},
   "outputs": [],
   "source": [
    "from model.model import *"
   ]
  },
  {
   "cell_type": "code",
   "execution_count": 20,
   "id": "98fc3d9d",
   "metadata": {},
   "outputs": [],
   "source": [
    "config = Config(\n",
    "    n_features = 5,\n",
    "    n_hidden = 2,\n",
    "    n_experts = 10,\n",
    "    n_active_experts = 3,\n",
    "    load_balancing_loss = True,\n",
    ")\n",
    "\n",
    "model = MoEModel(\n",
    "    config=config,\n",
    "    device=DEVICE,\n",
    "    importance = 0.9**torch.arange(config.n_features),\n",
    "    feature_probability = torch.tensor(0.1)\n",
    ")"
   ]
  },
  {
   "cell_type": "code",
   "execution_count": 22,
   "id": "aa81f160",
   "metadata": {},
   "outputs": [
    {
     "name": "stdout",
     "output_type": "stream",
     "text": [
      "Step 0: loss=0.264533, lr=0.001000\n",
      "Step 5: loss=0.186584, lr=0.001000\n",
      "Step 10: loss=0.078934, lr=0.001000\n",
      "Step 15: loss=0.168268, lr=0.001000\n",
      "Step 20: loss=0.072398, lr=0.001000\n",
      "Step 25: loss=0.081440, lr=0.001000\n",
      "Step 30: loss=0.101857, lr=0.001000\n",
      "Step 35: loss=0.041873, lr=0.001000\n",
      "Step 40: loss=0.063439, lr=0.001000\n",
      "Step 45: loss=0.156674, lr=0.001000\n",
      "Step 49: loss=0.142573, lr=0.001000\n"
     ]
    }
   ],
   "source": [
    "optimize(model, n_batch=10, steps=50, print_freq=5)"
   ]
  },
  {
   "cell_type": "code",
   "execution_count": 25,
   "id": "1db8c8f7",
   "metadata": {},
   "outputs": [
    {
     "name": "stdout",
     "output_type": "stream",
     "text": [
      "Step 0: avg_loss=0.066306, lr=0.001000\n",
      "Step 99: avg_loss=0.044675, lr=0.001000\n"
     ]
    }
   ],
   "source": [
    "configs = [\n",
    "    Config(n_features=5, n_hidden=3, n_experts=5, n_active_experts=2, load_balancing_loss=True),\n",
    "    Config(n_features=5, n_hidden=3, n_experts=5, n_active_experts=2, load_balancing_loss=False),\n",
    "]\n",
    "\n",
    "feature_probs = [torch.tensor(0.1), torch.tensor(0.2),]\n",
    "importances = [0.9**torch.arange(5), 0.8**torch.arange(5),]\n",
    "\n",
    "optimize_vectorized(configs, feature_probs, importances, n_batch=10, steps=100, device=DEVICE)"
   ]
  }
 ],
 "metadata": {
  "kernelspec": {
   "display_name": "playground",
   "language": "python",
   "name": "python3"
  },
  "language_info": {
   "codemirror_mode": {
    "name": "ipython",
    "version": 3
   },
   "file_extension": ".py",
   "mimetype": "text/x-python",
   "name": "python",
   "nbconvert_exporter": "python",
   "pygments_lexer": "ipython3",
   "version": "3.11.8"
  }
 },
 "nbformat": 4,
 "nbformat_minor": 5
}
