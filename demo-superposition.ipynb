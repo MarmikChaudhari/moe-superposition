{
 "cells": [
  {
   "cell_type": "code",
   "execution_count": 164,
   "id": "d97a7288",
   "metadata": {},
   "outputs": [],
   "source": [
    "from model.model import *\n",
    "from plotly.subplots import make_subplots\n",
    "import plotly.express as px\n",
    "import plotly.graph_objects as go\n",
    "import matplotlib.pyplot as plt"
   ]
  },
  {
   "cell_type": "code",
   "execution_count": 196,
   "id": "98fc3d9d",
   "metadata": {},
   "outputs": [],
   "source": [
    "config = Config(\n",
    "    n_features = 20,\n",
    "    n_hidden = 5,\n",
    "    n_experts = 4,\n",
    "    n_active_experts = 1,\n",
    "    load_balancing_loss = True,\n",
    ")\n",
    "\n",
    "\n",
    "model = MoEModel(\n",
    "    config=config,\n",
    "    device=DEVICE,\n",
    "    importance = 0.7**torch.arange(config.n_features), #torch.exp(torch.randn(config.n_features, generator=torch.Generator().manual_seed(42)) * 3), #torch.linspace(0.8, 0.1, config.n_features), #torch.tensor(1),\n",
    "    feature_probability = torch.tensor(0.1)\n",
    ")"
   ]
  },
  {
   "cell_type": "code",
   "execution_count": 197,
   "id": "aa81f160",
   "metadata": {},
   "outputs": [
    {
     "name": "stdout",
     "output_type": "stream",
     "text": [
      "Step 0: loss=0.101609, lr=0.001000\n",
      "Step 1000: loss=0.021586, lr=0.001000\n",
      "Step 2000: loss=0.017415, lr=0.001000\n",
      "Step 3000: loss=0.017019, lr=0.001000\n",
      "Step 4000: loss=0.020610, lr=0.001000\n",
      "Step 5000: loss=0.016204, lr=0.001000\n",
      "Step 6000: loss=0.017617, lr=0.001000\n",
      "Step 7000: loss=0.019254, lr=0.001000\n",
      "Step 8000: loss=0.019265, lr=0.001000\n",
      "Step 9000: loss=0.021113, lr=0.001000\n",
      "Step 9999: loss=0.023178, lr=0.001000\n"
     ]
    }
   ],
   "source": [
    "optimize(model, n_batch=1024, steps=10000, print_freq=1000)"
   ]
  },
  {
   "cell_type": "code",
   "execution_count": 198,
   "id": "1db8c8f7",
   "metadata": {},
   "outputs": [],
   "source": [
    "# configs = [\n",
    "#     Config(n_features=5, n_hidden=3, n_experts=5, n_active_experts=2, load_balancing_loss=True),\n",
    "#     Config(n_features=5, n_hidden=3, n_experts=5, n_active_experts=2, load_balancing_loss=False),\n",
    "# ]\n",
    "\n",
    "# feature_probs = [torch.tensor(0.1), torch.tensor(0.2),]\n",
    "# importances = [0.9**torch.arange(5), 0.8**torch.arange(5),]\n",
    "\n",
    "# optimize_vectorized(configs, feature_probs, importances, n_batch=10, steps=100, device=DEVICE)"
   ]
  },
  {
   "cell_type": "code",
   "execution_count": 199,
   "id": "296c18b9",
   "metadata": {},
   "outputs": [],
   "source": [
    "def render_features(model):\n",
    "  cfg = model.config\n",
    "  # expert weights\n",
    "  W_exp = model.W_experts.detach()\n",
    "  W_norm = W_exp / (1e-5 + torch.linalg.norm(W_exp, 2, dim=2, keepdim=True))\n",
    "\n",
    "  interference = torch.einsum('ifh,igh->ifg', W_norm, W_exp) # (n_experts, n_features, n_features)\n",
    "  interference[:, torch.arange(cfg.n_features), torch.arange(cfg.n_features)] = 0 # set diagonal to 0\n",
    "\n",
    "  polysemanticity = torch.linalg.norm(interference, dim=-1).cpu()\n",
    "\n",
    "  if model.feature_probability.dim() == 0:\n",
    "    feature_prob_expanded = model.feature_probability.expand(cfg.n_features)\n",
    "  else:\n",
    "    feature_prob_expanded = model.feature_probability\n",
    "  net_interference = (interference**2 * feature_prob_expanded[None, None, :]).sum(-1).cpu()\n",
    "  norms = torch.linalg.norm(W_exp, 2, dim=-1).cpu()\n",
    "\n",
    "  WWT = torch.einsum('eij,ekj->eik', W_exp, W_exp).cpu() # (n_experts, n_features, n_features)\n",
    "\n",
    "  # width = weights[0].cpu()\n",
    "  # x = torch.cumsum(width+0.1, 0) - width[0]\n",
    "  x = torch.arange(cfg.n_features)\n",
    "  width = 0.9\n",
    "\n",
    "  fig = make_subplots(\n",
    "      rows=cfg.n_experts,  # Row per expert\n",
    "      cols=2,  # Column 1: bar graphs, Column 2: heatmaps\n",
    "      shared_xaxes=False,\n",
    "      vertical_spacing=0.05, # 0.05\n",
    "      horizontal_spacing=0.1,\n",
    "      subplot_titles=[f\"expert {i}\" if j == 0 else \"\" \n",
    "               for i in range(cfg.n_experts) for j in range(2)],\n",
    "    #   subplot_titles=[f\"expert {i}\" if j == 0 else f\"expert {i}\" \n",
    "                    #  for i in range(cfg.n_experts) for j in range(2)],\n",
    "  )\n",
    "  for expert_idx in range(cfg.n_experts):\n",
    "        fig.add_trace(\n",
    "          go.Bar(\n",
    "              x=x, \n",
    "              y=norms[expert_idx],\n",
    "              marker=dict(\n",
    "                  color=polysemanticity[expert_idx],\n",
    "                  cmin=0,\n",
    "                  cmax=1\n",
    "              ),\n",
    "          ),\n",
    "          row=expert_idx+1, col=1  # Left column for bar graphs\n",
    "      )\n",
    "      # Column 2: WWT heatmap for this expert\n",
    "        fig.add_trace(\n",
    "          go.Image(\n",
    "              z=plt.cm.coolwarm((1 + WWT[expert_idx].numpy())/2, bytes=True),\n",
    "              colormodel='rgba256',\n",
    "              customdata = WWT[expert_idx].numpy(),\n",
    "              hovertemplate=f'expert {expert_idx}<br>In: %{{x}}<br>Out: %{{y}}<br> weight: %{{customdata:0.2f}}',\n",
    "          ),\n",
    "          row=expert_idx+1, col=2  # Right column for heatmaps\n",
    "      )\n",
    "\n",
    "  for expert_idx in range(cfg.n_experts):\n",
    "      fig.add_vline(\n",
    "          x=(x[cfg.n_hidden-1]+x[cfg.n_hidden])/2, \n",
    "          line=dict(width=0.5),\n",
    "          row=expert_idx+1,\n",
    "          col=1,\n",
    "      )\n",
    "    \n",
    "  fig.update_layout(\n",
    "      showlegend=False, \n",
    "      width=800,  # Fixed width for 2 columns\n",
    "      height=300 * cfg.n_experts,  # Scale height with number of experts\n",
    "      margin=dict(t=50, b=20)  # Space for subplot titles\n",
    "  )\n",
    "  \n",
    "  # Show x-axes for bar graphs (column 1) and hide for heatmaps (column 2)\n",
    "  fig.update_xaxes(visible=True, col=1)\n",
    "  fig.update_xaxes(visible=False, col=2)\n",
    "  \n",
    "  fig.update_yaxes(visible=True, col=1)\n",
    "  fig.update_yaxes(visible=True, title=\"norm\", row=1, col=1)  # Only on first row\n",
    "\n",
    "  return fig"
   ]
  },
  {
   "cell_type": "code",
   "execution_count": 200,
   "id": "8581e2a5",
   "metadata": {},
   "outputs": [
    {
     "data": {
      "application/vnd.plotly.v1+json": {
       "config": {
        "plotlyServerURL": "https://plot.ly"
       },
       "data": [
        {
         "marker": {
          "cmax": 1,
          "cmin": 0,
          "color": {
           "bdata": "Vht8P2iHgT/lLl8/n/R5P6x/dD+TtoA/KdV7P/tSgj8gtYY/TKGzP0mOgD8QPrM/Qga0Pyv1tT+gP7Q/X/G0P3ONrT+gorQ/vK+zP4kcsT8=",
           "dtype": "f4"
          }
         },
         "type": "bar",
         "x": {
          "bdata": "AAECAwQFBgcICQoLDA0ODxAREhM=",
          "dtype": "i1"
         },
         "xaxis": "x",
         "y": {
          "bdata": "5YGBPyERfD8AroA/I6uGP9qNgD8IK18/y1GCP87Mez/S4nk/g5VDPGF+dD81Jgg88rWbO6u4JjywBis8PUMzPFhrGTy+Z048L+QGPCJ5iDw=",
          "dtype": "f4"
         },
         "yaxis": "y"
        },
        {
         "colormodel": "rgba256",
         "customdata": {
          "bdata": "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",
          "dtype": "f4",
          "shape": "20, 20"
         },
         "hovertemplate": "expert 0<br>In: %{x}<br>Out: %{y}<br> weight: %{customdata:0.2f}",
         "type": "image",
         "xaxis": "x2",
         "yaxis": "y2",
         "z": {
          "bdata": "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",
          "dtype": "u1",
          "shape": "20, 20, 4"
         }
        },
        {
         "marker": {
          "cmax": 1,
          "cmin": 0,
          "color": {
           "bdata": "6d59P7z4hTxaboA//PKAP0mjgD8BeH8/U6iAPyZhyD/oCpM/7169P/SPmT+Iosc/NrrHP1Kkxj/tEcA/Uy3FP1Drxz97a8g/9JHHP/Z+wz8=",
           "dtype": "f4"
          }
         },
         "type": "bar",
         "x": {
          "bdata": "AAECAwQFBgcICQoLDA0ODxAREhM=",
          "dtype": "i1"
         },
         "xaxis": "x3",
         "y": {
          "bdata": "KOWAP4NZgD+FoYA/YsN9P/1sgD8lqIA/gHN/P64WBj0CfYg/G2EEP3IbgT+BIPo8rYINPleahT1/g648j0dBPcBriT1PdFE9YzbhPBv4Yjw=",
          "dtype": "f4"
         },
         "yaxis": "y3"
        },
        {
         "colormodel": "rgba256",
         "customdata": {
          "bdata": "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",
          "dtype": "f4",
          "shape": "20, 20"
         },
         "hovertemplate": "expert 1<br>In: %{x}<br>Out: %{y}<br> weight: %{customdata:0.2f}",
         "type": "image",
         "xaxis": "x4",
         "yaxis": "y4",
         "z": {
          "bdata": "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",
          "dtype": "u1",
          "shape": "20, 20, 4"
         }
        },
        {
         "marker": {
          "cmax": 1,
          "cmin": 0,
          "color": {
           "bdata": "zR6IPAJMuj4fg30/szZtP3cmgT+VD3Y/BT22P9xXgD8ZBow/kvK2P4FagD8497Y/3K23P28buT/Eeq0/Igq2P5jctz8+3LE/oOmvPzdwuT8=",
           "dtype": "f4"
          }
         },
         "type": "bar",
         "x": {
          "bdata": "AAECAwQFBgcICQoLDA0ODxAREhM=",
          "dtype": "i1"
         },
         "xaxis": "x5",
         "y": {
          "bdata": "xFGAPwxOgD/eIoE/aFKAP5Z6fT9854s/OiwOPBtEbT8by3U/3c+SO9ZLuj4RS708qUykPKkg2zzZxsk71/j5O+r5VjxdyiQ8+0wBPElBDTw=",
          "dtype": "f4"
         },
         "yaxis": "y5"
        },
        {
         "colormodel": "rgba256",
         "customdata": {
          "bdata": "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",
          "dtype": "f4",
          "shape": "20, 20"
         },
         "hovertemplate": "expert 2<br>In: %{x}<br>Out: %{y}<br> weight: %{customdata:0.2f}",
         "type": "image",
         "xaxis": "x6",
         "yaxis": "y6",
         "z": {
          "bdata": "swMm/9zc3f/d3Nv/3Nzd/93c2//c3N3/3Nzd/9vc3v/c3N3/3dzb/9zc3f/c3N3/3dzb/9zc3f/d3Nv/3dzb/93c2//d3Nv/3dzb/93c2//c3N3/swMm/93c2//c3N3/3dzb/9vc3v/d3Nv/3Nzd/93c2//c3N3/pML+/93c2//d3Nv/3Nzd/9zc3f/c3N3/3Nzd/9zc3f/c3N3/3Nzd/93c2//d3Nv/swMm/93c2/86TMD/3dzb/9zc3f/c3N3/3Nzd/9zc3f/e29r/3Nzd/93c2//e29r/3dzb/9zc3f/c3N3/3dzb/9zc3f/c3N3/3Nzd/9zc3f/d3Nv/swMm/93c2//b3N7/3Nzd/0Vbzf/d3Nv/3dzb/93c2//e29r/3tva/9zc3f/c3N3/3Nzd/9zc3f/d3Nv/3Nzd/9zc3f/d3Nv/3dzb/zpMwP/d3Nv/tg0o/9zc3f/d3Nv/3Nzd/93c2//d3Nv/29ze/93c2//c3N3/29ze/9zc3f/d3Nv/3dzb/9zc3f/d3Nv/3dzb/9zc3f/b3N7/3dzb/9vc3v/c3N3/swMm/9vc3v/b3N7/OkzA/93c2//c3N3/2tzf/9/b2f/Z3OD/3Nzd/9zc3f/b3N7/3dzb/9zc3f/b3N7/3Nzd/93c2//c3N3/3Nzd/93c2//b3N7/3dzb/93c2//d3Nv/3Nzd/9zc3f/d3Nv/3Nzd/93c2//d3Nv/3dzb/93c2//c3N3/3dzb/93c2//b3N7/3Nzd/9zc3f9FW83/3Nzd/9vc3v/d3Nv/zUI6/9/b2f/c3N3/3dzb/9zc3f/b3N7/3dzb/93c2//d3Nv/3dzb/9zc3f/d3Nv/3dzb/9zc3f/d3Nv/3Nzd/93c2//d3Nv/OkzA/93c2//f29n/wi0x/9zc3f/e29r/39vZ/9rc3//g2tf/3dzb/93c2//e29r/3Nzd/93c2//e29r/3dzb/9zc3f/c3N3/3dzb/93c2//d3Nv/3Nzd/9zc3f/c3N3/3dzb/9zc3f/c3N3/3dzb/9zc3f/c3N3/3Nzd/9zc3f/d3Nv/3Nzd/9zc3f/c3N3/pML+/97b2v/d3Nv/29ze/9zc3f/c3N3/3dzb/97b2v/c3N3/7NLE/9zc3f/c3N3/3dzb/93c2//d3Nv/3dzb/93c2//d3Nv/3dzb/9zc3f/d3Nv/3Nzd/97b2v/d3Nv/2tzf/93c2//c3N3/39vZ/9zc3f/c3N3/3dzb/9zc3f/d3Nv/3Nzd/93c2//d3Nv/3Nzd/93c2//d3Nv/3dzb/93c2//d3Nv/3tva/9zc3f/f29n/3Nzd/9vc3v/a3N//3dzb/9zc3f/c3N3/3dzb/9zc3f/c3N3/3Nzd/9zc3f/d3Nv/3Nzd/9zc3f/c3N3/3Nzd/97b2v/c3N3/29ze/9nc4P/d3Nv/3dzb/+Da1//c3N3/3dzb/93c2//c3N3/3dzb/93c2//d3Nv/3dzb/9zc3f/d3Nv/3dzb/93c2//c3N3/3dzb/9zc3f/c3N3/3Nzd/93c2//d3Nv/3dzb/9zc3f/d3Nv/3Nzd/9zc3f/d3Nv/3dzb/93c2//d3Nv/3Nzd/93c2//d3Nv/3dzb/9zc3f/c3N3/3Nzd/93c2//c3N3/3dzb/93c2//d3Nv/3Nzd/93c2//d3Nv/3Nzd/93c2//d3Nv/3dzb/93c2//c3N3/3dzb/93c2//d3Nv/3Nzd/9zc3f/c3N3/3dzb/9vc3v/d3Nv/3dzb/97b2v/c3N3/3dzb/93c2//c3N3/3dzb/93c2//d3Nv/3dzb/9zc3f/d3Nv/3dzb/93c2//c3N3/3dzb/93c2//c3N3/3dzb/9zc3f/c3N3/3Nzd/93c2//d3Nv/3Nzd/93c2//c3N3/3Nzd/9zc3f/c3N3/3dzb/9zc3f/c3N3/3dzb/9zc3f/c3N3/3Nzd/93c2//c3N3/3dzb/93c2//d3Nv/3Nzd/93c2//d3Nv/3Nzd/93c2//d3Nv/3dzb/93c2//c3N3/3dzb/93c2//d3Nv/3Nzd/9zc3f/c3N3/3dzb/9vc3v/d3Nv/3dzb/97b2v/c3N3/3dzb/93c2//c3N3/3dzb/93c2//d3Nv/3dzb/9zc3f/d3Nv/3dzb/w==",
          "dtype": "u1",
          "shape": "20, 20, 4"
         }
        },
        {
         "marker": {
          "cmax": 1,
          "cmin": 0,
          "color": {
           "bdata": "hrcNPDTPaD95RXs/bFeAP9Kifz8EnoA/3SN6P1SXgT/+HoE/tmKwPwPysD9ROLE/k8KzP2Gtsz/4o7M/iI2uP84Vsj8kt7M/CH2zPythrT8=",
           "dtype": "f4"
          }
         },
         "type": "bar",
         "x": {
          "bdata": "AAECAwQFBgcICQoLDA0ODxAREhM=",
          "dtype": "i1"
         },
         "xaxis": "x7",
         "y": {
          "bdata": "MyWAP5mTgT8zkIA/5Y9/P2VMgD9QLHs/xRqBP+rGaD+pFno/lQ8NPA4pmDtyML08sZCBPLQjvTxor1U8PRUUPIDNrTuMUI08AQLcO/CJhzs=",
          "dtype": "f4"
         },
         "yaxis": "y7"
        },
        {
         "colormodel": "rgba256",
         "customdata": {
          "bdata": "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",
          "dtype": "f4",
          "shape": "20, 20"
         },
         "hovertemplate": "expert 3<br>In: %{x}<br>Out: %{y}<br> weight: %{customdata:0.2f}",
         "type": "image",
         "xaxis": "x8",
         "yaxis": "y8",
         "z": {
          "bdata": "swMm/9zc3f/c3N3/3dzb/93c2//d3Nv/3dzb/9zc3f/d3Nv/3Nzd/93c2//d3Nv/3dzb/9zc3f/c3N3/3dzb/93c2//c3N3/3Nzd/93c2//c3N3/swMm/93c2//c3N3/3Nzd/9zc3f/c3N3/Rl3P/9zc3f/c3N3/3Nzd/9vc3v/d3Nv/3dzb/9zc3f/c3N3/3Nzd/93c2//c3N3/3Nzd/9zc3f/d3Nv/swMm/97b2v/b3N7/O03B/93c2//d3Nv/3dzb/93c2//c3N3/3Nzd/9zc3f/f29n/3tva/93c2//c3N3/39vZ/9zc3f/c3N3/3dzb/9zc3f/e29r/swMm/zpMwP/e29r/29ze/93c2//e29r/3Nzd/9zc3f/e29r/3tva/9zc3f/c3N3/3Nzd/9zc3f/c3N3/3Nzd/93c2//d3Nv/3Nzd/9vc3v86TMD/swMm/9vc3v/c3N3/3dzb/93c2//d3Nv/3dzb/9vc3v/b3N7/3dzb/93c2//d3Nv/3dzb/93c2//d3Nv/3Nzd/93c2//c3N3/O03B/97b2v/b3N7/uRYq/9vc3v/c3N3/3dzb/9zc3f/d3Nv/3dzb/93c2//a3N//29ze/9zc3f/d3Nv/2tzf/93c2//d3Nv/3dzb/9zc3f/d3Nv/29ze/9zc3f/b3N7/swMm/93c2/87TcH/3Nzd/9zc3f/e29r/3dzb/93c2//d3Nv/3dzb/93c2//d3Nv/3Nzd/9zc3f/c3N3/Rl3P/93c2//d3Nv/3dzb/9zc3f/d3Nv/0ks//93c2//d3Nv/3dzb/97b2v/c3N3/3Nzd/93c2//d3Nv/3dzb/9zc3f/d3Nv/3dzb/93c2//c3N3/3dzb/97b2v/d3Nv/3dzb/ztNwf/d3Nv/uxor/93c2//d3Nv/29ze/9zc3f/c3N3/3Nzd/9zc3f/c3N3/3dzb/93c2//d3Nv/3Nzd/9zc3f/d3Nv/3Nzd/93c2//c3N3/3Nzd/93c2//d3Nv/3dzb/9zc3f/d3Nv/3Nzd/93c2//d3Nv/3dzb/93c2//d3Nv/3Nzd/93c2//d3Nv/3Nzd/9zc3f/c3N3/3dzb/93c2//c3N3/3dzb/93c2//c3N3/3dzb/93c2//c3N3/3Nzd/9zc3f/c3N3/3dzb/9zc3f/d3Nv/3dzb/93c2//b3N7/3Nzd/97b2v/b3N7/3dzb/97b2v/e29r/29ze/93c2//d3Nv/3dzb/93c2//c3N3/3Nzd/93c2//d3Nv/3Nzd/93c2//d3Nv/3dzb/93c2//c3N3/3tva/9vc3v/d3Nv/3dzb/9zc3f/c3N3/3Nzd/9zc3f/d3Nv/3dzb/9zc3f/c3N3/3Nzd/9zc3f/c3N3/3Nzd/93c2//c3N3/3dzb/9/b2f/c3N3/3dzb/9rc3//d3Nv/3Nzd/9zc3f/d3Nv/3Nzd/9zc3f/c3N3/3dzb/93c2//d3Nv/3dzb/93c2//c3N3/3Nzd/9zc3f/c3N3/3tva/9zc3f/d3Nv/29ze/93c2//d3Nv/3Nzd/93c2//c3N3/3Nzd/9zc3f/d3Nv/3dzb/93c2//c3N3/3dzb/9zc3f/c3N3/3dzb/9zc3f/d3Nv/3Nzd/93c2//c3N3/3dzb/93c2//c3N3/3dzb/9zc3f/d3Nv/3Nzd/93c2//d3Nv/3dzb/93c2//d3Nv/3Nzd/93c2//d3Nv/3Nzd/9zc3f/c3N3/3dzb/93c2//d3Nv/3dzb/9zc3f/d3Nv/3dzb/93c2//c3N3/3dzb/9zc3f/d3Nv/3dzb/9zc3f/d3Nv/3dzb/9zc3f/d3Nv/39vZ/9zc3f/d3Nv/2tzf/93c2//c3N3/3dzb/93c2//c3N3/3Nzd/9zc3f/d3Nv/3dzb/93c2//c3N3/3dzb/9zc3f/c3N3/3Nzd/9zc3f/c3N3/3Nzd/93c2//d3Nv/3Nzd/93c2//d3Nv/3Nzd/93c2//d3Nv/3Nzd/9zc3f/c3N3/3Nzd/93c2//c3N3/3dzb/93c2//d3Nv/3Nzd/9zc3f/d3Nv/3Nzd/93c2//c3N3/3dzb/93c2//d3Nv/3dzb/93c2//d3Nv/3Nzd/9zc3f/d3Nv/3dzb/9zc3f/d3Nv/3dzb/w==",
          "dtype": "u1",
          "shape": "20, 20, 4"
         }
        }
       ],
       "layout": {
        "annotations": [
         {
          "font": {
           "size": 16
          },
          "showarrow": false,
          "text": "expert 0",
          "x": 0.225,
          "xanchor": "center",
          "xref": "paper",
          "y": 1,
          "yanchor": "bottom",
          "yref": "paper"
         },
         {
          "font": {
           "size": 16
          },
          "showarrow": false,
          "text": "expert 1",
          "x": 0.225,
          "xanchor": "center",
          "xref": "paper",
          "y": 0.7375,
          "yanchor": "bottom",
          "yref": "paper"
         },
         {
          "font": {
           "size": 16
          },
          "showarrow": false,
          "text": "expert 2",
          "x": 0.225,
          "xanchor": "center",
          "xref": "paper",
          "y": 0.475,
          "yanchor": "bottom",
          "yref": "paper"
         },
         {
          "font": {
           "size": 16
          },
          "showarrow": false,
          "text": "expert 3",
          "x": 0.225,
          "xanchor": "center",
          "xref": "paper",
          "y": 0.2125,
          "yanchor": "bottom",
          "yref": "paper"
         }
        ],
        "height": 1200,
        "margin": {
         "b": 20,
         "t": 50
        },
        "shapes": [
         {
          "line": {
           "width": 0.5
          },
          "type": "line",
          "x0": 4.5,
          "x1": 4.5,
          "xref": "x",
          "y0": 0,
          "y1": 1,
          "yref": "y domain"
         },
         {
          "line": {
           "width": 0.5
          },
          "type": "line",
          "x0": 4.5,
          "x1": 4.5,
          "xref": "x3",
          "y0": 0,
          "y1": 1,
          "yref": "y3 domain"
         },
         {
          "line": {
           "width": 0.5
          },
          "type": "line",
          "x0": 4.5,
          "x1": 4.5,
          "xref": "x5",
          "y0": 0,
          "y1": 1,
          "yref": "y5 domain"
         },
         {
          "line": {
           "width": 0.5
          },
          "type": "line",
          "x0": 4.5,
          "x1": 4.5,
          "xref": "x7",
          "y0": 0,
          "y1": 1,
          "yref": "y7 domain"
         }
        ],
        "showlegend": false,
        "template": {
         "data": {
          "bar": [
           {
            "error_x": {
             "color": "#2a3f5f"
            },
            "error_y": {
             "color": "#2a3f5f"
            },
            "marker": {
             "line": {
              "color": "#E5ECF6",
              "width": 0.5
             },
             "pattern": {
              "fillmode": "overlay",
              "size": 10,
              "solidity": 0.2
             }
            },
            "type": "bar"
           }
          ],
          "barpolar": [
           {
            "marker": {
             "line": {
              "color": "#E5ECF6",
              "width": 0.5
             },
             "pattern": {
              "fillmode": "overlay",
              "size": 10,
              "solidity": 0.2
             }
            },
            "type": "barpolar"
           }
          ],
          "carpet": [
           {
            "aaxis": {
             "endlinecolor": "#2a3f5f",
             "gridcolor": "white",
             "linecolor": "white",
             "minorgridcolor": "white",
             "startlinecolor": "#2a3f5f"
            },
            "baxis": {
             "endlinecolor": "#2a3f5f",
             "gridcolor": "white",
             "linecolor": "white",
             "minorgridcolor": "white",
             "startlinecolor": "#2a3f5f"
            },
            "type": "carpet"
           }
          ],
          "choropleth": [
           {
            "colorbar": {
             "outlinewidth": 0,
             "ticks": ""
            },
            "type": "choropleth"
           }
          ],
          "contour": [
           {
            "colorbar": {
             "outlinewidth": 0,
             "ticks": ""
            },
            "colorscale": [
             [
              0,
              "#0d0887"
             ],
             [
              0.1111111111111111,
              "#46039f"
             ],
             [
              0.2222222222222222,
              "#7201a8"
             ],
             [
              0.3333333333333333,
              "#9c179e"
             ],
             [
              0.4444444444444444,
              "#bd3786"
             ],
             [
              0.5555555555555556,
              "#d8576b"
             ],
             [
              0.6666666666666666,
              "#ed7953"
             ],
             [
              0.7777777777777778,
              "#fb9f3a"
             ],
             [
              0.8888888888888888,
              "#fdca26"
             ],
             [
              1,
              "#f0f921"
             ]
            ],
            "type": "contour"
           }
          ],
          "contourcarpet": [
           {
            "colorbar": {
             "outlinewidth": 0,
             "ticks": ""
            },
            "type": "contourcarpet"
           }
          ],
          "heatmap": [
           {
            "colorbar": {
             "outlinewidth": 0,
             "ticks": ""
            },
            "colorscale": [
             [
              0,
              "#0d0887"
             ],
             [
              0.1111111111111111,
              "#46039f"
             ],
             [
              0.2222222222222222,
              "#7201a8"
             ],
             [
              0.3333333333333333,
              "#9c179e"
             ],
             [
              0.4444444444444444,
              "#bd3786"
             ],
             [
              0.5555555555555556,
              "#d8576b"
             ],
             [
              0.6666666666666666,
              "#ed7953"
             ],
             [
              0.7777777777777778,
              "#fb9f3a"
             ],
             [
              0.8888888888888888,
              "#fdca26"
             ],
             [
              1,
              "#f0f921"
             ]
            ],
            "type": "heatmap"
           }
          ],
          "histogram": [
           {
            "marker": {
             "pattern": {
              "fillmode": "overlay",
              "size": 10,
              "solidity": 0.2
             }
            },
            "type": "histogram"
           }
          ],
          "histogram2d": [
           {
            "colorbar": {
             "outlinewidth": 0,
             "ticks": ""
            },
            "colorscale": [
             [
              0,
              "#0d0887"
             ],
             [
              0.1111111111111111,
              "#46039f"
             ],
             [
              0.2222222222222222,
              "#7201a8"
             ],
             [
              0.3333333333333333,
              "#9c179e"
             ],
             [
              0.4444444444444444,
              "#bd3786"
             ],
             [
              0.5555555555555556,
              "#d8576b"
             ],
             [
              0.6666666666666666,
              "#ed7953"
             ],
             [
              0.7777777777777778,
              "#fb9f3a"
             ],
             [
              0.8888888888888888,
              "#fdca26"
             ],
             [
              1,
              "#f0f921"
             ]
            ],
            "type": "histogram2d"
           }
          ],
          "histogram2dcontour": [
           {
            "colorbar": {
             "outlinewidth": 0,
             "ticks": ""
            },
            "colorscale": [
             [
              0,
              "#0d0887"
             ],
             [
              0.1111111111111111,
              "#46039f"
             ],
             [
              0.2222222222222222,
              "#7201a8"
             ],
             [
              0.3333333333333333,
              "#9c179e"
             ],
             [
              0.4444444444444444,
              "#bd3786"
             ],
             [
              0.5555555555555556,
              "#d8576b"
             ],
             [
              0.6666666666666666,
              "#ed7953"
             ],
             [
              0.7777777777777778,
              "#fb9f3a"
             ],
             [
              0.8888888888888888,
              "#fdca26"
             ],
             [
              1,
              "#f0f921"
             ]
            ],
            "type": "histogram2dcontour"
           }
          ],
          "mesh3d": [
           {
            "colorbar": {
             "outlinewidth": 0,
             "ticks": ""
            },
            "type": "mesh3d"
           }
          ],
          "parcoords": [
           {
            "line": {
             "colorbar": {
              "outlinewidth": 0,
              "ticks": ""
             }
            },
            "type": "parcoords"
           }
          ],
          "pie": [
           {
            "automargin": true,
            "type": "pie"
           }
          ],
          "scatter": [
           {
            "fillpattern": {
             "fillmode": "overlay",
             "size": 10,
             "solidity": 0.2
            },
            "type": "scatter"
           }
          ],
          "scatter3d": [
           {
            "line": {
             "colorbar": {
              "outlinewidth": 0,
              "ticks": ""
             }
            },
            "marker": {
             "colorbar": {
              "outlinewidth": 0,
              "ticks": ""
             }
            },
            "type": "scatter3d"
           }
          ],
          "scattercarpet": [
           {
            "marker": {
             "colorbar": {
              "outlinewidth": 0,
              "ticks": ""
             }
            },
            "type": "scattercarpet"
           }
          ],
          "scattergeo": [
           {
            "marker": {
             "colorbar": {
              "outlinewidth": 0,
              "ticks": ""
             }
            },
            "type": "scattergeo"
           }
          ],
          "scattergl": [
           {
            "marker": {
             "colorbar": {
              "outlinewidth": 0,
              "ticks": ""
             }
            },
            "type": "scattergl"
           }
          ],
          "scattermap": [
           {
            "marker": {
             "colorbar": {
              "outlinewidth": 0,
              "ticks": ""
             }
            },
            "type": "scattermap"
           }
          ],
          "scattermapbox": [
           {
            "marker": {
             "colorbar": {
              "outlinewidth": 0,
              "ticks": ""
             }
            },
            "type": "scattermapbox"
           }
          ],
          "scatterpolar": [
           {
            "marker": {
             "colorbar": {
              "outlinewidth": 0,
              "ticks": ""
             }
            },
            "type": "scatterpolar"
           }
          ],
          "scatterpolargl": [
           {
            "marker": {
             "colorbar": {
              "outlinewidth": 0,
              "ticks": ""
             }
            },
            "type": "scatterpolargl"
           }
          ],
          "scatterternary": [
           {
            "marker": {
             "colorbar": {
              "outlinewidth": 0,
              "ticks": ""
             }
            },
            "type": "scatterternary"
           }
          ],
          "surface": [
           {
            "colorbar": {
             "outlinewidth": 0,
             "ticks": ""
            },
            "colorscale": [
             [
              0,
              "#0d0887"
             ],
             [
              0.1111111111111111,
              "#46039f"
             ],
             [
              0.2222222222222222,
              "#7201a8"
             ],
             [
              0.3333333333333333,
              "#9c179e"
             ],
             [
              0.4444444444444444,
              "#bd3786"
             ],
             [
              0.5555555555555556,
              "#d8576b"
             ],
             [
              0.6666666666666666,
              "#ed7953"
             ],
             [
              0.7777777777777778,
              "#fb9f3a"
             ],
             [
              0.8888888888888888,
              "#fdca26"
             ],
             [
              1,
              "#f0f921"
             ]
            ],
            "type": "surface"
           }
          ],
          "table": [
           {
            "cells": {
             "fill": {
              "color": "#EBF0F8"
             },
             "line": {
              "color": "white"
             }
            },
            "header": {
             "fill": {
              "color": "#C8D4E3"
             },
             "line": {
              "color": "white"
             }
            },
            "type": "table"
           }
          ]
         },
         "layout": {
          "annotationdefaults": {
           "arrowcolor": "#2a3f5f",
           "arrowhead": 0,
           "arrowwidth": 1
          },
          "autotypenumbers": "strict",
          "coloraxis": {
           "colorbar": {
            "outlinewidth": 0,
            "ticks": ""
           }
          },
          "colorscale": {
           "diverging": [
            [
             0,
             "#8e0152"
            ],
            [
             0.1,
             "#c51b7d"
            ],
            [
             0.2,
             "#de77ae"
            ],
            [
             0.3,
             "#f1b6da"
            ],
            [
             0.4,
             "#fde0ef"
            ],
            [
             0.5,
             "#f7f7f7"
            ],
            [
             0.6,
             "#e6f5d0"
            ],
            [
             0.7,
             "#b8e186"
            ],
            [
             0.8,
             "#7fbc41"
            ],
            [
             0.9,
             "#4d9221"
            ],
            [
             1,
             "#276419"
            ]
           ],
           "sequential": [
            [
             0,
             "#0d0887"
            ],
            [
             0.1111111111111111,
             "#46039f"
            ],
            [
             0.2222222222222222,
             "#7201a8"
            ],
            [
             0.3333333333333333,
             "#9c179e"
            ],
            [
             0.4444444444444444,
             "#bd3786"
            ],
            [
             0.5555555555555556,
             "#d8576b"
            ],
            [
             0.6666666666666666,
             "#ed7953"
            ],
            [
             0.7777777777777778,
             "#fb9f3a"
            ],
            [
             0.8888888888888888,
             "#fdca26"
            ],
            [
             1,
             "#f0f921"
            ]
           ],
           "sequentialminus": [
            [
             0,
             "#0d0887"
            ],
            [
             0.1111111111111111,
             "#46039f"
            ],
            [
             0.2222222222222222,
             "#7201a8"
            ],
            [
             0.3333333333333333,
             "#9c179e"
            ],
            [
             0.4444444444444444,
             "#bd3786"
            ],
            [
             0.5555555555555556,
             "#d8576b"
            ],
            [
             0.6666666666666666,
             "#ed7953"
            ],
            [
             0.7777777777777778,
             "#fb9f3a"
            ],
            [
             0.8888888888888888,
             "#fdca26"
            ],
            [
             1,
             "#f0f921"
            ]
           ]
          },
          "colorway": [
           "#636efa",
           "#EF553B",
           "#00cc96",
           "#ab63fa",
           "#FFA15A",
           "#19d3f3",
           "#FF6692",
           "#B6E880",
           "#FF97FF",
           "#FECB52"
          ],
          "font": {
           "color": "#2a3f5f"
          },
          "geo": {
           "bgcolor": "white",
           "lakecolor": "white",
           "landcolor": "#E5ECF6",
           "showlakes": true,
           "showland": true,
           "subunitcolor": "white"
          },
          "hoverlabel": {
           "align": "left"
          },
          "hovermode": "closest",
          "mapbox": {
           "style": "light"
          },
          "paper_bgcolor": "white",
          "plot_bgcolor": "#E5ECF6",
          "polar": {
           "angularaxis": {
            "gridcolor": "white",
            "linecolor": "white",
            "ticks": ""
           },
           "bgcolor": "#E5ECF6",
           "radialaxis": {
            "gridcolor": "white",
            "linecolor": "white",
            "ticks": ""
           }
          },
          "scene": {
           "xaxis": {
            "backgroundcolor": "#E5ECF6",
            "gridcolor": "white",
            "gridwidth": 2,
            "linecolor": "white",
            "showbackground": true,
            "ticks": "",
            "zerolinecolor": "white"
           },
           "yaxis": {
            "backgroundcolor": "#E5ECF6",
            "gridcolor": "white",
            "gridwidth": 2,
            "linecolor": "white",
            "showbackground": true,
            "ticks": "",
            "zerolinecolor": "white"
           },
           "zaxis": {
            "backgroundcolor": "#E5ECF6",
            "gridcolor": "white",
            "gridwidth": 2,
            "linecolor": "white",
            "showbackground": true,
            "ticks": "",
            "zerolinecolor": "white"
           }
          },
          "shapedefaults": {
           "line": {
            "color": "#2a3f5f"
           }
          },
          "ternary": {
           "aaxis": {
            "gridcolor": "white",
            "linecolor": "white",
            "ticks": ""
           },
           "baxis": {
            "gridcolor": "white",
            "linecolor": "white",
            "ticks": ""
           },
           "bgcolor": "#E5ECF6",
           "caxis": {
            "gridcolor": "white",
            "linecolor": "white",
            "ticks": ""
           }
          },
          "title": {
           "x": 0.05
          },
          "xaxis": {
           "automargin": true,
           "gridcolor": "white",
           "linecolor": "white",
           "ticks": "",
           "title": {
            "standoff": 15
           },
           "zerolinecolor": "white",
           "zerolinewidth": 2
          },
          "yaxis": {
           "automargin": true,
           "gridcolor": "white",
           "linecolor": "white",
           "ticks": "",
           "title": {
            "standoff": 15
           },
           "zerolinecolor": "white",
           "zerolinewidth": 2
          }
         }
        },
        "width": 800,
        "xaxis": {
         "anchor": "y",
         "domain": [
          0,
          0.45
         ],
         "visible": true
        },
        "xaxis2": {
         "anchor": "y2",
         "domain": [
          0.55,
          1
         ],
         "visible": false
        },
        "xaxis3": {
         "anchor": "y3",
         "domain": [
          0,
          0.45
         ],
         "visible": true
        },
        "xaxis4": {
         "anchor": "y4",
         "domain": [
          0.55,
          1
         ],
         "visible": false
        },
        "xaxis5": {
         "anchor": "y5",
         "domain": [
          0,
          0.45
         ],
         "visible": true
        },
        "xaxis6": {
         "anchor": "y6",
         "domain": [
          0.55,
          1
         ],
         "visible": false
        },
        "xaxis7": {
         "anchor": "y7",
         "domain": [
          0,
          0.45
         ],
         "visible": true
        },
        "xaxis8": {
         "anchor": "y8",
         "domain": [
          0.55,
          1
         ],
         "visible": false
        },
        "yaxis": {
         "anchor": "x",
         "domain": [
          0.7875,
          1
         ],
         "title": {
          "text": "norm"
         },
         "visible": true
        },
        "yaxis2": {
         "anchor": "x2",
         "domain": [
          0.7875,
          1
         ]
        },
        "yaxis3": {
         "anchor": "x3",
         "domain": [
          0.525,
          0.7375
         ],
         "visible": true
        },
        "yaxis4": {
         "anchor": "x4",
         "domain": [
          0.525,
          0.7375
         ]
        },
        "yaxis5": {
         "anchor": "x5",
         "domain": [
          0.2625,
          0.475
         ],
         "visible": true
        },
        "yaxis6": {
         "anchor": "x6",
         "domain": [
          0.2625,
          0.475
         ]
        },
        "yaxis7": {
         "anchor": "x7",
         "domain": [
          0,
          0.2125
         ],
         "visible": true
        },
        "yaxis8": {
         "anchor": "x8",
         "domain": [
          0,
          0.2125
         ]
        }
       }
      }
     },
     "metadata": {},
     "output_type": "display_data"
    }
   ],
   "source": [
    "render_features(model)"
   ]
  },
  {
   "cell_type": "markdown",
   "id": "c842e0cd",
   "metadata": {},
   "source": [
    "feature dimensionality for a feature $i$ in expert $e$ is given by:\n",
    "$$\n",
    "D_i^{(e)} = \\frac{\\left\\| W_i^{(e)} \\right\\|^2}{\\sum_j \\left( \\hat{W}_i^{(e)} \\cdot W_j^{(e)} \\right)^2}\n",
    "$$\n",
    "- $\\hat{W}_i^{(e)} = \\frac{W_i^{(e)}}{\\left| W_i^{(e)} \\right|}$ is the unit vector in the direction of $W_i^{(e)}$"
   ]
  },
  {
   "cell_type": "code",
   "execution_count": 176,
   "id": "28031da5",
   "metadata": {},
   "outputs": [],
   "source": [
    "def expert_feat_dimensionality(model):\n",
    "    \"\"\"fraction of a dimension within an expert that is occupied by a feature.\"\"\"\n",
    "    n_experts = model.config.n_experts\n",
    "    n_features = model.config.n_features\n",
    "    \n",
    "    # Initialize tensor to store results for all experts\n",
    "    all_dimensionalities = torch.zeros(n_experts, n_features)\n",
    "    \n",
    "    for expert_idx in range(n_experts):\n",
    "        W_expert = model.W_experts[expert_idx]  # shape: [n_features, n_hidden]\n",
    "        W_norm_squared = torch.sum(W_expert**2, dim=1)  # shape: [n_features], ||W_i||^2\n",
    "        W_hat = W_expert / torch.sqrt(W_norm_squared).unsqueeze(1) # W_hat_i = W_i / ||W_i||\n",
    "        dot_products = torch.mm(W_hat, W_expert.T) # W_hat_i · W_j\n",
    "        squared = dot_products**2\n",
    "        interference = torch.sum(squared, dim=1) # sum of squared dot products for each feature\n",
    "        dimensionality = W_norm_squared / interference # D_i^(e) = ||W_i^(e)||^2 / sum_j(W_hat_i · W_j)^2\n",
    "        all_dimensionalities[expert_idx] = dimensionality\n",
    "    \n",
    "    return torch.round(all_dimensionalities, decimals=3)"
   ]
  },
  {
   "cell_type": "code",
   "execution_count": 177,
   "id": "ff9932ad",
   "metadata": {},
   "outputs": [
    {
     "data": {
      "text/plain": [
       "tensor([[0.2390, 0.1620, 0.1610, 0.2780, 0.2170, 0.2330, 0.2470, 0.2330, 0.1180,\n",
       "         0.3630, 0.1240, 0.3210, 0.3480, 0.2280, 0.3150, 0.2340, 0.2610, 0.0640,\n",
       "         0.3840, 0.0570],\n",
       "        [1.0000, 0.0000, 0.9970, 0.4950, 0.5430, 0.5020, 0.4980, 0.5050, 0.0000,\n",
       "         0.0000, 0.0000, 0.0000, 0.0000, 0.0000, 0.0000, 0.0000, 0.4570, 0.0030,\n",
       "         0.0000, 0.0000],\n",
       "        [0.5150, 0.4960, 0.5040, 0.4850, 0.5050, 0.0000, 0.0000, 0.5000, 0.5000,\n",
       "         0.0000, 0.5020, 0.0000, 0.4950, 0.0000, 0.4980, 0.0000, 0.0000, 0.0000,\n",
       "         0.0000, 0.0000],\n",
       "        [0.5120, 0.0000, 0.0000, 0.4850, 0.5150, 0.5070, 0.5000, 0.4930, 0.0000,\n",
       "         0.5160, 0.0000, 0.4880, 0.0000, 0.5000, 0.0000, 0.0000, 0.0000, 0.0000,\n",
       "         0.4840, 0.0000]], grad_fn=<RoundBackward1>)"
      ]
     },
     "execution_count": 177,
     "metadata": {},
     "output_type": "execute_result"
    }
   ],
   "source": [
    "expert_feat_dimensionality(model)"
   ]
  },
  {
   "cell_type": "markdown",
   "id": "7f6b101b",
   "metadata": {},
   "source": [
    "specialization of feature $i$ to expert $e$ is given by:\n",
    "\n",
    "$$\n",
    "S_i^{(e)} = \\frac{\\left\\| W_i^{(e)} \\right\\|^2}{\\sum_{e'} \\left\\| W_i^{(e')} \\right\\|^2}\n",
    "$$\n",
    "\n",
    "- $S_i^{(e)}$ represents the fraction of feature $i$'s total weight magnitude allocated to expert $e$\n"
   ]
  },
  {
   "cell_type": "code",
   "execution_count": 178,
   "id": "f70df915",
   "metadata": {},
   "outputs": [],
   "source": [
    "def feature_specialization(model):\n",
    "    \"\"\"fraction of feature i allocated to expert e\"\"\"\n",
    "    W_expert = model.W_experts  \n",
    "    W_norm_squared = torch.sum(W_expert**2, dim=2)  # shape: [n_experts, n_features], ||W_i||^2\n",
    "    total_norms_per_feature = torch.sum(W_norm_squared, dim=0)  # sum over experts\n",
    "    specialization = W_norm_squared / total_norms_per_feature.unsqueeze(0) # ||W_i^(e)||^2 for each expert\n",
    "    return torch.round(specialization, decimals=3)"
   ]
  },
  {
   "cell_type": "code",
   "execution_count": 179,
   "id": "24e8c7b6",
   "metadata": {},
   "outputs": [
    {
     "data": {
      "text/plain": [
       "tensor([[0.0160, 0.0260, 0.0220, 0.0220, 0.0160, 0.0320, 0.0210, 0.0180, 0.0200,\n",
       "         0.0800, 0.0370, 0.0970, 0.0700, 0.0500, 0.0680, 0.9970, 0.0840, 0.7730,\n",
       "         0.0820, 0.9740],\n",
       "        [0.3240, 0.0000, 0.4870, 0.3270, 0.3230, 0.4770, 0.4870, 0.3280, 0.0000,\n",
       "         0.0000, 0.0000, 0.0000, 0.0000, 0.0000, 0.0000, 0.0010, 0.9150, 0.2230,\n",
       "         0.0000, 0.0110],\n",
       "        [0.3330, 0.9740, 0.4910, 0.3220, 0.3240, 0.0000, 0.0000, 0.3270, 0.9790,\n",
       "         0.0000, 0.9630, 0.0000, 0.9300, 0.0000, 0.9320, 0.0010, 0.0000, 0.0020,\n",
       "         0.0000, 0.0000],\n",
       "        [0.3270, 0.0000, 0.0000, 0.3290, 0.3370, 0.4910, 0.4920, 0.3270, 0.0000,\n",
       "         0.9200, 0.0000, 0.9030, 0.0000, 0.9500, 0.0000, 0.0010, 0.0000, 0.0020,\n",
       "         0.9180, 0.0150]], grad_fn=<RoundBackward1>)"
      ]
     },
     "execution_count": 179,
     "metadata": {},
     "output_type": "execute_result"
    }
   ],
   "source": [
    "feature_specialization(model)"
   ]
  },
  {
   "cell_type": "code",
   "execution_count": 180,
   "id": "d73581ae",
   "metadata": {},
   "outputs": [
    {
     "name": "stdout",
     "output_type": "stream",
     "text": [
      "tensor([1.0000, 1.0000, 1.0000, 1.0000, 1.0000, 1.0000, 1.0000, 1.0000, 0.9990,\n",
      "        1.0000, 1.0000, 1.0000, 1.0000, 1.0000, 1.0000, 1.0000, 0.9990, 1.0000,\n",
      "        1.0000, 1.0000], grad_fn=<SumBackward1>)\n"
     ]
    }
   ],
   "source": [
    "specialization_tensor = feature_specialization(model)\n",
    "# sum the feature specialization across experts (dimension 0)\n",
    "summed_specialization = torch.sum(specialization_tensor, dim=0)\n",
    "print(summed_specialization)"
   ]
  },
  {
   "cell_type": "markdown",
   "id": "8176334e",
   "metadata": {},
   "source": [
    "global dimensionality of feature $i$ is given by:\n",
    "\n",
    "$$\n",
    "D_i^{\\text{global}} = \\sum_e p_e \\cdot D_i^{(e)}\n",
    "$$\n",
    "\n",
    "where:\n",
    "\n",
    "- $D_i^{(e)}$ is the dimensionality of feature $i$ in expert $e$  \n",
    "- $p_e$ is the probability or proportion with which expert $e$ is selected (e.g. from routing or usage stats)  \n",
    "- $D_i^{\\text{global}}$ aggregates the feature's dimensionality across experts, weighted by expert usage\n"
   ]
  },
  {
   "cell_type": "code",
   "execution_count": 181,
   "id": "10aac038",
   "metadata": {},
   "outputs": [],
   "source": [
    "def global_feature_dimensionality(model, input_features=None, n_batch=1024):\n",
    "    \"\"\"global feature dimensionality weighted across all experts.\"\"\"\n",
    "    \n",
    "    # get per-expert dimensionalities (you already have this)\n",
    "    expert_dimensionalities = expert_feat_dimensionality(model)  # shape: [n_experts, n_features]\n",
    "    \n",
    "    if input_features is None:\n",
    "        input_features = model.generate_batch(n_batch) \n",
    "    \n",
    "    # compute gating probabilities\n",
    "    gate_scores = torch.einsum(\"...f,ef->...e\", input_features, model.gate)\n",
    "    gate_probs = F.softmax(gate_scores, dim=-1)  # shape: [batch, n_experts]\n",
    "    \n",
    "    # average probabilities across batch to get p_e\n",
    "    p_e = torch.mean(gate_probs, dim=0)  # shape: [n_experts]\n",
    "    print(p_e)\n",
    "    \n",
    "    # D_i^global = Σ_e p_e · D_i^(e)\n",
    "    global_dims = torch.einsum(\"e,ef->f\", p_e, expert_dimensionalities)\n",
    "    return torch.round(global_dims, decimals=3)"
   ]
  },
  {
   "cell_type": "code",
   "execution_count": 182,
   "id": "55c216e5",
   "metadata": {},
   "outputs": [
    {
     "name": "stdout",
     "output_type": "stream",
     "text": [
      "tensor([0.2094, 0.2636, 0.2635, 0.2636], grad_fn=<MeanBackward1>)\n"
     ]
    },
    {
     "data": {
      "text/plain": [
       "tensor([0.5840, 0.1650, 0.4290, 0.4440, 0.4570, 0.3150, 0.3150, 0.4440, 0.1560,\n",
       "        0.2120, 0.1580, 0.1960, 0.2030, 0.1800, 0.1970, 0.0490, 0.1750, 0.0140,\n",
       "        0.2080, 0.0120], grad_fn=<RoundBackward1>)"
      ]
     },
     "execution_count": 182,
     "metadata": {},
     "output_type": "execute_result"
    }
   ],
   "source": [
    "global_feature_dimensionality(model)"
   ]
  },
  {
   "cell_type": "markdown",
   "id": "616744f1",
   "metadata": {},
   "source": [
    "global dimensionality of feature $i$ is given by:\n",
    "\n",
    "$$\n",
    "D_i^{\\text{global}} = \\sum_e S_i^{(e)} \\cdot D_i^{(e)}\n",
    "$$\n",
    "\n",
    "where:\n",
    "\n",
    "- $D_i^{(e)}$ is the dimensionality of feature $i$ in expert $e$  \n",
    "- $S_i^{(e)}$ is the specialization of feature $i$ to expert $e$\n"
   ]
  },
  {
   "cell_type": "code",
   "execution_count": 183,
   "id": "fd9fec9c",
   "metadata": {},
   "outputs": [],
   "source": [
    "def weighted_global_dim(model):\n",
    "    \"\"\"weighted global feature dimensionality\"\"\"\n",
    "    D = expert_feat_dimensionality(model)\n",
    "    S = feature_specialization(model)\n",
    "    D_global = torch.sum(S * D, dim=0) # n_features\n",
    "    return D_global"
   ]
  },
  {
   "cell_type": "code",
   "execution_count": 184,
   "id": "06e02ad3",
   "metadata": {},
   "outputs": [
    {
     "data": {
      "text/plain": [
       "tensor([0.6667, 0.4873, 0.7365, 0.4837, 0.5160, 0.4958, 0.4937, 0.4945, 0.4919,\n",
       "        0.5038, 0.4880, 0.4718, 0.4847, 0.4864, 0.4856, 0.2333, 0.4401, 0.0501,\n",
       "        0.4758, 0.0555], grad_fn=<SumBackward1>)"
      ]
     },
     "execution_count": 184,
     "metadata": {},
     "output_type": "execute_result"
    }
   ],
   "source": [
    "weighted_global_dim(model)"
   ]
  },
  {
   "cell_type": "code",
   "execution_count": null,
   "id": "12de10e7",
   "metadata": {},
   "outputs": [],
   "source": []
  }
 ],
 "metadata": {
  "kernelspec": {
   "display_name": ".venv",
   "language": "python",
   "name": "python3"
  },
  "language_info": {
   "codemirror_mode": {
    "name": "ipython",
    "version": 3
   },
   "file_extension": ".py",
   "mimetype": "text/x-python",
   "name": "python",
   "nbconvert_exporter": "python",
   "pygments_lexer": "ipython3",
   "version": "3.13.1"
  }
 },
 "nbformat": 4,
 "nbformat_minor": 5
}
