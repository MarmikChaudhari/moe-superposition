{
 "cells": [
  {
   "cell_type": "code",
   "execution_count": 10,
   "id": "d97a7288",
   "metadata": {},
   "outputs": [],
   "source": [
    "from model.model import *\n",
    "from plotly.subplots import make_subplots\n",
    "import plotly.express as px\n",
    "import plotly.graph_objects as go\n",
    "import matplotlib.pyplot as plt"
   ]
  },
  {
   "cell_type": "code",
   "execution_count": 11,
   "id": "98fc3d9d",
   "metadata": {},
   "outputs": [],
   "source": [
    "config = Config(\n",
    "    n_features = 20,\n",
    "    n_hidden = 5,\n",
    "    n_experts = 4,\n",
    "    n_active_experts = 1,\n",
    "    load_balancing_loss = False,\n",
    ")\n",
    "\n",
    "\n",
    "model = MoEModel(\n",
    "    config=config,\n",
    "    device=DEVICE,\n",
    "    importance = 0.7**torch.arange(config.n_features),\n",
    "    feature_probability = torch.tensor(0.1)\n",
    ")\n",
    "\n",
    "# importance inits\n",
    "#torch.exp(torch.randn(config.n_features, generator=torch.Generator().manual_seed(42)) * 3), \n",
    "# #torch.linspace(0.8, 0.1, config.n_features), #torch.tensor(1),\n",
    "# 0.7**torch.from_numpy(np.random.choice(config.n_features, config.n_features, replace=False))\n",
    "\n",
    "#print(model.importance)\n",
    "\n",
    "# ORIGINAL APPROACH\n",
    "# import numpy as np\n",
    "# indices = np.random.choice(model.gate.shape[1], model.gate.shape[0], replace=False)\n",
    "# print(indices)\n",
    "# with torch.no_grad():\n",
    "#     model.gate[np.arange(model.gate.shape[0]), indices] = 1\n",
    "# import numpy as np\n",
    "# indices = np.random.choice(model.gate.shape[1], size=int(model.gate.shape[0]*10), replace=False)\n",
    "# indices = torch.from_numpy(indices.reshape(model.gate.shape[0], -1))\n",
    "# print(indices)\n",
    "# indices_2 = np.random.choice(model.gate.shape[1], size=int(model.gate.shape[0]), replace=False)\n",
    "# indices_2 = torch.from_numpy(indices_2.reshape(model.gate.shape[0], -1))\n",
    "#indx = torch.cat((indices, indices_2), dim=1)\n",
    "#print(indx)\n",
    "# with torch.no_grad():\n",
    "#     for i in range(model.gate.shape[0]):\n",
    "#         model.gate[i, indices[i]] = 1\n",
    "# with torch.no_grad():\n",
    "#     model.gate.fill_diagonal_(1)\n",
    "# nn.init.xavier_normal_(model.gate)\n",
    "\n",
    "# print(model.gate)"
   ]
  },
  {
   "cell_type": "code",
   "execution_count": 12,
   "id": "aa81f160",
   "metadata": {},
   "outputs": [
    {
     "name": "stdout",
     "output_type": "stream",
     "text": [
      "Step 0: loss=0.095757, lr=0.001000\n",
      "Step 1000: loss=0.005813, lr=0.001000\n",
      "Step 2000: loss=0.006552, lr=0.001000\n",
      "Step 3000: loss=0.003519, lr=0.001000\n",
      "Step 4000: loss=0.005844, lr=0.001000\n",
      "Step 5000: loss=0.004596, lr=0.001000\n",
      "Step 6000: loss=0.005320, lr=0.001000\n",
      "Step 7000: loss=0.005715, lr=0.001000\n",
      "Step 8000: loss=0.005125, lr=0.001000\n",
      "Step 9000: loss=0.005375, lr=0.001000\n",
      "Step 9999: loss=0.006094, lr=0.001000\n"
     ]
    }
   ],
   "source": [
    "optimize(model, n_batch=1024, steps=10000, print_freq=1000)"
   ]
  },
  {
   "cell_type": "code",
   "execution_count": 13,
   "id": "1db8c8f7",
   "metadata": {},
   "outputs": [],
   "source": [
    "# configs = [\n",
    "#     Config(n_features=5, n_hidden=3, n_experts=5, n_active_experts=2, load_balancing_loss=True),\n",
    "#     Config(n_features=5, n_hidden=3, n_experts=5, n_active_experts=2, load_balancing_loss=False),\n",
    "# ]\n",
    "\n",
    "# feature_probs = [torch.tensor(0.1), torch.tensor(0.2),]\n",
    "# importances = [0.9**torch.arange(5), 0.8**torch.arange(5),]\n",
    "\n",
    "# optimize_vectorized(configs, feature_probs, importances, n_batch=10, steps=100, device=DEVICE)"
   ]
  },
  {
   "cell_type": "code",
   "execution_count": 14,
   "id": "296c18b9",
   "metadata": {},
   "outputs": [],
   "source": [
    "def render_features(model):\n",
    "  cfg = model.config\n",
    "  # expert weights\n",
    "  W_exp = model.W_experts.detach()\n",
    "  W_norm = W_exp / (1e-5 + torch.linalg.norm(W_exp, 2, dim=2, keepdim=True))\n",
    "\n",
    "  interference = torch.einsum('ifh,igh->ifg', W_norm, W_exp) # (n_experts, n_features, n_features)\n",
    "  interference[:, torch.arange(cfg.n_features), torch.arange(cfg.n_features)] = 0 # set diagonal to 0\n",
    "\n",
    "  polysemanticity = torch.linalg.norm(interference, dim=-1).cpu()\n",
    "\n",
    "  if model.feature_probability.dim() == 0:\n",
    "    feature_prob_expanded = model.feature_probability.expand(cfg.n_features)\n",
    "  else:\n",
    "    feature_prob_expanded = model.feature_probability\n",
    "  net_interference = (interference**2 * feature_prob_expanded[None, None, :]).sum(-1).cpu()\n",
    "  norms = torch.linalg.norm(W_exp, 2, dim=-1).cpu()\n",
    "\n",
    "  WWT = torch.einsum('eij,ekj->eik', W_exp, W_exp).cpu() # (n_experts, n_features, n_features)\n",
    "\n",
    "  # width = weights[0].cpu()\n",
    "  # x = torch.cumsum(width+0.1, 0) - width[0]\n",
    "  x = torch.arange(cfg.n_features)\n",
    "  width = 0.9\n",
    "\n",
    "  fig = make_subplots(\n",
    "      rows=cfg.n_experts,  # Row per expert\n",
    "      cols=2,  # Column 1: bar graphs, Column 2: heatmaps\n",
    "      shared_xaxes=False,\n",
    "      vertical_spacing=0.05, # 0.05\n",
    "      horizontal_spacing=0.1,\n",
    "      subplot_titles=[f\"expert {i}\" if j == 0 else \"\" \n",
    "               for i in range(cfg.n_experts) for j in range(2)],\n",
    "    #   subplot_titles=[f\"expert {i}\" if j == 0 else f\"expert {i}\" \n",
    "                    #  for i in range(cfg.n_experts) for j in range(2)],\n",
    "  )\n",
    "  for expert_idx in range(cfg.n_experts):\n",
    "        fig.add_trace(\n",
    "          go.Bar(\n",
    "              x=x, \n",
    "              y=norms[expert_idx],\n",
    "              marker=dict(\n",
    "                  color=polysemanticity[expert_idx],\n",
    "                  cmin=0,\n",
    "                  cmax=1\n",
    "              ),\n",
    "          ),\n",
    "          row=expert_idx+1, col=1  # Left column for bar graphs\n",
    "      )\n",
    "      # Column 2: WWT heatmap for this expert\n",
    "        fig.add_trace(\n",
    "          go.Image(\n",
    "              z=plt.cm.coolwarm((1 + WWT[expert_idx].numpy())/2, bytes=True),\n",
    "              colormodel='rgba256',\n",
    "              customdata = WWT[expert_idx].numpy(),\n",
    "              hovertemplate=f'expert {expert_idx}<br>In: %{{x}}<br>Out: %{{y}}<br> weight: %{{customdata:0.2f}}',\n",
    "          ),\n",
    "          row=expert_idx+1, col=2  # Right column for heatmaps\n",
    "      )\n",
    "\n",
    "  for expert_idx in range(cfg.n_experts):\n",
    "      fig.add_vline(\n",
    "          x=(x[cfg.n_hidden-1]+x[cfg.n_hidden])/2, \n",
    "          line=dict(width=0.5),\n",
    "          row=expert_idx+1,\n",
    "          col=1,\n",
    "      )\n",
    "    \n",
    "  fig.update_layout(\n",
    "      showlegend=False, \n",
    "      width=800,  # Fixed width for 2 columns\n",
    "      height=300 * cfg.n_experts,  # Scale height with number of experts\n",
    "      margin=dict(t=50, b=20)  # Space for subplot titles\n",
    "  )\n",
    "  \n",
    "  # Show x-axes for bar graphs (column 1) and hide for heatmaps (column 2)\n",
    "  fig.update_xaxes(visible=True, col=1)\n",
    "  fig.update_xaxes(visible=False, col=2)\n",
    "  \n",
    "  fig.update_yaxes(visible=True, col=1)\n",
    "  fig.update_yaxes(visible=True, title=\"norm\", row=1, col=1)  # Only on first row\n",
    "\n",
    "  return fig"
   ]
  },
  {
   "cell_type": "code",
   "execution_count": 15,
   "id": "8581e2a5",
   "metadata": {},
   "outputs": [
    {
     "data": {
      "application/vnd.plotly.v1+json": {
       "config": {
        "plotlyServerURL": "https://plot.ly"
       },
       "data": [
        {
         "marker": {
          "cmax": 1,
          "cmin": 0,
          "color": {
           "bdata": "PL6AP9kngT+R2Fw/sF9/Pz3tkDy2boE/KhqOPXdhrD+dsJM/KdyAPxaAmT/y+Yo/R2awPwwrjj+zG7I/a8eMP357iT+/nJw/pP6JP9drsz8=",
           "dtype": "f4"
          }
         },
         "type": "bar",
         "x": {
          "bdata": "AAECAwQFBgcICQoLDA0ODxAREhM=",
          "dtype": "i1"
         },
         "xaxis": "x",
         "y": {
          "bdata": "+RmBPyapgD8CyoA/OxaBP+MUgD/kqH4/n+t/P04qiDzvWxg9nsdcP+TPOD0boxM9OksTPeU8CD1QNy09GrLiO1+PQTxUnls8oL50PGsJOz0=",
          "dtype": "f4"
         },
         "yaxis": "y"
        },
        {
         "colormodel": "rgba256",
         "customdata": {
          "bdata": "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",
          "dtype": "f4",
          "shape": "20, 20"
         },
         "hovertemplate": "expert 0<br>In: %{x}<br>Out: %{y}<br> weight: %{customdata:0.2f}",
         "type": "image",
         "xaxis": "x2",
         "yaxis": "y2",
         "z": {
          "bdata": "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",
          "dtype": "u1",
          "shape": "20, 20, 4"
         }
        },
        {
         "marker": {
          "cmax": 1,
          "cmin": 0,
          "color": {
           "bdata": "v4iAPzUWgD+YIoI/HEyRPdPhgT+R6nY/UySUP9E4tz/BiLA/Mf+AP3p/zz/vSb0/RaGiP6bszT+TS7g/9dzUP5Vw0T+jRtQ/Yw3cP7twtz8=",
           "dtype": "f4"
          }
         },
         "type": "bar",
         "x": {
          "bdata": "AAECAwQFBgcICQoLDA0ODxAREhM=",
          "dtype": "i1"
         },
         "xaxis": "x3",
         "y": {
          "bdata": "0hyCP7HggT/Ag4A/idl/P9YUgD/r+IA/dY75PBT0gD/b/Ik/i952P8x6Kj3AnG8/HyDePKMl0D3+Gps80kSAPKETmzwTSts8l4UNPaCNZjw=",
          "dtype": "f4"
         },
         "yaxis": "y3"
        },
        {
         "colormodel": "rgba256",
         "customdata": {
          "bdata": "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",
          "dtype": "f4",
          "shape": "20, 20"
         },
         "hovertemplate": "expert 1<br>In: %{x}<br>Out: %{y}<br> weight: %{customdata:0.2f}",
         "type": "image",
         "xaxis": "x4",
         "yaxis": "y4",
         "z": {
          "bdata": "swMm/9zc3f86TMD/3dzb/9zc3f/c3N3/3Nzd/9zc3f/d3Nv/3dzb/9zc3f/c3N3/29ze/9zc3f/d3Nv/3Nzd/97b2v/c3N3/3Nzd/9zc3f/c3N3/swMm/93c2//c3N3/OkzA/9zc3f/c3N3/3Nzd/93c2//c3N3/3Nzd/9zc3f/c3N3/3Nzd/9zc3f/c3N3/3dzb/93c2//c3N3/3Nzd/zpMwP/d3Nv/swMm/9zc3f/c3N3/3dzb/93c2//d3Nv/3dzb/9zc3f/d3Nv/3dzb/97b2v/d3Nv/3Nzd/93c2//b3N7/3dzb/93c2//d3Nv/3dzb/9zc3f/c3N3/swMm/93c2//c3N3/4NrX/9/b2f/c3N3/3dzb/9/b2f/a3N//39vZ/9bb5P/e29r/3dzb/9zc3f/e29r/3Nzd/97b2v/c3N3/OkzA/9zc3f/d3Nv/swMm/93c2//d3Nv/3dzb/9zc3f/d3Nv/3dzb/93c2//d3Nv/3dzb/93c2//d3Nv/3Nzd/9zc3f/d3Nv/3dzb/9zc3f/c3N3/3dzb/9zc3f/d3Nv/swMm/97b2v/d3Nv/3Nzd/z5RxP/e29r/3Nzd/93c2//c3N3/3dzb/9zc3f/c3N3/3dzb/9zc3f/d3Nv/3Nzd/9zc3f/d3Nv/4NrX/93c2//e29r/3dzb/97b2v/b3N7/29ze/93c2//d3Nv/3dzb/9zc3f/d3Nv/3dzb/93c2//d3Nv/3Nzd/93c2//c3N3/3Nzd/93c2//f29n/3dzb/93c2//e29r/swMm/zpMwP/c3N3/4drW/74jLf/e29r/0Nrp/97b2v/e29r/3tva/+Da1//Y2+H/3tva/93c2//d3Nv/3dzb/9zc3f/c3N3/3Nzd/9vc3v86TMD/swMm/93c2//X2+L/OkzA/9vc3v/o1cr/29ze/9vc3v/a3N//2dzg/+Ha1v/b3N7/3dzb/9zc3f/c3N3/3dzb/93c2/8+UcT/29ze/9zc3f/d3Nv/vygu/9zc3f/d3Nv/3Nzd/93c2//d3Nv/3dzb/93c2//c3N3/3dzb/9zc3f/c3N3/3Nzd/93c2//f29n/3dzb/97b2v/d3Nv/4drW/9fb4v/c3N3/3dzb/+Ha1v/d3Nv/3Nzd/93c2//d3Nv/3dzb/93c2//c3N3/3dzb/9zc3f/c3N3/3dzb/9rc3//d3Nv/3Nzd/93c2/++Iy3/OkzA/93c2//h2tb/yTs3/97b2v/R2uj/3tva/97b2v/e29r/39vZ/9nc4P/e29r/29ze/9zc3f/e29r/39vZ/93c2//d3Nv/3dzb/97b2v/b3N7/3Nzd/93c2//e29r/3dzb/9zc3f/d3Nv/3dzb/93c2//d3Nv/3Nzd/93c2//c3N3/3Nzd/93c2//W2+T/3dzb/9zc3f/c3N3/0Nrp/+jVyv/d3Nv/3Nzd/9Ha6P/c3N3/3tva/9zc3f/c3N3/3Nzd/9zc3f/d3Nv/3Nzd/93c2//c3N3/3Nzd/97b2v/d3Nv/3dzb/93c2//e29r/29ze/93c2//d3Nv/3tva/93c2//c3N3/3dzb/93c2//d3Nv/3dzb/9zc3f/d3Nv/3Nzd/9zc3f/d3Nv/3dzb/93c2//c3N3/3dzb/97b2v/b3N7/3dzb/93c2//e29r/3dzb/9zc3f/d3Nv/3dzb/93c2//d3Nv/3Nzd/93c2//e29r/3dzb/9vc3v/c3N3/3Nzd/9zc3f/d3Nv/3tva/9rc3//d3Nv/3dzb/97b2v/d3Nv/3Nzd/93c2//d3Nv/3dzb/93c2//c3N3/3dzb/9zc3f/d3Nv/3dzb/97b2v/c3N3/3dzb/93c2//g2tf/2dzg/9zc3f/d3Nv/39vZ/93c2//c3N3/3dzb/93c2//d3Nv/3dzb/9zc3f/d3Nv/3Nzd/9zc3f/d3Nv/3Nzd/93c2//c3N3/3Nzd/9jb4f/h2tb/3dzb/9zc3f/Z3OD/3Nzd/93c2//c3N3/3Nzd/9zc3f/c3N3/3dzb/9zc3f/c3N3/3Nzd/93c2//e29r/3dzb/93c2//d3Nv/3tva/9vc3v/c3N3/3dzb/97b2v/d3Nv/3Nzd/93c2//d3Nv/3dzb/93c2//c3N3/3dzb/w==",
          "dtype": "u1",
          "shape": "20, 20, 4"
         }
        },
        {
         "marker": {
          "cmax": 1,
          "cmin": 0,
          "color": {
           "bdata": "29KAP3Y8gD/CoXs8NMmAP2bLgD+heHs/o7yAP4qKfj8Mva8/t5qAP2c9tT8SB7M/7I2yP3xGsz/lC60/9jyfP2kRoz+TEag/wVewP45QtD8=",
           "dtype": "f4"
          }
         },
         "type": "bar",
         "x": {
          "bdata": "AAECAwQFBgcICQoLDA0ODxAREhM=",
          "dtype": "i1"
         },
         "xaxis": "x5",
         "y": {
          "bdata": "0DuAP7nSgD86FYA/78mAPxjHgD89uYA/5HJ7P4aFgD+pnXk8r19+Py2eyDtQZcw8+cVlPGGKgzwJ80Q85PobPGdoETxe6wg8wC4GPAUV+Ds=",
          "dtype": "f4"
         },
         "yaxis": "y5"
        },
        {
         "colormodel": "rgba256",
         "customdata": {
          "bdata": "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",
          "dtype": "f4",
          "shape": "20, 20"
         },
         "hovertemplate": "expert 2<br>In: %{x}<br>Out: %{y}<br> weight: %{customdata:0.2f}",
         "type": "image",
         "xaxis": "x6",
         "yaxis": "y6",
         "z": {
          "bdata": "swMm/zpMwP/c3N3/3dzb/93c2//d3Nv/3dzb/9zc3f/d3Nv/3dzb/93c2//d3Nv/3dzb/93c2//c3N3/3Nzd/93c2//d3Nv/3Nzd/9zc3f86TMD/swMm/93c2//c3N3/3dzb/93c2//c3N3/3dzb/9zc3f/c3N3/3Nzd/9zc3f/c3N3/3Nzd/93c2//d3Nv/3Nzd/9zc3f/d3Nv/3dzb/9zc3f/d3Nv/swMm/9zc3f/d3Nv/3dzb/9zc3f/c3N3/3dzb/9zc3f/c3N3/3dzb/93c2//d3Nv/3dzb/9zc3f/c3N3/3Nzd/93c2//d3Nv/3dzb/9zc3f/c3N3/swMm/zpMwP/d3Nv/3Nzd/93c2//c3N3/3Nzd/93c2//c3N3/3dzb/9zc3f/d3Nv/3dzb/9zc3f/d3Nv/3dzb/93c2//d3Nv/3dzb/93c2/86TMD/swMm/9zc3f/d3Nv/3dzb/93c2//d3Nv/3Nzd/93c2//c3N3/3dzb/9zc3f/c3N3/3dzb/9zc3f/c3N3/3Nzd/93c2//d3Nv/3dzb/93c2//c3N3/swMm/ztNwf/d3Nv/29ze/9zc3f/d3Nv/3Nzd/9zc3f/c3N3/3dzb/9zc3f/c3N3/3Nzd/93c2//c3N3/3dzb/9zc3f/c3N3/3Nzd/93c2/87TcH/uRYq/93c2//e29r/3Nzd/9zc3f/d3Nv/3dzb/93c2//c3N3/3dzb/93c2//d3Nv/3Nzd/93c2//c3N3/3dzb/9zc3f/d3Nv/3dzb/93c2//d3Nv/swMm/97b2v86TMD/3dzb/+Da1//e29r/3tva/97b2v/c3N3/3Nzd/9zc3f/d3Nv/3dzb/93c2//c3N3/3dzb/9zc3f/d3Nv/29ze/97b2v/e29r/3dzb/9vc3v/c3N3/3dzb/93c2//d3Nv/3dzb/9zc3f/c3N3/3Nzd/9zc3f/d3Nv/3dzb/9zc3f/c3N3/3Nzd/93c2//c3N3/3Nzd/zpMwP/b3N7/tQgn/9zc3f/Z3OD/29ze/9vc3v/b3N7/3dzb/93c2//d3Nv/3Nzd/9zc3f/d3Nv/3Nzd/9zc3f/d3Nv/3Nzd/93c2//c3N3/3dzb/9zc3f/c3N3/3dzb/9zc3f/d3Nv/3Nzd/93c2//d3Nv/3Nzd/93c2//d3Nv/3dzb/93c2//c3N3/3dzb/9zc3f/d3Nv/3Nzd/93c2//g2tf/3dzb/9nc4P/c3N3/3dzb/93c2//d3Nv/3dzb/9zc3f/c3N3/3Nzd/93c2//d3Nv/3dzb/9zc3f/d3Nv/3dzb/9zc3f/c3N3/3dzb/97b2v/d3Nv/29ze/93c2//d3Nv/3dzb/93c2//d3Nv/3Nzd/9zc3f/c3N3/3dzb/93c2//d3Nv/3Nzd/93c2//c3N3/3dzb/9zc3f/d3Nv/3tva/93c2//b3N7/3Nzd/93c2//d3Nv/3dzb/93c2//c3N3/3Nzd/9zc3f/d3Nv/3dzb/9zc3f/d3Nv/3dzb/93c2//c3N3/3dzb/9zc3f/e29r/3dzb/9vc3v/d3Nv/3dzb/93c2//d3Nv/3dzb/9zc3f/c3N3/3Nzd/93c2//d3Nv/3Nzd/93c2//c3N3/3dzb/9zc3f/c3N3/3dzb/9zc3f/c3N3/3dzb/93c2//c3N3/3Nzd/9zc3f/c3N3/3dzb/93c2//d3Nv/3Nzd/9zc3f/d3Nv/3Nzd/9zc3f/c3N3/3dzb/9zc3f/d3Nv/3Nzd/9zc3f/d3Nv/3Nzd/9zc3f/c3N3/3Nzd/9zc3f/d3Nv/3dzb/93c2//c3N3/3Nzd/93c2//c3N3/3Nzd/93c2//c3N3/3Nzd/93c2//c3N3/3Nzd/93c2//d3Nv/3Nzd/9zc3f/c3N3/3Nzd/93c2//d3Nv/3dzb/9zc3f/c3N3/3Nzd/93c2//d3Nv/3dzb/9zc3f/d3Nv/3Nzd/93c2//c3N3/3Nzd/93c2//d3Nv/3dzb/93c2//d3Nv/3Nzd/9zc3f/c3N3/3dzb/93c2//c3N3/3dzb/93c2//d3Nv/3Nzd/9zc3f/d3Nv/3dzb/93c2//c3N3/3dzb/93c2//d3Nv/3dzb/93c2//c3N3/3Nzd/9zc3f/d3Nv/3dzb/w==",
          "dtype": "u1",
          "shape": "20, 20, 4"
         }
        },
        {
         "marker": {
          "cmax": 1,
          "cmin": 0,
          "color": {
           "bdata": "qf3lPLUSMz3/nX8/QjCBP45Kez8jB4E/xsSBP0aJpz9QbYI/mOG0Pzjrgz+TGLY/QZ6KP4rLjT/jAo8/jVKDP6HGkT9iW6I/7/60P3UplD8=",
           "dtype": "f4"
          }
         },
         "type": "bar",
         "x": {
          "bdata": "AAECAwQFBgcICQoLDA0ODxAREhM=",
          "dtype": "i1"
         },
         "xaxis": "x7",
         "y": {
          "bdata": "qiOAP9h0gD9nL4E/cJt/P6xogj+4k4E/k9WAP2ybET3oQHs/ms8QPaYiIT1ekAU9WAmhPNYjrTvnQDc8btrWOw74UjxuUyo8JZo/PNS9pDs=",
          "dtype": "f4"
         },
         "yaxis": "y7"
        },
        {
         "colormodel": "rgba256",
         "customdata": {
          "bdata": "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",
          "dtype": "f4",
          "shape": "20, 20"
         },
         "hovertemplate": "expert 3<br>In: %{x}<br>Out: %{y}<br> weight: %{customdata:0.2f}",
         "type": "image",
         "xaxis": "x8",
         "yaxis": "y8",
         "z": {
          "bdata": "swMm/9zc3f/d3Nv/3dzb/9zc3f/c3N3/3dzb/97b2v/c3N3/3dzb/9rc3//c3N3/29ze/93c2//c3N3/3dzb/93c2//d3Nv/3Nzd/9zc3f/c3N3/swMm/93c2//c3N3/3Nzd/9zc3f/c3N3/39vZ/9zc3f/d3Nv/2Nvh/93c2//b3N7/3dzb/9zc3f/d3Nv/3tva/93c2//c3N3/3Nzd/93c2//d3Nv/swMm/zpMwP/c3N3/3Nzd/93c2//c3N3/3dzb/9zc3f/c3N3/3dzb/93c2//c3N3/3dzb/9zc3f/c3N3/3Nzd/9zc3f/d3Nv/3dzb/9zc3f86TMD/swMm/9zc3f/d3Nv/3dzb/93c2//d3Nv/3dzb/93c2//c3N3/3Nzd/93c2//c3N3/3dzb/93c2//d3Nv/3dzb/9zc3f/c3N3/3Nzd/9zc3f/c3N3/swMm/93c2//c3N3/3dzb/zpMwP/d3Nv/3tva/93c2//e29r/3dzb/93c2//d3Nv/3Nzd/93c2//b3N7/3dzb/9zc3f/c3N3/3Nzd/93c2//d3Nv/swMm/zpMwP/Z3OD/3dzb/9jb4f/d3Nv/2Nvh/93c2//c3N3/3dzb/9zc3f/c3N3/3dzb/9zc3f/c3N3/3dzb/9zc3f/d3Nv/3dzb/9zc3f86TMD/swMm/+Da1//d3Nv/4drW/9zc3f/h2tb/3Nzd/93c2//c3N3/3dzb/93c2//c3N3/3dzb/93c2//e29r/39vZ/9zc3f/d3Nv/3dzb/9nc4P/g2tf/3dzb/9zc3f/d3Nv/3Nzd/93c2//c3N3/3dzb/9zc3f/d3Nv/3dzb/93c2//d3Nv/3Nzd/9zc3f/c3N3/3dzb/93c2/86TMD/3dzb/93c2//c3N3/uRYq/9zc3f/b3N7/3Nzd/9zc3f/c3N3/3Nzd/9zc3f/d3Nv/3Nzd/97b2v/c3N3/3dzb/93c2//c3N3/3dzb/93c2//Y2+H/4drW/93c2//c3N3/3dzb/9zc3f/d3Nv/3Nzd/93c2//c3N3/3dzb/93c2//c3N3/3dzb/93c2//a3N//2Nvh/9zc3f/d3Nv/3tva/93c2//c3N3/3Nzd/9vc3v/c3N3/3dzb/9zc3f/d3Nv/3Nzd/93c2//c3N3/3Nzd/9zc3f/c3N3/3dzb/9zc3f/d3Nv/3dzb/9zc3f/d3Nv/2Nvh/+Ha1v/d3Nv/3Nzd/93c2//c3N3/3dzb/9zc3f/d3Nv/3Nzd/93c2//d3Nv/3Nzd/93c2//d3Nv/29ze/9vc3v/d3Nv/3Nzd/97b2v/d3Nv/3Nzd/9zc3f/c3N3/3Nzd/93c2//c3N3/3dzb/9zc3f/d3Nv/3Nzd/9zc3f/c3N3/3Nzd/93c2//d3Nv/3dzb/9zc3f/d3Nv/3dzb/9zc3f/d3Nv/3dzb/9zc3f/d3Nv/3Nzd/93c2//c3N3/3dzb/9zc3f/d3Nv/3dzb/93c2//c3N3/3Nzd/9zc3f/c3N3/3dzb/9zc3f/d3Nv/3dzb/9zc3f/c3N3/3Nzd/9zc3f/d3Nv/3Nzd/93c2//c3N3/3dzb/9zc3f/c3N3/3Nzd/9zc3f/d3Nv/3dzb/93c2//c3N3/3dzb/93c2//c3N3/3dzb/93c2//c3N3/3dzb/9zc3f/d3Nv/3Nzd/93c2//c3N3/3dzb/93c2//d3Nv/3Nzd/9zc3f/d3Nv/3tva/9zc3f/d3Nv/3Nzd/9zc3f/d3Nv/3dzb/93c2//d3Nv/3Nzd/93c2//c3N3/3dzb/9zc3f/d3Nv/3dzb/93c2//d3Nv/3Nzd/93c2//d3Nv/3Nzd/93c2//d3Nv/3dzb/9zc3f/d3Nv/3Nzd/9zc3f/c3N3/3Nzd/9zc3f/d3Nv/3Nzd/93c2//d3Nv/3dzb/9zc3f/c3N3/3Nzd/9zc3f/c3N3/3dzb/9vc3v/c3N3/3dzb/93c2//e29r/3dzb/9zc3f/d3Nv/3Nzd/9zc3f/c3N3/3Nzd/93c2//c3N3/3dzb/9zc3f/c3N3/3Nzd/93c2//c3N3/3dzb/9zc3f/d3Nv/3Nzd/9zc3f/d3Nv/3dzb/93c2//d3Nv/3Nzd/93c2//c3N3/3Nzd/9zc3f/c3N3/3dzb/w==",
          "dtype": "u1",
          "shape": "20, 20, 4"
         }
        }
       ],
       "layout": {
        "annotations": [
         {
          "font": {
           "size": 16
          },
          "showarrow": false,
          "text": "expert 0",
          "x": 0.225,
          "xanchor": "center",
          "xref": "paper",
          "y": 1,
          "yanchor": "bottom",
          "yref": "paper"
         },
         {
          "font": {
           "size": 16
          },
          "showarrow": false,
          "text": "expert 1",
          "x": 0.225,
          "xanchor": "center",
          "xref": "paper",
          "y": 0.7375,
          "yanchor": "bottom",
          "yref": "paper"
         },
         {
          "font": {
           "size": 16
          },
          "showarrow": false,
          "text": "expert 2",
          "x": 0.225,
          "xanchor": "center",
          "xref": "paper",
          "y": 0.475,
          "yanchor": "bottom",
          "yref": "paper"
         },
         {
          "font": {
           "size": 16
          },
          "showarrow": false,
          "text": "expert 3",
          "x": 0.225,
          "xanchor": "center",
          "xref": "paper",
          "y": 0.2125,
          "yanchor": "bottom",
          "yref": "paper"
         }
        ],
        "height": 1200,
        "margin": {
         "b": 20,
         "t": 50
        },
        "shapes": [
         {
          "line": {
           "width": 0.5
          },
          "type": "line",
          "x0": 4.5,
          "x1": 4.5,
          "xref": "x",
          "y0": 0,
          "y1": 1,
          "yref": "y domain"
         },
         {
          "line": {
           "width": 0.5
          },
          "type": "line",
          "x0": 4.5,
          "x1": 4.5,
          "xref": "x3",
          "y0": 0,
          "y1": 1,
          "yref": "y3 domain"
         },
         {
          "line": {
           "width": 0.5
          },
          "type": "line",
          "x0": 4.5,
          "x1": 4.5,
          "xref": "x5",
          "y0": 0,
          "y1": 1,
          "yref": "y5 domain"
         },
         {
          "line": {
           "width": 0.5
          },
          "type": "line",
          "x0": 4.5,
          "x1": 4.5,
          "xref": "x7",
          "y0": 0,
          "y1": 1,
          "yref": "y7 domain"
         }
        ],
        "showlegend": false,
        "template": {
         "data": {
          "bar": [
           {
            "error_x": {
             "color": "#2a3f5f"
            },
            "error_y": {
             "color": "#2a3f5f"
            },
            "marker": {
             "line": {
              "color": "#E5ECF6",
              "width": 0.5
             },
             "pattern": {
              "fillmode": "overlay",
              "size": 10,
              "solidity": 0.2
             }
            },
            "type": "bar"
           }
          ],
          "barpolar": [
           {
            "marker": {
             "line": {
              "color": "#E5ECF6",
              "width": 0.5
             },
             "pattern": {
              "fillmode": "overlay",
              "size": 10,
              "solidity": 0.2
             }
            },
            "type": "barpolar"
           }
          ],
          "carpet": [
           {
            "aaxis": {
             "endlinecolor": "#2a3f5f",
             "gridcolor": "white",
             "linecolor": "white",
             "minorgridcolor": "white",
             "startlinecolor": "#2a3f5f"
            },
            "baxis": {
             "endlinecolor": "#2a3f5f",
             "gridcolor": "white",
             "linecolor": "white",
             "minorgridcolor": "white",
             "startlinecolor": "#2a3f5f"
            },
            "type": "carpet"
           }
          ],
          "choropleth": [
           {
            "colorbar": {
             "outlinewidth": 0,
             "ticks": ""
            },
            "type": "choropleth"
           }
          ],
          "contour": [
           {
            "colorbar": {
             "outlinewidth": 0,
             "ticks": ""
            },
            "colorscale": [
             [
              0,
              "#0d0887"
             ],
             [
              0.1111111111111111,
              "#46039f"
             ],
             [
              0.2222222222222222,
              "#7201a8"
             ],
             [
              0.3333333333333333,
              "#9c179e"
             ],
             [
              0.4444444444444444,
              "#bd3786"
             ],
             [
              0.5555555555555556,
              "#d8576b"
             ],
             [
              0.6666666666666666,
              "#ed7953"
             ],
             [
              0.7777777777777778,
              "#fb9f3a"
             ],
             [
              0.8888888888888888,
              "#fdca26"
             ],
             [
              1,
              "#f0f921"
             ]
            ],
            "type": "contour"
           }
          ],
          "contourcarpet": [
           {
            "colorbar": {
             "outlinewidth": 0,
             "ticks": ""
            },
            "type": "contourcarpet"
           }
          ],
          "heatmap": [
           {
            "colorbar": {
             "outlinewidth": 0,
             "ticks": ""
            },
            "colorscale": [
             [
              0,
              "#0d0887"
             ],
             [
              0.1111111111111111,
              "#46039f"
             ],
             [
              0.2222222222222222,
              "#7201a8"
             ],
             [
              0.3333333333333333,
              "#9c179e"
             ],
             [
              0.4444444444444444,
              "#bd3786"
             ],
             [
              0.5555555555555556,
              "#d8576b"
             ],
             [
              0.6666666666666666,
              "#ed7953"
             ],
             [
              0.7777777777777778,
              "#fb9f3a"
             ],
             [
              0.8888888888888888,
              "#fdca26"
             ],
             [
              1,
              "#f0f921"
             ]
            ],
            "type": "heatmap"
           }
          ],
          "histogram": [
           {
            "marker": {
             "pattern": {
              "fillmode": "overlay",
              "size": 10,
              "solidity": 0.2
             }
            },
            "type": "histogram"
           }
          ],
          "histogram2d": [
           {
            "colorbar": {
             "outlinewidth": 0,
             "ticks": ""
            },
            "colorscale": [
             [
              0,
              "#0d0887"
             ],
             [
              0.1111111111111111,
              "#46039f"
             ],
             [
              0.2222222222222222,
              "#7201a8"
             ],
             [
              0.3333333333333333,
              "#9c179e"
             ],
             [
              0.4444444444444444,
              "#bd3786"
             ],
             [
              0.5555555555555556,
              "#d8576b"
             ],
             [
              0.6666666666666666,
              "#ed7953"
             ],
             [
              0.7777777777777778,
              "#fb9f3a"
             ],
             [
              0.8888888888888888,
              "#fdca26"
             ],
             [
              1,
              "#f0f921"
             ]
            ],
            "type": "histogram2d"
           }
          ],
          "histogram2dcontour": [
           {
            "colorbar": {
             "outlinewidth": 0,
             "ticks": ""
            },
            "colorscale": [
             [
              0,
              "#0d0887"
             ],
             [
              0.1111111111111111,
              "#46039f"
             ],
             [
              0.2222222222222222,
              "#7201a8"
             ],
             [
              0.3333333333333333,
              "#9c179e"
             ],
             [
              0.4444444444444444,
              "#bd3786"
             ],
             [
              0.5555555555555556,
              "#d8576b"
             ],
             [
              0.6666666666666666,
              "#ed7953"
             ],
             [
              0.7777777777777778,
              "#fb9f3a"
             ],
             [
              0.8888888888888888,
              "#fdca26"
             ],
             [
              1,
              "#f0f921"
             ]
            ],
            "type": "histogram2dcontour"
           }
          ],
          "mesh3d": [
           {
            "colorbar": {
             "outlinewidth": 0,
             "ticks": ""
            },
            "type": "mesh3d"
           }
          ],
          "parcoords": [
           {
            "line": {
             "colorbar": {
              "outlinewidth": 0,
              "ticks": ""
             }
            },
            "type": "parcoords"
           }
          ],
          "pie": [
           {
            "automargin": true,
            "type": "pie"
           }
          ],
          "scatter": [
           {
            "fillpattern": {
             "fillmode": "overlay",
             "size": 10,
             "solidity": 0.2
            },
            "type": "scatter"
           }
          ],
          "scatter3d": [
           {
            "line": {
             "colorbar": {
              "outlinewidth": 0,
              "ticks": ""
             }
            },
            "marker": {
             "colorbar": {
              "outlinewidth": 0,
              "ticks": ""
             }
            },
            "type": "scatter3d"
           }
          ],
          "scattercarpet": [
           {
            "marker": {
             "colorbar": {
              "outlinewidth": 0,
              "ticks": ""
             }
            },
            "type": "scattercarpet"
           }
          ],
          "scattergeo": [
           {
            "marker": {
             "colorbar": {
              "outlinewidth": 0,
              "ticks": ""
             }
            },
            "type": "scattergeo"
           }
          ],
          "scattergl": [
           {
            "marker": {
             "colorbar": {
              "outlinewidth": 0,
              "ticks": ""
             }
            },
            "type": "scattergl"
           }
          ],
          "scattermap": [
           {
            "marker": {
             "colorbar": {
              "outlinewidth": 0,
              "ticks": ""
             }
            },
            "type": "scattermap"
           }
          ],
          "scattermapbox": [
           {
            "marker": {
             "colorbar": {
              "outlinewidth": 0,
              "ticks": ""
             }
            },
            "type": "scattermapbox"
           }
          ],
          "scatterpolar": [
           {
            "marker": {
             "colorbar": {
              "outlinewidth": 0,
              "ticks": ""
             }
            },
            "type": "scatterpolar"
           }
          ],
          "scatterpolargl": [
           {
            "marker": {
             "colorbar": {
              "outlinewidth": 0,
              "ticks": ""
             }
            },
            "type": "scatterpolargl"
           }
          ],
          "scatterternary": [
           {
            "marker": {
             "colorbar": {
              "outlinewidth": 0,
              "ticks": ""
             }
            },
            "type": "scatterternary"
           }
          ],
          "surface": [
           {
            "colorbar": {
             "outlinewidth": 0,
             "ticks": ""
            },
            "colorscale": [
             [
              0,
              "#0d0887"
             ],
             [
              0.1111111111111111,
              "#46039f"
             ],
             [
              0.2222222222222222,
              "#7201a8"
             ],
             [
              0.3333333333333333,
              "#9c179e"
             ],
             [
              0.4444444444444444,
              "#bd3786"
             ],
             [
              0.5555555555555556,
              "#d8576b"
             ],
             [
              0.6666666666666666,
              "#ed7953"
             ],
             [
              0.7777777777777778,
              "#fb9f3a"
             ],
             [
              0.8888888888888888,
              "#fdca26"
             ],
             [
              1,
              "#f0f921"
             ]
            ],
            "type": "surface"
           }
          ],
          "table": [
           {
            "cells": {
             "fill": {
              "color": "#EBF0F8"
             },
             "line": {
              "color": "white"
             }
            },
            "header": {
             "fill": {
              "color": "#C8D4E3"
             },
             "line": {
              "color": "white"
             }
            },
            "type": "table"
           }
          ]
         },
         "layout": {
          "annotationdefaults": {
           "arrowcolor": "#2a3f5f",
           "arrowhead": 0,
           "arrowwidth": 1
          },
          "autotypenumbers": "strict",
          "coloraxis": {
           "colorbar": {
            "outlinewidth": 0,
            "ticks": ""
           }
          },
          "colorscale": {
           "diverging": [
            [
             0,
             "#8e0152"
            ],
            [
             0.1,
             "#c51b7d"
            ],
            [
             0.2,
             "#de77ae"
            ],
            [
             0.3,
             "#f1b6da"
            ],
            [
             0.4,
             "#fde0ef"
            ],
            [
             0.5,
             "#f7f7f7"
            ],
            [
             0.6,
             "#e6f5d0"
            ],
            [
             0.7,
             "#b8e186"
            ],
            [
             0.8,
             "#7fbc41"
            ],
            [
             0.9,
             "#4d9221"
            ],
            [
             1,
             "#276419"
            ]
           ],
           "sequential": [
            [
             0,
             "#0d0887"
            ],
            [
             0.1111111111111111,
             "#46039f"
            ],
            [
             0.2222222222222222,
             "#7201a8"
            ],
            [
             0.3333333333333333,
             "#9c179e"
            ],
            [
             0.4444444444444444,
             "#bd3786"
            ],
            [
             0.5555555555555556,
             "#d8576b"
            ],
            [
             0.6666666666666666,
             "#ed7953"
            ],
            [
             0.7777777777777778,
             "#fb9f3a"
            ],
            [
             0.8888888888888888,
             "#fdca26"
            ],
            [
             1,
             "#f0f921"
            ]
           ],
           "sequentialminus": [
            [
             0,
             "#0d0887"
            ],
            [
             0.1111111111111111,
             "#46039f"
            ],
            [
             0.2222222222222222,
             "#7201a8"
            ],
            [
             0.3333333333333333,
             "#9c179e"
            ],
            [
             0.4444444444444444,
             "#bd3786"
            ],
            [
             0.5555555555555556,
             "#d8576b"
            ],
            [
             0.6666666666666666,
             "#ed7953"
            ],
            [
             0.7777777777777778,
             "#fb9f3a"
            ],
            [
             0.8888888888888888,
             "#fdca26"
            ],
            [
             1,
             "#f0f921"
            ]
           ]
          },
          "colorway": [
           "#636efa",
           "#EF553B",
           "#00cc96",
           "#ab63fa",
           "#FFA15A",
           "#19d3f3",
           "#FF6692",
           "#B6E880",
           "#FF97FF",
           "#FECB52"
          ],
          "font": {
           "color": "#2a3f5f"
          },
          "geo": {
           "bgcolor": "white",
           "lakecolor": "white",
           "landcolor": "#E5ECF6",
           "showlakes": true,
           "showland": true,
           "subunitcolor": "white"
          },
          "hoverlabel": {
           "align": "left"
          },
          "hovermode": "closest",
          "mapbox": {
           "style": "light"
          },
          "paper_bgcolor": "white",
          "plot_bgcolor": "#E5ECF6",
          "polar": {
           "angularaxis": {
            "gridcolor": "white",
            "linecolor": "white",
            "ticks": ""
           },
           "bgcolor": "#E5ECF6",
           "radialaxis": {
            "gridcolor": "white",
            "linecolor": "white",
            "ticks": ""
           }
          },
          "scene": {
           "xaxis": {
            "backgroundcolor": "#E5ECF6",
            "gridcolor": "white",
            "gridwidth": 2,
            "linecolor": "white",
            "showbackground": true,
            "ticks": "",
            "zerolinecolor": "white"
           },
           "yaxis": {
            "backgroundcolor": "#E5ECF6",
            "gridcolor": "white",
            "gridwidth": 2,
            "linecolor": "white",
            "showbackground": true,
            "ticks": "",
            "zerolinecolor": "white"
           },
           "zaxis": {
            "backgroundcolor": "#E5ECF6",
            "gridcolor": "white",
            "gridwidth": 2,
            "linecolor": "white",
            "showbackground": true,
            "ticks": "",
            "zerolinecolor": "white"
           }
          },
          "shapedefaults": {
           "line": {
            "color": "#2a3f5f"
           }
          },
          "ternary": {
           "aaxis": {
            "gridcolor": "white",
            "linecolor": "white",
            "ticks": ""
           },
           "baxis": {
            "gridcolor": "white",
            "linecolor": "white",
            "ticks": ""
           },
           "bgcolor": "#E5ECF6",
           "caxis": {
            "gridcolor": "white",
            "linecolor": "white",
            "ticks": ""
           }
          },
          "title": {
           "x": 0.05
          },
          "xaxis": {
           "automargin": true,
           "gridcolor": "white",
           "linecolor": "white",
           "ticks": "",
           "title": {
            "standoff": 15
           },
           "zerolinecolor": "white",
           "zerolinewidth": 2
          },
          "yaxis": {
           "automargin": true,
           "gridcolor": "white",
           "linecolor": "white",
           "ticks": "",
           "title": {
            "standoff": 15
           },
           "zerolinecolor": "white",
           "zerolinewidth": 2
          }
         }
        },
        "width": 800,
        "xaxis": {
         "anchor": "y",
         "domain": [
          0,
          0.45
         ],
         "visible": true
        },
        "xaxis2": {
         "anchor": "y2",
         "domain": [
          0.55,
          1
         ],
         "visible": false
        },
        "xaxis3": {
         "anchor": "y3",
         "domain": [
          0,
          0.45
         ],
         "visible": true
        },
        "xaxis4": {
         "anchor": "y4",
         "domain": [
          0.55,
          1
         ],
         "visible": false
        },
        "xaxis5": {
         "anchor": "y5",
         "domain": [
          0,
          0.45
         ],
         "visible": true
        },
        "xaxis6": {
         "anchor": "y6",
         "domain": [
          0.55,
          1
         ],
         "visible": false
        },
        "xaxis7": {
         "anchor": "y7",
         "domain": [
          0,
          0.45
         ],
         "visible": true
        },
        "xaxis8": {
         "anchor": "y8",
         "domain": [
          0.55,
          1
         ],
         "visible": false
        },
        "yaxis": {
         "anchor": "x",
         "domain": [
          0.7875,
          1
         ],
         "title": {
          "text": "norm"
         },
         "visible": true
        },
        "yaxis2": {
         "anchor": "x2",
         "domain": [
          0.7875,
          1
         ]
        },
        "yaxis3": {
         "anchor": "x3",
         "domain": [
          0.525,
          0.7375
         ],
         "visible": true
        },
        "yaxis4": {
         "anchor": "x4",
         "domain": [
          0.525,
          0.7375
         ]
        },
        "yaxis5": {
         "anchor": "x5",
         "domain": [
          0.2625,
          0.475
         ],
         "visible": true
        },
        "yaxis6": {
         "anchor": "x6",
         "domain": [
          0.2625,
          0.475
         ]
        },
        "yaxis7": {
         "anchor": "x7",
         "domain": [
          0,
          0.2125
         ],
         "visible": true
        },
        "yaxis8": {
         "anchor": "x8",
         "domain": [
          0,
          0.2125
         ]
        }
       }
      }
     },
     "metadata": {},
     "output_type": "display_data"
    }
   ],
   "source": [
    "render_features(model)"
   ]
  },
  {
   "cell_type": "markdown",
   "id": "c842e0cd",
   "metadata": {},
   "source": [
    "feature dimensionality for a feature $i$ in expert $e$ is given by:\n",
    "$$\n",
    "D_i^{(e)} = \\frac{\\left\\| W_i^{(e)} \\right\\|^2}{\\sum_j \\left( \\hat{W}_i^{(e)} \\cdot W_j^{(e)} \\right)^2}\n",
    "$$\n",
    "- $\\hat{W}_i^{(e)} = \\frac{W_i^{(e)}}{\\left| W_i^{(e)} \\right|}$ is the unit vector in the direction of $W_i^{(e)}$"
   ]
  },
  {
   "cell_type": "code",
   "execution_count": 16,
   "id": "28031da5",
   "metadata": {},
   "outputs": [],
   "source": [
    "def expert_feat_dimensionality(model):\n",
    "    \"\"\"fraction of a dimension within an expert that is occupied by a feature.\"\"\"\n",
    "    n_experts = model.config.n_experts\n",
    "    n_features = model.config.n_features\n",
    "    \n",
    "    # Initialize tensor to store results for all experts\n",
    "    all_dimensionalities = torch.zeros(n_experts, n_features)\n",
    "    \n",
    "    for expert_idx in range(n_experts):\n",
    "        W_expert = model.W_experts[expert_idx]  # shape: [n_features, n_hidden]\n",
    "        W_norm_squared = torch.sum(W_expert**2, dim=1)  # shape: [n_features], ||W_i||^2\n",
    "        W_hat = W_expert / torch.sqrt(W_norm_squared).unsqueeze(1) # W_hat_i = W_i / ||W_i||\n",
    "        dot_products = torch.mm(W_hat, W_expert.T) # W_hat_i · W_j\n",
    "        squared = dot_products**2\n",
    "        interference = torch.sum(squared, dim=1) # sum of squared dot products for each feature\n",
    "        dimensionality = W_norm_squared / interference # D_i^(e) = ||W_i^(e)||^2 / sum_j(W_hat_i · W_j)^2\n",
    "        all_dimensionalities[expert_idx] = dimensionality\n",
    "    \n",
    "    return torch.round(all_dimensionalities, decimals=3)"
   ]
  },
  {
   "cell_type": "code",
   "execution_count": 22,
   "id": "69e3c9a4",
   "metadata": {},
   "outputs": [
    {
     "data": {
      "text/plain": [
       "tensor([[0.5010, 0.4980, 0.5760, 0.5050, 1.0000, 0.4920, 0.9950, 0.0000, 0.0010,\n",
       "         0.4230, 0.0010, 0.0010, 0.0010, 0.0010, 0.0010, 0.0000, 0.0000, 0.0000,\n",
       "         0.0000, 0.0010],\n",
       "        [0.5060, 0.5070, 0.4940, 0.9950, 0.4930, 0.5220, 0.0010, 0.3310, 0.3790,\n",
       "         0.4780, 0.0010, 0.2860, 0.0000, 0.0040, 0.0000, 0.0000, 0.0000, 0.0000,\n",
       "         0.0000, 0.0000],\n",
       "        [0.4980, 0.5020, 1.0000, 0.5000, 0.5000, 0.5120, 0.4880, 0.5050, 0.0000,\n",
       "         0.4940, 0.0000, 0.0000, 0.0000, 0.0000, 0.0000, 0.0000, 0.0000, 0.0000,\n",
       "         0.0000, 0.0000],\n",
       "        [0.9990, 0.9980, 0.5050, 0.4950, 0.5190, 0.5020, 0.4960, 0.0010, 0.4810,\n",
       "         0.0010, 0.0010, 0.0010, 0.0000, 0.0000, 0.0000, 0.0000, 0.0000, 0.0000,\n",
       "         0.0000, 0.0000]], grad_fn=<RoundBackward1>)"
      ]
     },
     "execution_count": 22,
     "metadata": {},
     "output_type": "execute_result"
    }
   ],
   "source": [
    "expert_feat_dimensionality(model)"
   ]
  },
  {
   "cell_type": "code",
   "execution_count": 18,
   "id": "ff9932ad",
   "metadata": {},
   "outputs": [
    {
     "ename": "IndexError",
     "evalue": "index 20 is out of bounds for dimension 0 with size 20",
     "output_type": "error",
     "traceback": [
      "\u001b[31m---------------------------------------------------------------------------\u001b[39m",
      "\u001b[31mIndexError\u001b[39m                                Traceback (most recent call last)",
      "\u001b[36mCell\u001b[39m\u001b[36m \u001b[39m\u001b[32mIn[18]\u001b[39m\u001b[32m, line 5\u001b[39m\n\u001b[32m      2\u001b[39m W_norm = W_exp / (\u001b[32m1e-5\u001b[39m + torch.linalg.norm(W_exp, \u001b[32m2\u001b[39m, dim=\u001b[32m2\u001b[39m, keepdim=\u001b[38;5;28;01mTrue\u001b[39;00m))\n\u001b[32m      4\u001b[39m interference = torch.einsum(\u001b[33m'\u001b[39m\u001b[33mifh,igh->ifg\u001b[39m\u001b[33m'\u001b[39m, W_norm, W_exp) \u001b[38;5;66;03m# (n_experts, n_features, n_features)\u001b[39;00m\n\u001b[32m----> \u001b[39m\u001b[32m5\u001b[39m \u001b[43minterference\u001b[49m\u001b[43m[\u001b[49m\u001b[43m:\u001b[49m\u001b[43m,\u001b[49m\u001b[43m \u001b[49m\u001b[43mtorch\u001b[49m\u001b[43m.\u001b[49m\u001b[43marange\u001b[49m\u001b[43m(\u001b[49m\u001b[32;43m100\u001b[39;49m\u001b[43m)\u001b[49m\u001b[43m,\u001b[49m\u001b[43m \u001b[49m\u001b[43mtorch\u001b[49m\u001b[43m.\u001b[49m\u001b[43marange\u001b[49m\u001b[43m(\u001b[49m\u001b[32;43m100\u001b[39;49m\u001b[43m)\u001b[49m\u001b[43m]\u001b[49m = \u001b[32m0\u001b[39m \u001b[38;5;66;03m# set diagonal to 0\u001b[39;00m\n\u001b[32m      6\u001b[39m polysemanticity = torch.linalg.norm(interference, dim=-\u001b[32m1\u001b[39m).cpu()\n\u001b[32m      7\u001b[39m \u001b[38;5;28;01mfor\u001b[39;00m i \u001b[38;5;129;01min\u001b[39;00m \u001b[38;5;28mrange\u001b[39m(\u001b[32m10\u001b[39m):\n",
      "\u001b[31mIndexError\u001b[39m: index 20 is out of bounds for dimension 0 with size 20"
     ]
    }
   ],
   "source": [
    "W_exp = model.W_experts.detach()\n",
    "W_norm = W_exp / (1e-5 + torch.linalg.norm(W_exp, 2, dim=2, keepdim=True))\n",
    "\n",
    "interference = torch.einsum('ifh,igh->ifg', W_norm, W_exp) # (n_experts, n_features, n_features)\n",
    "interference[:, torch.arange(100), torch.arange(100)] = 0 # set diagonal to 0\n",
    "polysemanticity = torch.linalg.norm(interference, dim=-1).cpu()\n",
    "for i in range(10):\n",
    "    print(f\"Most monosemantic neurons for expert {i}: {polysemanticity[i].topk(10, largest=False)[1]}\")\n",
    "\n",
    "print(f\"First expert: {polysemanticity[0].topk(10, largest=False)[0]}\")"
   ]
  },
  {
   "cell_type": "markdown",
   "id": "7f6b101b",
   "metadata": {},
   "source": [
    "specialization of feature $i$ to expert $e$ is given by:\n",
    "\n",
    "$$\n",
    "S_i^{(e)} = \\frac{\\left\\| W_i^{(e)} \\right\\|^2}{\\sum_{e'} \\left\\| W_i^{(e')} \\right\\|^2}\n",
    "$$\n",
    "\n",
    "- $S_i^{(e)}$ represents the fraction of feature $i$'s total weight magnitude allocated to expert $e$\n"
   ]
  },
  {
   "cell_type": "code",
   "execution_count": 23,
   "id": "f70df915",
   "metadata": {},
   "outputs": [],
   "source": [
    "def feature_specialization(model):\n",
    "    \"\"\"fraction of feature i allocated to expert e\"\"\"\n",
    "    W_expert = model.W_experts  \n",
    "    W_norm_squared = torch.sum(W_expert**2, dim=2)  # shape: [n_experts, n_features], ||W_i||^2\n",
    "    total_norms_per_feature = torch.sum(W_norm_squared, dim=0)  # sum over experts\n",
    "    specialization = W_norm_squared / total_norms_per_feature.unsqueeze(0) # ||W_i^(e)||^2 for each expert\n",
    "    return torch.round(specialization, decimals=3)"
   ]
  },
  {
   "cell_type": "code",
   "execution_count": 24,
   "id": "24e8c7b6",
   "metadata": {},
   "outputs": [
    {
     "data": {
      "text/plain": [
       "tensor([[0.2510, 0.2490, 0.2510, 0.2530, 0.2470, 0.2450, 0.3360, 0.0000, 0.0010,\n",
       "         0.2790, 0.3800, 0.0010, 0.4950, 0.0940, 0.7400, 0.1120, 0.1880, 0.1670,\n",
       "         0.1380, 0.8810],\n",
       "        [0.2550, 0.2540, 0.2490, 0.2480, 0.2470, 0.2510, 0.0000, 0.5010, 0.5460,\n",
       "         0.3490, 0.3240, 0.9970, 0.2820, 0.8810, 0.1480, 0.5750, 0.4830, 0.6670,\n",
       "         0.7370, 0.0840],\n",
       "        [0.2470, 0.2490, 0.2480, 0.2520, 0.2500, 0.2500, 0.3240, 0.4980, 0.0000,\n",
       "         0.3710, 0.0070, 0.0010, 0.0750, 0.0220, 0.0600, 0.2120, 0.1060, 0.0650,\n",
       "         0.0410, 0.0240],\n",
       "        [0.2470, 0.2480, 0.2520, 0.2480, 0.2560, 0.2540, 0.3400, 0.0010, 0.4530,\n",
       "         0.0000, 0.2890, 0.0010, 0.1480, 0.0020, 0.0520, 0.1010, 0.2230, 0.1010,\n",
       "         0.0840, 0.0110]], grad_fn=<RoundBackward1>)"
      ]
     },
     "execution_count": 24,
     "metadata": {},
     "output_type": "execute_result"
    }
   ],
   "source": [
    "feature_specialization(model)"
   ]
  },
  {
   "cell_type": "code",
   "execution_count": 25,
   "id": "d73581ae",
   "metadata": {},
   "outputs": [
    {
     "name": "stdout",
     "output_type": "stream",
     "text": [
      "tensor([1.0000, 1.0000, 1.0000, 1.0010, 1.0000, 1.0000, 1.0000, 1.0000, 1.0000,\n",
      "        0.9990, 1.0000, 1.0000, 1.0000, 0.9990, 1.0000, 1.0000, 1.0000, 1.0000,\n",
      "        1.0000, 1.0000], grad_fn=<SumBackward1>)\n"
     ]
    }
   ],
   "source": [
    "specialization_tensor = feature_specialization(model)\n",
    "# sum the feature specialization across experts (dimension 0)\n",
    "summed_specialization = torch.sum(specialization_tensor, dim=0)\n",
    "print(summed_specialization)"
   ]
  },
  {
   "cell_type": "code",
   "execution_count": 26,
   "id": "10aac038",
   "metadata": {},
   "outputs": [],
   "source": [
    "def global_feature_dimensionality(model, input_features=None, n_batch=4096):\n",
    "    \"\"\"global feature dimensionality weighted across all experts.\"\"\"\n",
    "    \n",
    "    # get per-expert dimensionalities (you already have this)\n",
    "    expert_dimensionalities = expert_feat_dimensionality(model)  # shape: [n_experts, n_features]\n",
    "    \n",
    "    if input_features is None:\n",
    "        input_features = model.generate_batch(n_batch) \n",
    "    \n",
    "    # compute gating probabilities\n",
    "    gate_scores = torch.einsum(\"...f,ef->...e\", input_features, model.gate)\n",
    "    gate_probs = F.softmax(gate_scores, dim=-1)  # shape: [batch, n_experts]\n",
    "\n",
    "    #Find the top expert for each point\n",
    "    selected = gate_probs.argmax(dim=-1)\n",
    "    counts = torch.bincount(selected.flatten())\n",
    "    if counts.shape[0] < model.config.n_experts:\n",
    "        counts = torch.cat([counts, torch.zeros(model.config.n_experts - counts.shape[0])])\n",
    "    usage = counts / counts.sum()\n",
    "    #print(f\"Usage: {usage}\")\n",
    "    \n",
    "    # average probabilities across batch to get p_e\n",
    "    #p_e = torch.mean(gate_probs, dim=0)  # shape: [n_experts]\n",
    "    #print(f\"p_e: {p_e}\")\n",
    "    \n",
    "    # D_i^global = Σ_e p_e · D_i^(e)\n",
    "    #global_dims_old = torch.einsum(\"e,ef->f\", p_e, expert_dimensionalities)\n",
    "    global_dims_new = torch.einsum(\"e,ef->f\", usage, expert_dimensionalities)\n",
    "    return usage, torch.round(global_dims_new, decimals=3)"
   ]
  },
  {
   "cell_type": "code",
   "execution_count": 27,
   "id": "55c216e5",
   "metadata": {},
   "outputs": [
    {
     "name": "stdout",
     "output_type": "stream",
     "text": [
      "Usage: tensor([0.2207, 0.1406, 0.3037, 0.3350])\n",
      "Global feature dims: tensor([0.6680, 0.6680, 0.6690, 0.5690, 0.6160, 0.5060, 0.5340, 0.2000, 0.2150,\n",
      "        0.3110, 0.0010, 0.0410, 0.0000, 0.0010, 0.0000, 0.0000, 0.0000, 0.0000,\n",
      "        0.0000, 0.0000], grad_fn=<RoundBackward1>)\n",
      "Usage mean: 0.25, median: 0.220703125\n",
      "Global feature dims mean: 0.24995000660419464, median: 0.04100000113248825\n",
      "Number of features represented: 10\n"
     ]
    }
   ],
   "source": [
    "usage, global_feature_dims = global_feature_dimensionality(model)\n",
    "print(f\"Usage: {usage}\")\n",
    "print(f\"Global feature dims: {global_feature_dims}\")\n",
    "print(f\"Usage mean: {usage.mean()}, median: {usage.median()}\")\n",
    "print(f\"Global feature dims mean: {global_feature_dims.mean()}, median: {global_feature_dims.median()}\")\n",
    "sums = (global_feature_dims > 0.05).sum()\n",
    "print(f\"Number of features represented: {sums}\")"
   ]
  },
  {
   "cell_type": "markdown",
   "id": "616744f1",
   "metadata": {},
   "source": [
    "global dimensionality of feature $i$ is given by:\n",
    "\n",
    "$$\n",
    "D_i^{\\text{global}} = \\sum_e S_i^{(e)} \\cdot D_i^{(e)}\n",
    "$$\n",
    "\n",
    "where:\n",
    "\n",
    "- $D_i^{(e)}$ is the dimensionality of feature $i$ in expert $e$  \n",
    "- $S_i^{(e)}$ is the specialization of feature $i$ to expert $e$\n"
   ]
  },
  {
   "cell_type": "code",
   "execution_count": 39,
   "id": "fd9fec9c",
   "metadata": {},
   "outputs": [],
   "source": [
    "def weighted_global_dim(model):\n",
    "    \"\"\"weighted global feature dimensionality\"\"\"\n",
    "    D = expert_feat_dimensionality(model)\n",
    "    S = feature_specialization(model)\n",
    "    D_global = torch.sum(S * D, dim=0) # n_features\n",
    "    return torch.round(D_global, decimals=3)"
   ]
  },
  {
   "cell_type": "code",
   "execution_count": 40,
   "id": "06e02ad3",
   "metadata": {},
   "outputs": [
    {
     "data": {
      "text/plain": [
       "tensor([0.6250, 0.6250, 0.6430, 0.6230, 0.6270, 0.5070, 0.6610, 0.4170, 0.4250,\n",
       "        0.4680, 0.0010, 0.2850, 0.0000, 0.0040, 0.0010, 0.0000, 0.0000, 0.0000,\n",
       "        0.0000, 0.0010], grad_fn=<RoundBackward1>)"
      ]
     },
     "execution_count": 40,
     "metadata": {},
     "output_type": "execute_result"
    }
   ],
   "source": [
    "weighted_global_dim(model)"
   ]
  },
  {
   "cell_type": "markdown",
   "id": "16f586b5",
   "metadata": {},
   "source": [
    "global Feature Dimensionality for feature $i$ is given by:\n",
    "\n",
    "$$\n",
    "D_i^{\\text{global}} \\;=\\; \\sum_{e} \\alpha_i^{(e)} \\cdot D_i^{(e)}\n",
    "$$\n",
    "\n",
    "where:\n",
    "\n",
    "- $D_i^{(e)}$ = dimensionality of feature $i$ in expert $e$  \n",
    "- $\\alpha_i^{(e)}$ = activation rate of expert $e$ **given** that feature $i$ is present:\n",
    "$$\n",
    "\\alpha_i^{(e)} \\;=\\; \\frac{\\text{\\# times expert $e$ active when feature $i$ present}}{\\text{\\# times feature $i$ present}}\n",
    "$$\n",
    "\n",
    "measures how much each expert contributes to representing feature \\(i\\), weighted by the feature-specific routing frequency.\n"
   ]
  },
  {
   "cell_type": "code",
   "execution_count": null,
   "id": "12de10e7",
   "metadata": {},
   "outputs": [],
   "source": [
    "def global_feat_dim(model, input_features=None, n_batch=1024):\n",
    "    \"\"\"\n",
    "    compute global feature dimensionality for MoE model.\n",
    "    \n",
    "    D_i^global = Σ_e alpha_i^(e) · D_i^(e)\n",
    "    \n",
    "    where:\n",
    "    - D_i^(e) is dimensionality of feature i in expert e\n",
    "    - alpha_i^(e) is feature-specific activation rate of expert e for feature i\n",
    "    \"\"\"\n",
    "    if input_features is None:\n",
    "        input_features = model.generate_batch(n_batch)\n",
    "    \n",
    "    # expert dimensionalities D_i^(e) for all features and experts\n",
    "    expert_dims = expert_feat_dimensionality(model) # [n_experts, n_features]\n",
    "    \n",
    "    # expert activation patterns\n",
    "    expert_weights, top_k_indices, _ = model.compute_active_experts(input_features)\n",
    "    # expert_weights: [n_batch, n_experts]\n",
    "    # top_k_indices: [n_batch, n_active_experts]\n",
    "    \n",
    "    # binary activation mask for all experts\n",
    "    # active_mask[b, e] = 1 if expert e is active for batch b, 0 otherwise\n",
    "    active_mask = torch.zeros_like(expert_weights)  # [n_batch, n_experts]\n",
    "    active_mask = active_mask.scatter(-1, top_k_indices, 1.0)\n",
    "    \n",
    "    # feature-specific activation rates α_i^(e)\n",
    "    # for each feature i, we need the activation rate of expert e \n",
    "    # only when feature i is present (non-zero)\n",
    "    \n",
    "    # which batch examples have each feature present\n",
    "    feature_present = (input_features > 0).float()  # [n_batch, n_features]\n",
    "    \n",
    "    # Count how many times each feature appears\n",
    "    feature_counts = torch.sum(feature_present, dim=0)  # [n_features]\n",
    "    \n",
    "    # for each feature i and expert e, count how often expert e is active when feature i is present\n",
    "    # feature_present: [n_batch, n_features]\n",
    "    # active_mask: [n_batch, n_experts]\n",
    "    \n",
    "    # [n_batch, n_features, 1] * [n_batch, 1, n_experts]\n",
    "    feature_expert_cooccurrence = torch.einsum('bf,be->fe', feature_present, active_mask)\n",
    "    \n",
    "    # activation rates α_i^(e) = cooccurrence / feature_counts\n",
    "    # handle division by zero for features that never appear\n",
    "    alpha = torch.where(\n",
    "        feature_counts.unsqueeze(-1) > 0,\n",
    "        feature_expert_cooccurrence / feature_counts.unsqueeze(-1),\n",
    "        torch.zeros_like(feature_expert_cooccurrence)\n",
    "    )  # [n_features, n_experts]\n",
    "    \n",
    "    # global dimensionality D_i^global = Σ_e α_i^(e) · D_i^(e)\n",
    "    # alpha: [n_features, n_experts]\n",
    "    # expert_dims: [n_experts, n_features] -> transpose to [n_features, n_experts]\n",
    "    global_dims = torch.sum(alpha * expert_dims.T, dim=-1)  # [n_features]\n",
    "    \n",
    "    return torch.round(global_dims, decimals=3)"
   ]
  },
  {
   "cell_type": "code",
   "execution_count": 38,
   "id": "ea6d42ba",
   "metadata": {},
   "outputs": [
    {
     "data": {
      "text/plain": [
       "tensor([0.8210, 0.8180, 0.7640, 0.7850, 0.7360, 0.5090, 0.7320, 0.3690, 0.3590,\n",
       "        0.3470, 0.0010, 0.1790, 0.0000, 0.0020, 0.0000, 0.0000, 0.0000, 0.0000,\n",
       "        0.0000, 0.0000], grad_fn=<RoundBackward1>)"
      ]
     },
     "execution_count": 38,
     "metadata": {},
     "output_type": "execute_result"
    }
   ],
   "source": [
    "global_feat_dim(model, n_batch=1024)"
   ]
  },
  {
   "cell_type": "code",
   "execution_count": null,
   "id": "6edd4211",
   "metadata": {},
   "outputs": [],
   "source": []
  }
 ],
 "metadata": {
  "kernelspec": {
   "display_name": "venv",
   "language": "python",
   "name": "python3"
  },
  "language_info": {
   "codemirror_mode": {
    "name": "ipython",
    "version": 3
   },
   "file_extension": ".py",
   "mimetype": "text/x-python",
   "name": "python",
   "nbconvert_exporter": "python",
   "pygments_lexer": "ipython3",
   "version": "3.12.8"
  }
 },
 "nbformat": 4,
 "nbformat_minor": 5
}
